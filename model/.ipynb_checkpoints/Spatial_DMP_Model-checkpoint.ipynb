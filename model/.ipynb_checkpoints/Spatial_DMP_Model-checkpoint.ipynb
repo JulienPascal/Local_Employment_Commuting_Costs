{
 "cells": [
  {
   "cell_type": "markdown",
   "id": "8fe207bd",
   "metadata": {},
   "source": [
    "# Local Employment Dynamics and Commuting Costs\n",
    "\n",
    "See the paper: https://papers.ssrn.com/sol3/papers.cfm?abstract_id=4514106\n",
    "\n",
    "## Model\n",
    "\n",
    "This notebook creates results appearing in section 6 of the paper. The model is a simplified version of a Diamond-Mortensen-Pissarides (DMP)\n",
    "model (Pissarides, 2000), where the spatial dimension enters through the condition that\n",
    "utility should be equalized across space, as in Rosen (1979) and Roback (1982).\n",
    "\n",
    "\n",
    "The model is solved using [Julia](https://julialang.org/).\n",
    "\n",
    "## Structure of this notebook\n",
    "\n",
    "    # 0. Dependencies\n",
    "    # I. Calibration\n",
    "    # II. Simulate FTZ reform\n",
    "    # III. Visualize FTZ reform"
   ]
  },
  {
   "cell_type": "markdown",
   "id": "2d55f231",
   "metadata": {},
   "source": [
    "# 0. Dependencies"
   ]
  },
  {
   "cell_type": "code",
   "execution_count": 1,
   "id": "a7cb3a21",
   "metadata": {},
   "outputs": [
    {
     "name": "stdout",
     "output_type": "stream",
     "text": [
      "Julia Version 1.7.1\n",
      "Commit ac5cc99908 (2021-12-22 19:35 UTC)\n",
      "Platform Info:\n",
      "  OS: Linux (x86_64-pc-linux-gnu)\n",
      "  CPU: Intel(R) Core(TM) i7-8850H CPU @ 2.60GHz\n",
      "  WORD_SIZE: 64\n",
      "  LIBM: libopenlibm\n",
      "  LLVM: libLLVM-12.0.1 (ORCJIT, skylake)\n",
      "Environment:\n",
      "  JULIA_NUM_THREADS = 4\n"
     ]
    }
   ],
   "source": [
    "versioninfo()"
   ]
  },
  {
   "cell_type": "code",
   "execution_count": 2,
   "id": "f019d9e1",
   "metadata": {},
   "outputs": [],
   "source": [
    "using Parameters\n",
    "using Plots\n",
    "using Distributions\n",
    "using Optim\n",
    "using LaTeXStrings"
   ]
  },
  {
   "cell_type": "markdown",
   "id": "18c75495",
   "metadata": {},
   "source": [
    "## I. Calibration"
   ]
  },
  {
   "cell_type": "markdown",
   "id": "67d1dc23",
   "metadata": {},
   "source": [
    "### Value of home production"
   ]
  },
  {
   "cell_type": "code",
   "execution_count": 3,
   "id": "a315a51d",
   "metadata": {},
   "outputs": [
    {
     "name": "stdout",
     "output_type": "stream",
     "text": [
      "Home production in city 1: 0.9\n",
      "Home production in city 2: 0.825\n",
      "Amenities city 2/amenities city 1: 0.5\n"
     ]
    }
   ],
   "source": [
    "y = 1.0 # value of output\n",
    "b_1 = 0.9*y #fix the value of home production (leisure + unemployment benefits) in city 1\n",
    "\n",
    "## Assume a 75%, 25% split between unemployment benefits and amenities\n",
    "ub = 1.0 \n",
    "a_1 = 4*(b_1 - (3/4)*ub) \n",
    "\n",
    "a_2 = 0.5*a_1\n",
    "b_2 = (3/4)*ub + (1/4)*a_2\n",
    "\n",
    "println(\"Home production in city 1: $(b_1)\")\n",
    "println(\"Home production in city 2: $(b_2)\")\n",
    "println(\"Amenities city 2/amenities city 1: $(a_2/a_1)\")"
   ]
  },
  {
   "cell_type": "markdown",
   "id": "2079a895",
   "metadata": {},
   "source": [
    "### Commuting costs"
   ]
  },
  {
   "cell_type": "code",
   "execution_count": 4,
   "id": "1c143cd3",
   "metadata": {},
   "outputs": [
    {
     "name": "stdout",
     "output_type": "stream",
     "text": [
      "Time cost fare area 3: 192.4333333333333 euros monthly\n",
      "Time cost fare area 1-2: 115.46000000000001 euros monthly\n"
     ]
    }
   ],
   "source": [
    "# 230 days commmuting (5 weeks of paid holidays in France)\n",
    "# one return trip per day\n",
    "# Average commuting time in fare 3: 40 mintues\n",
    "# Average commuting time in fare area 2-3: 24 minutes\n",
    "\n",
    "nb_days = 230\n",
    "nb_trips_per_day = 2\n",
    "minutes_per_trip_2 = 40 #minutes in fare area 3\n",
    "minutes_per_trip_1 = 24 #minutes in fare area 1-2\n",
    "\n",
    "# Net minimum wage in euros (2015): 9.61 euros per hour\n",
    "# Cotisations salariales obligatoires (21,66%)\n",
    "# 9.61*(1 - 21.66/100) ~ 7.53\n",
    "# Source: https://www.smic-horaire.fr/\n",
    "cost_per_minutes = 7.53\n",
    "\n",
    "# Time cost per month\n",
    "time_cost_2 = (nb_trips_per_day*(minutes_per_trip_2/60)*cost_per_minutes)*(nb_days/360)*30\n",
    "time_cost_1 = (nb_trips_per_day*(minutes_per_trip_1/60)*cost_per_minutes)*(nb_days/360)*30\n",
    "\n",
    "println(\"Time cost fare area 3: $(time_cost_2) euros monthly\")\n",
    "println(\"Time cost fare area 1-2: $(time_cost_1) euros monthly\")"
   ]
  },
  {
   "cell_type": "code",
   "execution_count": 5,
   "id": "62426210",
   "metadata": {},
   "outputs": [
    {
     "name": "stdout",
     "output_type": "stream",
     "text": [
      "Total commuting cost fare area 3 t0: 281.6333333333333 euros monthly\n",
      "Total commuting cost fare area 3 t1: 262.4333333333333 euros monthly\n",
      "Total commuting cost fare area 1-2 t0: 185.46 euros monthly\n",
      "Total commuting cost fare area 1-2 t1: 185.46 euros monthly\n"
     ]
    }
   ],
   "source": [
    "travel_card_2_t0 = 89.20\n",
    "travel_card_2_t1 = 70.00\n",
    "\n",
    "travel_card_1_t0 = 70.00\n",
    "travel_card_1_t1 = 70.00\n",
    "\n",
    "total_commuting_cost_2_t0 = time_cost_2 + travel_card_2_t0\n",
    "total_commuting_cost_2_t1 = time_cost_2 + travel_card_2_t1\n",
    "total_commuting_cost_1_t0 = time_cost_1 + travel_card_1_t0\n",
    "total_commuting_cost_1_t1 = time_cost_1 + travel_card_1_t1\n",
    "\n",
    "println(\"Total commuting cost fare area 3 t0: $(total_commuting_cost_2_t0) euros monthly\")\n",
    "println(\"Total commuting cost fare area 3 t1: $(total_commuting_cost_2_t1) euros monthly\")\n",
    "println(\"Total commuting cost fare area 1-2 t0: $(total_commuting_cost_1_t0) euros monthly\")\n",
    "println(\"Total commuting cost fare area 1-2 t1: $(total_commuting_cost_1_t1) euros monthly\")"
   ]
  },
  {
   "cell_type": "markdown",
   "id": "056bac0f",
   "metadata": {},
   "source": [
    "### Empirical wage\n",
    "\n",
    "* Source: https://www.insee.fr/fr/statistiques/3676648?sommaire=3696937\n",
    "* See \"Figure 6 – Distribution des salaires mensuels nets en 2015 \"\n",
    "\n",
    "\"\"Champ : France hors Mayotte, salariés en EQTP du secteur privé et des entreprises publiques, y c. bénéficiaires de contrats aidés et de contrats de professionnalisation. Sont exclus les apprentis, stagiaires, salariés agricoles et salariés des particuliers employeurs.\n",
    "Lecture : en 2015, 10 % des salariés en équivalent temps plein du secteur privé et des entreprises publiques, y c. bénéficiaires de contrats aidés et de contrats de professionnalisation, gagnent un salaire mensuel net inférieur à 1 213 euros.\"\" \n",
    "\n",
    "Formula:\n",
    "\n",
    "\n",
    "$$ w(l) = b(l) + (\\alpha - \\mu)*c(l) $$ \n",
    "$$ w(l)/c(l) = b(l)/c(l) + (\\alpha - \\mu) $$ \n",
    "$$ 1800/185 = b(l)/c(l) + (\\alpha - \\mu)$$ \n",
    "$$ 1800/185 - (\\alpha - \\mu) = b(l)/c(l)$$ \n",
    "$$ c(l) = b(l)/(1800/185 - (\\alpha - \\mu))$$ "
   ]
  },
  {
   "cell_type": "code",
   "execution_count": 6,
   "id": "4f5764ab",
   "metadata": {},
   "outputs": [
    {
     "name": "stdout",
     "output_type": "stream",
     "text": [
      "Total commuting cost fare area 3 t0 (in utility): 0.1453081413147042 monthly\n",
      "Total commuting cost fare area 3 t1 (in utility): 0.135401940652227 monthly\n",
      "Total commuting cost fare area 1-2 t0 (in utility): 0.09568770702411543 monthly\n",
      "Total commuting cost fare area 1-2 t1 (in utility): 0.09568770702411543 monthly\n"
     ]
    }
   ],
   "source": [
    "empirical_wage_commuting = 1800\n",
    "alpha = 1/2 #half of the commuting costs paid by workers\n",
    "mu = 1/5 #commuting to the city center for the unemployed workers one day a week (as in Wasmer-Zenou 2002)\n",
    "c_1_t0 = b_1/(empirical_wage_commuting/total_commuting_cost_1_t0 - (alpha - mu))\n",
    "c_1_t1 = c_1_t0\n",
    "\n",
    "c_2_t0 = (total_commuting_cost_2_t0/total_commuting_cost_1_t0)*c_1_t0\n",
    "c_2_t1 = (total_commuting_cost_2_t1/total_commuting_cost_1_t1)*c_1_t0\n",
    "\n",
    "println(\"Total commuting cost fare area 3 t0 (in utility): $(c_2_t0) monthly\")\n",
    "println(\"Total commuting cost fare area 3 t1 (in utility): $(c_2_t1) monthly\")\n",
    "println(\"Total commuting cost fare area 1-2 t0 (in utility): $(c_1_t0) monthly\")\n",
    "println(\"Total commuting cost fare area 1-2 t1 (in utility): $(c_1_t1) monthly\")"
   ]
  },
  {
   "cell_type": "markdown",
   "id": "e833b986",
   "metadata": {},
   "source": [
    "### Wage to rent ratio in Paris\n",
    "\n",
    "Source: Marchiori-Pascal-Pierrard (2023): https://doi.org/10.1016/j.regsciurbeco.2023.103936\n",
    "rent = 37/100 wage\n",
    "\n"
   ]
  },
  {
   "cell_type": "code",
   "execution_count": 7,
   "id": "f82d5c52",
   "metadata": {},
   "outputs": [
    {
     "name": "stdout",
     "output_type": "stream",
     "text": [
      "Rent in city 1: 0.3436213354796768\n"
     ]
    }
   ],
   "source": [
    "empirical_wage_rent_ratio = 37/100\n",
    "w_1 = b_1 + (alpha - mu)*c_1_t0\n",
    "r_1 = empirical_wage_rent_ratio*(w_1)\n",
    "\n",
    "println(\"Rent in city 1: $(r_1)\")"
   ]
  },
  {
   "cell_type": "code",
   "execution_count": 8,
   "id": "9424493c",
   "metadata": {
    "scrolled": true
   },
   "outputs": [
    {
     "data": {
      "text/plain": [
       "Params"
      ]
     },
     "execution_count": 8,
     "metadata": {},
     "output_type": "execute_result"
    }
   ],
   "source": [
    "# to store parameters\n",
    "mutable struct Params\n",
    "    r_yearly::Float64 #yearly discount factor (%)\n",
    "    r::Float64 #convert to montly discount factor\n",
    "    y::Float64 #value of output\n",
    "    b_1::Float64 #value of home production in fare area 1-2\n",
    "    b_2::Float64 #value of home production in fare area 3\n",
    "    alpha::Float64 #share of commuting paid by workers\n",
    "    mu::Float64 #relative frequency of going to the city center for unemployed workers (vs employed workers)\n",
    "    c_1::Float64  #commuting costs in fare area 1-2\n",
    "    c_2::Float64  #commuting costs in fare area 3\n",
    "    r1_w1::Float64  #ratio rent-to-wage in fare area 1-2 (empirical)\n",
    "    mu_p::Float64 # Parameter for the distribution of idiosyncratic productivities (mean) \n",
    "    sigma_p::Float64 # Parameter for the distribution of idiosyncratic productivities (standard deviation)\n",
    "    delta::Float64 #monthly job desctruction rate\n",
    "    d_normal::Normal{Float64} \n",
    "    chi::Float64 #efficiency parameter for the matching function\n",
    "    eta::Float64  #elasticty of the matching function with respect to change in Unemployment\n",
    "    one_min_eta::Float64 \n",
    "    kappa::Float64 # cost of posting vacancies\n",
    "end\n",
    "\n",
    "# Constructor for parameters\n",
    "function Params(;\n",
    "    r_yearly = 0.04, #yearly discount factor (%)\n",
    "    r=(1 + r_yearly)^(1/12) - 1, #convert to montly discount factor\n",
    "    y= 1.0, #value of output\n",
    "    b_1 = 0.9*y, #value of home production in fare area 1-2\n",
    "    b_2 = 0.825*y, #value of home production in fare area 3\n",
    "    alpha = 0.5, #share of commuting paid by workers\n",
    "    mu= 1/5, #relative frequency of going to the city center for unemployed workers (vs employed workers)\n",
    "    c_1 = 0.09568770702411543, #commuting costs in fare area 1-2\n",
    "    c_2 = 0.1453081413147042, #commuting costs in fare area 3\n",
    "    r1_w1 = 0.37, #ratio rent-to-wage in fare area 1-2 (empirical)\n",
    "    mu_p = 0.0, # Parameter for the distribution of idiosyncratic productivities (mean) \n",
    "    sigma_p = 1.0, # Parameter for the distribution of idiosyncratic productivities (standard deviation)\n",
    "    delta= 0.012, #monthly job desctruction rate\n",
    "    d_normal = Normal(),\n",
    "    chi = 1.0, #efficiency parameter for the matching function\n",
    "    eta = 0.5, #elasticty of the matching function with respect to change in Unemployment\n",
    "    one_min_eta = 1.0 - eta,\n",
    "    kappa = 0.1*y, # cost of posting vacancies\n",
    "    )\n",
    "\n",
    "    Params(r_yearly,  #yearly discount factor (%)\n",
    "        r, #convert to montly discount factor\n",
    "        y, #value of output\n",
    "        b_1, #value of home production in fare area 1-2\n",
    "        b_2, #value of home production in fare area 3\n",
    "        alpha, #share of commuting paid by workers\n",
    "        mu, #relative frequency of going to the city center for unemployed workers (vs employed workers)\n",
    "        c_1, #commuting costs in fare area 1-2\n",
    "        c_2, #commuting costs in fare area 3\n",
    "        r1_w1, #ratio rent-to-wage in fare area 1-2 (empirical)\n",
    "        mu_p, # Parameter for the distribution of idiosyncratic productivities (mean) \n",
    "        sigma_p, # Parameter for the distribution of idiosyncratic productivities (standard deviation)\n",
    "        delta, #monthly job desctruction rate\n",
    "        d_normal,\n",
    "        chi, #efficiency parameter for the matching function\n",
    "        eta, #elasticty of the matching function with respect to change in Unemployment\n",
    "        one_min_eta,\n",
    "        kappa # cost of posting vacancies\n",
    "    )\n",
    "    \n",
    "end"
   ]
  },
  {
   "cell_type": "code",
   "execution_count": 9,
   "id": "7e29a0ec",
   "metadata": {},
   "outputs": [
    {
     "data": {
      "text/plain": [
       "targets"
      ]
     },
     "execution_count": 9,
     "metadata": {},
     "output_type": "execute_result"
    }
   ],
   "source": [
    "# to store targets when calibrating\n",
    "@with_kw mutable struct targets\n",
    "    f::Float64 = 0.075 #monthly job finding rate.\n",
    "    q::Float64 = 1/2 #job filling rate (monthly). \n",
    "    theta::Float64 = 1/2 #labor market tightness.\n",
    "end"
   ]
  },
  {
   "cell_type": "code",
   "execution_count": 10,
   "id": "777993db",
   "metadata": {},
   "outputs": [
    {
     "data": {
      "text/plain": [
       "wage"
      ]
     },
     "execution_count": 10,
     "metadata": {},
     "output_type": "execute_result"
    }
   ],
   "source": [
    "\"\"\"\n",
    "    wage(b::Float64, alpha::Float64, mu::Float64, c::Float64)\n",
    "\n",
    "Calculate the wage in a given city.\n",
    "\n",
    "# Arguments\n",
    "- `b::Float64`: Value of home production.\n",
    "- `alpha::Float64`: Share of commuting costs paid by workers.\n",
    "- `mu::Float64`: Relative frequency of commuting to the city center for unemployed workers.\n",
    "- `c::Float64`: Commuting costs.\n",
    "\n",
    "# Returns\n",
    "- `Float64`: Wage in the given city, calculated as `b + (alpha - mu)*c`.\n",
    "\"\"\"\n",
    "function wage(b::Float64, alpha::Float64, mu::Float64, c::Float64)\n",
    "    return b + (alpha - mu)*c\n",
    "end\n"
   ]
  },
  {
   "cell_type": "code",
   "execution_count": 11,
   "id": "3b916ce4",
   "metadata": {},
   "outputs": [
    {
     "data": {
      "text/plain": [
       "wage_tilde"
      ]
     },
     "execution_count": 11,
     "metadata": {},
     "output_type": "execute_result"
    }
   ],
   "source": [
    "\"\"\"\n",
    "    wage_tilde(b::Float64, mu::Float64, c::Float64)\n",
    "\n",
    "Calculate the reservation wage in a given city.\n",
    "\n",
    "# Arguments\n",
    "- `b::Float64`: Value of home production.\n",
    "- `mu::Float64`: Relative frequency of commuting to the city center for unemployed workers.\n",
    "- `c::Float64`: Commuting costs.\n",
    "\n",
    "# Returns\n",
    "- `Float64`: Reservation wage in the given city, calculated as `b + (1.0 - mu)*c`.\n",
    "\"\"\"\n",
    "function wage_tilde(b::Float64, mu::Float64, c::Float64)\n",
    "    return b + (1.0 - mu)*c\n",
    "end\n"
   ]
  },
  {
   "cell_type": "code",
   "execution_count": 12,
   "id": "d1ec8f0a",
   "metadata": {},
   "outputs": [
    {
     "data": {
      "text/plain": [
       "E_p"
      ]
     },
     "execution_count": 12,
     "metadata": {},
     "output_type": "execute_result"
    }
   ],
   "source": [
    "\"\"\"\n",
    "    E_p(mu_p, sigma_p, w_tilde, y)\n",
    "\n",
    "Calculate the expected value for `p`, conditional on `p*y` being greater than the reservation wage (`w_tilde`). \n",
    "Assumes that `p` follows a normal distribution with mean `mu_p` and standard deviation `sigma_p`.\n",
    "\n",
    "# Arguments\n",
    "- `mu_p`: Mean value for `p`.\n",
    "- `sigma_p`: Standard deviation for `p`.\n",
    "- `w_tilde`: Reservation wage.\n",
    "- `y`: Value of output.\n",
    "\n",
    "# Returns\n",
    "- Expected value for `p`, given the condition `p*y` > `w_tilde`.\n",
    "\n",
    "# Notes\n",
    "The function calculates the critical value and uses the PDF and CDF of the normal distribution.\n",
    "\"\"\"\n",
    "function E_p(mu_p, sigma_p, w_tilde, y)\n",
    "    c = ((w_tilde/y) - mu_p)/sigma_p\n",
    "    dist = Normal()\n",
    "    return mu_p + sigma_p*pdf(dist, c)/(1.0 - cdf(dist, c))\n",
    "end\n"
   ]
  },
  {
   "cell_type": "code",
   "execution_count": 13,
   "id": "30c88b7b",
   "metadata": {},
   "outputs": [
    {
     "data": {
      "text/plain": [
       "Models"
      ]
     },
     "execution_count": 13,
     "metadata": {},
     "output_type": "execute_result"
    }
   ],
   "source": [
    "# to store the model\n",
    "mutable struct Models\n",
    "    p::Params #store parameter values\n",
    "    w_1::Array{Float64} #wage in fare area 1\n",
    "    w_2::Array{Float64} #wage in fare area 2\n",
    "    w_tilde_1::Array{Float64}  # reservation wage in fare area 1\n",
    "    w_tilde_2::Array{Float64}  # reservation wage in fare area 2\n",
    "    # Mean values of output\n",
    "    E_p_1::Array{Float64} \n",
    "    E_p_2::Array{Float64} \n",
    "    # Mean value\n",
    "    r_1::Array{Float64}  #rent in fare area 1\n",
    "    r_2::Array{Float64}  #rent in fare area 2\n",
    "    # Labor market tightness\n",
    "    theta_1::Array{Float64} \n",
    "    theta_2::Array{Float64} \n",
    "    # Measure of unemployed workers\n",
    "    u_1::Array{Float64} \n",
    "    u_2::Array{Float64}\n",
    "    # Value functions unemployed\n",
    "    B_1::Array{Float64}\n",
    "    B_2::Array{Float64}\n",
    "end\n",
    "\n",
    "# Constructor for models\n",
    "function Models(p::Params)\n",
    "\n",
    "    # Initialization\n",
    "    w_1 = zeros(1)\n",
    "    w_2 = zeros(1)\n",
    "\n",
    "    # Calculate reservation wage\n",
    "    w_tilde_1 = zeros(1)\n",
    "    w_tilde_2 = zeros(1)\n",
    "\n",
    "    # Calculate the expected value of output:\n",
    "    # Let's assume a Normal distribution of p\n",
    "    # This gives rise to a truncated normal\n",
    "    # Closed form formula available: https://en.wikipedia.org/wiki/Truncated_normal_distribution\n",
    "    #-------------------------------------------------------------------------------------------\n",
    "    E_p_1 = zeros(1)\n",
    "    E_p_2 = zeros(1)\n",
    "\n",
    "    # Calculate rent\n",
    "    r_1 = zeros(1)\n",
    "\n",
    "    # Rent in fare area 3 needs to adjust in order to the value of unemployment to clear\n",
    "    # Calculated after \n",
    "    r_2 = zeros(1) #initialization\n",
    "    \n",
    "    # market tightness\n",
    "    theta_1 = zeros(1) #initialization\n",
    "    theta_2 = zeros(1) #initialization\n",
    "    \n",
    "    # Measure of unemploymed workers\n",
    "    u_1 = zeros(1)\n",
    "    u_2 = zeros(1)\n",
    "    \n",
    "    B_1= zeros(1)\n",
    "    B_2= zeros(1)\n",
    "    \n",
    "        Models(\n",
    "        p,\n",
    "        w_1,\n",
    "        w_2,\n",
    "        w_tilde_1,\n",
    "        w_tilde_2,\n",
    "        E_p_1,\n",
    "        E_p_2,\n",
    "        r_1,\n",
    "        r_2,\n",
    "        theta_1,\n",
    "        theta_2,\n",
    "        u_1,\n",
    "        u_2,\n",
    "        B_1,\n",
    "        B_2)\n",
    "\n",
    "end"
   ]
  },
  {
   "cell_type": "code",
   "execution_count": 14,
   "id": "0ac47788",
   "metadata": {},
   "outputs": [
    {
     "data": {
      "text/plain": [
       "eq_theta"
      ]
     },
     "execution_count": 14,
     "metadata": {},
     "output_type": "execute_result"
    }
   ],
   "source": [
    "\"\"\"\n",
    "    eq_theta(w_tilde::Float64, E_p::Float64, p::Params)\n",
    "\n",
    "Calculate the ratio of `V` to `U`, denoted as `theta`, based on the reservation wage, expected value of `p`, and specific parameters.\n",
    "\n",
    "# Arguments\n",
    "- `w_tilde::Float64`: Reservation wage.\n",
    "- `E_p::Float64`: Expected value for `p`.\n",
    "- `p::Params`: A structure containing specific parameters. \n",
    "\n",
    "# Returns\n",
    "- `Float64`: The calculated value of `theta`, representing the ratio of `V` to `U`.\n",
    "\n",
    "\"\"\"\n",
    "function eq_theta(w_tilde::Float64, E_p::Float64, p::Params)\n",
    "    c = ((w_tilde/p.y) - p.mu_p)/p.sigma_p\n",
    "    return (((E_p - w_tilde)*(p.chi*(1.0 - cdf(p.d_normal, c))))/((p.r + p.delta)*p.kappa))^(1/p.eta)\n",
    "end\n"
   ]
  },
  {
   "cell_type": "code",
   "execution_count": 15,
   "id": "35259c39",
   "metadata": {},
   "outputs": [
    {
     "data": {
      "text/plain": [
       "BC_u"
      ]
     },
     "execution_count": 15,
     "metadata": {},
     "output_type": "execute_result"
    }
   ],
   "source": [
    "\"\"\"\n",
    "    BC_u(w_tilde::Float64, theta::Float64, p::Params)\n",
    "\n",
    "Calculate the measure of unemployed workers, assuming a Cobb-Douglas matching function in the labor market. \n",
    "The function is based on the Beveridge curve (BC) and considers labor market tightness (`theta`) and reservation wage (`w_tilde`).\n",
    "\n",
    "# Arguments\n",
    "- `w_tilde::Float64`: Reservation wage.\n",
    "- `theta::Float64`: Labor market tightness, representing the ratio of `V` to `U`.\n",
    "- `p::Params`: A structure containing specific parameters, including:\n",
    "    * `y::Float64`: Value of output.\n",
    "    * `mu_p::Float64`: Mean of the distribution of idiosyncratic productivities.\n",
    "    * `sigma_p::Float64`: Standard deviation of the distribution of idiosyncratic productivities.\n",
    "    * `d_normal::Normal{Float64}`: Normal distribution object.\n",
    "    * `delta::Float64`: Monthly job destruction rate.\n",
    "    * `chi::Float64`: Efficiency parameter for the matching function.\n",
    "    * `eta::Float64`: Elasticity of the matching function with respect to change in Unemployment.\n",
    "\n",
    "# Returns\n",
    "- `Float64`: The measure of unemployed workers, given the specified labor market tightness and reservation wage.\n",
    "\n",
    "\"\"\"\n",
    "function BC_u(w_tilde::Float64, theta::Float64, p::Params)\n",
    "    c = ((w_tilde/p.y) - p.mu_p)/p.sigma_p\n",
    "    return p.delta/(p.delta + (p.chi*theta^(1.0 - p.eta))*(1.0 - cdf(p.d_normal, c)))\n",
    "end\n"
   ]
  },
  {
   "cell_type": "code",
   "execution_count": 16,
   "id": "0c120207",
   "metadata": {},
   "outputs": [
    {
     "data": {
      "text/plain": [
       "Find_equilibrium! (generic function with 1 method)"
      ]
     },
     "execution_count": 16,
     "metadata": {},
     "output_type": "execute_result"
    }
   ],
   "source": [
    "# Solve the model\n",
    "function Find_equilibrium!(m::Models)\n",
    "\n",
    "    # 1. solve the wage equations\n",
    "    #---------------------------\n",
    "    # Calculate wage\n",
    "    m.w_1[1] = wage(m.p.b_1, m.p.alpha, m.p.mu, m.p.c_1)\n",
    "    m.w_2[1] = wage(m.p.b_2, m.p.alpha, m.p.mu, m.p.c_2)\n",
    "\n",
    "    # Calculate reservation wage\n",
    "    m.w_tilde_1[1] = wage_tilde(m.p.b_1, m.p.mu, m.p.c_1)\n",
    "    m.w_tilde_2[1] = wage_tilde(m.p.b_2, m.p.mu, m.p.c_2)\n",
    "\n",
    "    # Calculate the expected value of output:\n",
    "    # Let's assume a Normal distribution of p\n",
    "    # This gives rise to a truncated normal\n",
    "    # Closed form formula available: https://en.wikipedia.org/wiki/Truncated_normal_distribution\n",
    "    #-------------------------------------------------------------------------------------------\n",
    "    m.E_p_1[1] = E_p(m.p.mu_p, m.p.sigma_p, m.w_tilde_1[1], m.p.y)\n",
    "    m.E_p_2[1] = E_p(m.p.mu_p, m.p.sigma_p, m.w_tilde_2[1], m.p.y)\n",
    "\n",
    "    # Calculate rent\n",
    "    m.r_1[1] = m.p.r1_w1*m.w_1[1]\n",
    "\n",
    "    # Rent in fare area 3 needs to adjust in order to the value of unemployment to clear\n",
    "    # Calculated after \n",
    "\n",
    "    # 2. Solve for the job creation conditions\n",
    "    # => gives labor market tightness\n",
    "    # Closed form formula exists when using a Cobb-Douglas:\n",
    "    # q(theta) = chi (theta)^(-eta)\n",
    "    #-----------------------------------------------------\n",
    "    m.theta_1[1] = eq_theta(m.w_tilde_1[1], m.E_p_1[1], m.p)\n",
    "    m.theta_2[1] = eq_theta(m.w_tilde_2[1], m.E_p_2[1], m.p)\n",
    "\n",
    "    # 3. Find the measure of unemployed using the Beveridge curve\n",
    "    m.u_1[1]=BC_u(m.w_tilde_1[1], m.theta_1[1], m.p)\n",
    "    m.u_2[1]=BC_u(m.w_tilde_2[1], m.theta_2[1], m.p)\n",
    "\n",
    "    # 4. Find r_2 such that utility clears across space \n",
    "    m.B_1[1] = ((1.0 + m.p.r)/m.p.r)*(m.p.b_1 - m.p.mu*m.p.c_1 - m.r_1[1])\n",
    "    \n",
    "    # utility should clear -> gives r_2:\n",
    "    m.r_2[1] = m.p.b_2 - m.p.mu*m.p.c_2 -((m.p.r)/(1.0 + m.p.r))*m.B_1[1]\n",
    "    \n",
    "    # Check that utility clears\n",
    "    m.B_2[1] = ((1.0 + m.p.r)/m.p.r)*(m.p.b_2 - m.p.mu*m.p.c_2 - m.r_2[1])\n",
    "end"
   ]
  },
  {
   "cell_type": "code",
   "execution_count": 17,
   "id": "ca340287",
   "metadata": {},
   "outputs": [
    {
     "data": {
      "text/plain": [
       "Params(0.04, 0.0032737397821989145, 1.0, 0.9, 0.825, 0.5, 0.2, 0.09568770702411543, 0.1453081413147042, 0.37, 0.0, 1.0, 0.012, Normal{Float64}(μ=0.0, σ=1.0), 0.05, 0.5, 0.5, 65.0)"
      ]
     },
     "execution_count": 17,
     "metadata": {},
     "output_type": "execute_result"
    }
   ],
   "source": [
    "p = Params(chi = 0.05, eta=1/2, kappa=65)"
   ]
  },
  {
   "cell_type": "code",
   "execution_count": 18,
   "id": "849fa856",
   "metadata": {
    "scrolled": true
   },
   "outputs": [
    {
     "data": {
      "text/plain": [
       "Models(Params(0.04, 0.0032737397821989145, 1.0, 0.9, 0.825, 0.5, 0.2, 0.09568770702411543, 0.1453081413147042, 0.37, 0.0, 1.0, 0.012, Normal{Float64}(μ=0.0, σ=1.0), 0.05, 0.5, 0.5, 65.0), [0.0], [0.0], [0.0], [0.0], [0.0], [0.0], [0.0], [0.0], [0.0], [0.0], [0.0], [0.0], [0.0], [0.0])"
      ]
     },
     "execution_count": 18,
     "metadata": {},
     "output_type": "execute_result"
    }
   ],
   "source": [
    "m = Models(p)"
   ]
  },
  {
   "cell_type": "code",
   "execution_count": 19,
   "id": "bc14a0a1",
   "metadata": {
    "scrolled": false
   },
   "outputs": [
    {
     "name": "stdout",
     "output_type": "stream",
     "text": [
      "Job finding rate 3.605830352027508e-5\n",
      "Vacancy filling rate 1.8737728817424162\n",
      "Tightness 1.9243689494932047e-5\n",
      "Measure unemployed 0.997004143498563\n",
      "Measure unemployed 0.3436213354796768\n"
     ]
    }
   ],
   "source": [
    "Find_equilibrium!(m)\n",
    "\n",
    "# Job finding rate\n",
    "c = ((m.w_tilde_1[1]/p.y) - p.mu_p)/p.sigma_p\n",
    "j_model = (p.chi*m.theta_1[1]^(1.0 - p.eta))*(1.0 - cdf(p.d_normal, c))\n",
    "\n",
    "# Job filling rate\n",
    "q_model = (p.chi*m.theta_1[1]^(-p.eta))*(1.0 - cdf(p.d_normal, c))\n",
    "    \n",
    "println(\"Job finding rate $(j_model)\")\n",
    "println(\"Vacancy filling rate $(q_model)\")\n",
    "println(\"Tightness $(m.theta_1[1])\")\n",
    "println(\"Measure unemployed $(m.u_1[1])\")\n",
    "println(\"Measure unemployed $(m.r_1[1])\")"
   ]
  },
  {
   "cell_type": "code",
   "execution_count": 20,
   "id": "0f6fba95",
   "metadata": {},
   "outputs": [
    {
     "data": {
      "text/plain": [
       "obj_function (generic function with 1 method)"
      ]
     },
     "execution_count": 20,
     "metadata": {},
     "output_type": "execute_result"
    }
   ],
   "source": [
    "# Choose the monthly chi and kappa such that: \n",
    "# - the job finding rate is 7.5% (monthly)\n",
    "# - a vacancy filling rate of 1/2 (monthly)\n",
    "\n",
    "function obj_function(x, t::targets)\n",
    "    \n",
    "    p = Params(chi=x[1], eta=x[2], kappa=x[3])\n",
    "    m = Models(p)\n",
    "    Find_equilibrium!(m)\n",
    "    \n",
    "    # critical value\n",
    "    c = ((m.w_tilde_1[1]/p.y) - p.mu_p)/p.sigma_p\n",
    "    \n",
    "    # Job finding rate\n",
    "    j_model = (p.chi*m.theta_1[1]^(1.0 - p.eta))*(1.0 - cdf(p.d_normal, c))\n",
    "    \n",
    "    # Job filling rate\n",
    "    q_model = (p.chi*m.theta_1[1]^(-p.eta))*(1.0 - cdf(p.d_normal, c))\n",
    "    \n",
    "    # UR:\n",
    "    return sum([((j_model - t.f)/(t.f))^2; ((q_model - t.q)/(t.q))^2; ((m.u_1[1] - 0.124)/(0.124))^2])\n",
    "        \n",
    "end"
   ]
  },
  {
   "cell_type": "code",
   "execution_count": 21,
   "id": "14cc72aa",
   "metadata": {
    "scrolled": false
   },
   "outputs": [
    {
     "data": {
      "text/plain": [
       "58.11465894862557"
      ]
     },
     "execution_count": 21,
     "metadata": {},
     "output_type": "execute_result"
    }
   ],
   "source": [
    "t = targets()\n",
    "obj_function([p.chi, p.eta, p.kappa], t)"
   ]
  },
  {
   "cell_type": "code",
   "execution_count": 22,
   "id": "72e520f3",
   "metadata": {},
   "outputs": [
    {
     "data": {
      "text/plain": [
       " * Status: success\n",
       "\n",
       " * Candidate solution\n",
       "    Final objective value:     6.867886e-03\n",
       "\n",
       " * Found with\n",
       "    Algorithm:     Fminbox with L-BFGS\n",
       "\n",
       " * Convergence measures\n",
       "    |x - x'|               = 1.38e-06 ≰ 0.0e+00\n",
       "    |x - x'|/|x'|          = 7.92e-08 ≰ 0.0e+00\n",
       "    |f(x) - f(x')|         = 0.00e+00 ≤ 0.0e+00\n",
       "    |f(x) - f(x')|/|f(x')| = 0.00e+00 ≤ 0.0e+00\n",
       "    |g(x)|                 = 5.88e-09 ≤ 1.0e-08\n",
       "\n",
       " * Work counters\n",
       "    Seconds run:   1  (vs limit Inf)\n",
       "    Iterations:    2\n",
       "    f(x) calls:    243\n",
       "    ∇f(x) calls:   243\n"
      ]
     },
     "execution_count": 22,
     "metadata": {},
     "output_type": "execute_result"
    }
   ],
   "source": [
    "# Have eta included in the minimization\n",
    "# Params(chi=x[1], eta=x[2], kappa=x[3])\n",
    "lower = [0.001, 0.001, 0.001]\n",
    "upper = [1.0, 1.0, 50.0]\n",
    "\n",
    "res = optimize(x -> obj_function(x, t), lower, upper, [0.1, 0.2, 20.0], Fminbox())\n"
   ]
  },
  {
   "cell_type": "code",
   "execution_count": 23,
   "id": "4193c769",
   "metadata": {},
   "outputs": [
    {
     "data": {
      "text/plain": [
       "\"Fminbox with L-BFGS\""
      ]
     },
     "execution_count": 23,
     "metadata": {},
     "output_type": "execute_result"
    }
   ],
   "source": [
    "summary(res)"
   ]
  },
  {
   "cell_type": "code",
   "execution_count": 24,
   "id": "edac43f6",
   "metadata": {},
   "outputs": [
    {
     "data": {
      "text/plain": [
       "3-element Vector{Float64}:\n",
       "  0.7297390504991245\n",
       "  0.7740794017996296\n",
       " 17.344684789272407"
      ]
     },
     "execution_count": 24,
     "metadata": {},
     "output_type": "execute_result"
    }
   ],
   "source": [
    "res.minimizer"
   ]
  },
  {
   "cell_type": "code",
   "execution_count": 25,
   "id": "461d8a0f",
   "metadata": {},
   "outputs": [
    {
     "data": {
      "text/plain": [
       "164.64348012133073"
      ]
     },
     "execution_count": 25,
     "metadata": {},
     "output_type": "execute_result"
    }
   ],
   "source": [
    "p = Params(chi=res.minimizer[1], eta=res.minimizer[2], kappa=res.minimizer[3])\n",
    "m = Models(p)\n",
    "Find_equilibrium!(m)"
   ]
  },
  {
   "cell_type": "code",
   "execution_count": 26,
   "id": "b44e63fd",
   "metadata": {},
   "outputs": [
    {
     "name": "stdout",
     "output_type": "stream",
     "text": [
      "Job finding rate 0.07909211055738122\n",
      "Vacancy filling rate 0.5000000000078278\n",
      "Tightness city 1 0.15818422111228592\n",
      "Tightness city 2 0.17230404892354065\n",
      "Measure unemployed city 1 0.13173478939694672\n",
      "Measure unemployed city 2 0.12371539415116259\n",
      "Rent city 1 0.3436213354796768\n",
      "Rent city 2 0.2586972486215591\n",
      "wage city 1 0.9287063121072346\n",
      "wage city 2 0.8685924423944112\n",
      "wage tilde city 1 0.9765501656192923\n",
      "wage tilde city 2 0.9412465130517633\n",
      "E(p) city 1 1.506386569762218\n",
      "E(p) city 2 1.4782839935112093\n"
     ]
    }
   ],
   "source": [
    "# Job finding rate\n",
    "c = ((m.w_tilde_1[1]/p.y) - p.mu_p)/p.sigma_p\n",
    "j_model = (p.chi*m.theta_1[1]^(1.0 - p.eta))*(1.0 - cdf(p.d_normal, c))\n",
    "\n",
    "# Job filling rate\n",
    "q_model = (p.chi*m.theta_1[1]^(-p.eta))*(1.0 - cdf(p.d_normal, c))\n",
    "    \n",
    "println(\"Job finding rate $(j_model)\")\n",
    "println(\"Vacancy filling rate $(q_model)\")\n",
    "\n",
    "println(\"Tightness city 1 $(m.theta_1[1])\")\n",
    "println(\"Tightness city 2 $(m.theta_2[1])\")\n",
    "\n",
    "println(\"Measure unemployed city 1 $(m.u_1[1])\")\n",
    "println(\"Measure unemployed city 2 $(m.u_2[1])\")\n",
    "\n",
    "println(\"Rent city 1 $(m.r_1[1])\")\n",
    "println(\"Rent city 2 $(m.r_2[1])\")\n",
    "\n",
    "println(\"wage city 1 $(m.w_1[1])\")\n",
    "println(\"wage city 2 $(m.w_2[1])\")\n",
    "\n",
    "println(\"wage tilde city 1 $(m.w_tilde_1[1])\")\n",
    "println(\"wage tilde city 2 $(m.w_tilde_2[1])\")\n",
    "\n",
    "println(\"E(p) city 1 $(m.E_p_1[1])\")\n",
    "println(\"E(p) city 2 $(m.E_p_2[1])\")\n"
   ]
  },
  {
   "cell_type": "markdown",
   "id": "d1222385",
   "metadata": {},
   "source": [
    "## In the data\n",
    "\n",
    "* UR = 12.4%\n",
    "* job finding rate: 7.5%\n",
    "* vacancy filling rate: 1/2 = 0.5"
   ]
  },
  {
   "cell_type": "markdown",
   "id": "01aeb087",
   "metadata": {},
   "source": [
    "## II. Simulation FTZ"
   ]
  },
  {
   "cell_type": "code",
   "execution_count": 27,
   "id": "c8b80ccb",
   "metadata": {},
   "outputs": [
    {
     "name": "stdout",
     "output_type": "stream",
     "text": [
      "Change in commuting costs : -6.817374837258883 %\n"
     ]
    }
   ],
   "source": [
    "delta_commuting_costs = 100*(c_2_t1/c_2_t0 - 1.0)\n",
    "println(\"Change in commuting costs : $(delta_commuting_costs) %\")"
   ]
  },
  {
   "cell_type": "code",
   "execution_count": 28,
   "id": "87c2024a",
   "metadata": {},
   "outputs": [
    {
     "name": "stdout",
     "output_type": "stream",
     "text": [
      "Job finding rate 0.07909211055738122\n",
      "Vacancy filling rate 0.5000000000078278\n",
      "Tightness city 1 0.15818422111228592\n",
      "Tightness city 2 0.17561522088568257\n",
      "Measure unemployed city 1 0.13173478939694672\n",
      "Measure unemployed city 2 0.12199224299488381\n",
      "Rent city 1 0.3436213354796768\n",
      "Rent city 2 0.2606784887540544\n",
      "wage city 1 0.9287063121072346\n",
      "wage city 2 0.8656205821956681\n",
      "wage tilde city 1 0.9765501656192923\n",
      "wage tilde city 2 0.9333215525217815\n",
      "E(p) city 1 1.506386569762218\n",
      "E(p) city 2 1.4719962430763291\n"
     ]
    }
   ],
   "source": [
    "# Empirical change\n",
    "#-----------------\n",
    "p_2 = Params(chi=res.minimizer[1], eta=res.minimizer[2], kappa=res.minimizer[3], c_2 = c_2_t1)\n",
    "\n",
    "m_2 = Models(p_2)\n",
    "Find_equilibrium!(m_2)\n",
    "\n",
    "# Job finding rate\n",
    "c = ((m_2.w_tilde_1[1]/p_2.y) - p_2.mu_p)/p_2.sigma_p\n",
    "j_model = (p_2.chi*m_2.theta_1[1]^(1.0 - p_2.eta))*(1.0 - cdf(p_2.d_normal, c))\n",
    "\n",
    "# Job filling rate\n",
    "q_model = (p_2.chi*m_2.theta_1[1]^(-p_2.eta))*(1.0 - cdf(p_2.d_normal, c))\n",
    "    \n",
    "println(\"Job finding rate $(j_model)\")\n",
    "println(\"Vacancy filling rate $(q_model)\")\n",
    "\n",
    "println(\"Tightness city 1 $(m_2.theta_1[1])\")\n",
    "println(\"Tightness city 2 $(m_2.theta_2[1])\")\n",
    "\n",
    "println(\"Measure unemployed city 1 $(m_2.u_1[1])\")\n",
    "println(\"Measure unemployed city 2 $(m_2.u_2[1])\")\n",
    "\n",
    "println(\"Rent city 1 $(m_2.r_1[1])\")\n",
    "println(\"Rent city 2 $(m_2.r_2[1])\")\n",
    "\n",
    "println(\"wage city 1 $(m_2.w_1[1])\")\n",
    "println(\"wage city 2 $(m_2.w_2[1])\")\n",
    "\n",
    "println(\"wage tilde city 1 $(m_2.w_tilde_1[1])\")\n",
    "println(\"wage tilde city 2 $(m_2.w_tilde_2[1])\")\n",
    "\n",
    "println(\"E(p) city 1 $(m_2.E_p_1[1])\")\n",
    "println(\"E(p) city 2 $(m_2.E_p_2[1])\")"
   ]
  },
  {
   "cell_type": "code",
   "execution_count": 29,
   "id": "b461c91c",
   "metadata": {},
   "outputs": [
    {
     "data": {
      "text/plain": [
       "-0.004253411700647282"
      ]
     },
     "execution_count": 29,
     "metadata": {},
     "output_type": "execute_result"
    }
   ],
   "source": [
    "(m_2.E_p_2[1] - m.E_p_2[1])/m.E_p_2[1]"
   ]
  },
  {
   "cell_type": "code",
   "execution_count": 30,
   "id": "4bace18f",
   "metadata": {
    "scrolled": false
   },
   "outputs": [
    {
     "name": "stdout",
     "output_type": "stream",
     "text": [
      "% change in wage -0.3421466793506495\n",
      "% change in unemployment -1.392834875644763\n",
      "% change in rents 0.7658528040217558\n"
     ]
    }
   ],
   "source": [
    "delta_wage = 100*(m_2.w_2[1] - m.w_2[1])/(m.w_2[1])\n",
    "delta_u =  100*(m_2.u_2[1] - m.u_2[1])/(m.u_2[1])\n",
    "delta_rent =  100*(m_2.r_2[1] - m.r_2[1])/(m.r_2[1])\n",
    "\n",
    "println(\"% change in wage $(delta_wage)\")\n",
    "println(\"% change in unemployment $(delta_u)\")\n",
    "println(\"% change in rents $(delta_rent)\")"
   ]
  },
  {
   "cell_type": "code",
   "execution_count": 31,
   "id": "53f1ad4f",
   "metadata": {},
   "outputs": [
    {
     "name": "stdout",
     "output_type": "stream",
     "text": [
      "ppt change in unemployment -0.17231511562787738\n",
      "% change in rents 0.7658528040217558\n"
     ]
    }
   ],
   "source": [
    "# Percentage point change\n",
    "delta_u_pp =  100*(m_2.u_2[1] - m.u_2[1])\n",
    "\n",
    "println(\"ppt change in unemployment $(delta_u_pp)\")\n",
    "println(\"% change in rents $(delta_rent)\")"
   ]
  },
  {
   "cell_type": "code",
   "execution_count": 32,
   "id": "2c6882a2",
   "metadata": {},
   "outputs": [
    {
     "name": "stdout",
     "output_type": "stream",
     "text": [
      "Percentage change view of the model\n",
      "Percentage change in unemployment explained 55.713395025790525 %\n",
      "Percentage change in rent explained model 54.70377171583971 %\n"
     ]
    }
   ],
   "source": [
    "# Change in category A workers. Change in rents 5 km away\n",
    "println(\"Percentage change view of the model\")\n",
    "println(\"Percentage change in unemployment explained $(100*abs(delta_u/(2.5))) %\")\n",
    "println(\"Percentage change in rent explained model $(100*delta_rent/1.4) %\")"
   ]
  },
  {
   "cell_type": "code",
   "execution_count": 33,
   "id": "da933de7",
   "metadata": {},
   "outputs": [
    {
     "name": "stdout",
     "output_type": "stream",
     "text": [
      "Percentage points change view of the model\n",
      "Percentage change in unemployment explained 68.92604625115095 %\n",
      "Percentage change in rent explained model 54.70377171583971 %\n"
     ]
    }
   ],
   "source": [
    "println(\"Percentage points change view of the model\")\n",
    "println(\"Percentage change in unemployment explained $(100*abs(delta_u_pp/(0.25))) %\")\n",
    "println(\"Percentage change in rent explained model $(100*delta_rent/1.4) %\")\n"
   ]
  },
  {
   "cell_type": "code",
   "execution_count": 34,
   "id": "a2083599",
   "metadata": {
    "scrolled": false
   },
   "outputs": [
    {
     "name": "stdout",
     "output_type": "stream",
     "text": [
      "Percentage change in commuting costs -0.06817374837258883\n",
      "Percentage change in model -1.8186717712992748\n",
      "Percentage change in data -1.8000000000000003\n",
      "Percentage change in data -1.9285714285714286\n",
      "Percentage change in data -1.7857142857142856\n"
     ]
    }
   ],
   "source": [
    "println(\"Percentage change in commuting costs $((m_2.p.c_2/m.p.c_2) - 1.0)\")\n",
    "println(\"Percentage change in model $(delta_u/delta_rent)\")\n",
    "\n",
    "# Change in category A workers. Change in rents 5 km away\n",
    "println(\"Percentage change in data $(-0.27/0.15)\")\n",
    "\n",
    "#  Change in category A workers. Change in rents all\n",
    "println(\"Percentage change in data $(-0.27/0.14)\")\n",
    "\n",
    "# Change unemployed workers all. Change in rents all km away.\n",
    "println(\"Percentage change in data $(-0.25/0.14)\")"
   ]
  },
  {
   "cell_type": "markdown",
   "id": "efa163b8",
   "metadata": {},
   "source": [
    "### Find the decrease in commuting costs that would result in the empirical decline in unemployment\n",
    "\n",
    "% change"
   ]
  },
  {
   "cell_type": "code",
   "execution_count": 35,
   "id": "e9fce197",
   "metadata": {},
   "outputs": [
    {
     "data": {
      "text/plain": [
       "obj_function_2 (generic function with 1 method)"
      ]
     },
     "execution_count": 35,
     "metadata": {},
     "output_type": "execute_result"
    }
   ],
   "source": [
    "# Find the commuting cost decrease such that the change in unemployment matches the data\n",
    "# empirical_delta_u is in %\n",
    "function obj_function_2(x, m, res; empirical_delta_u = -2.5)\n",
    "    \n",
    "    p_2 = Params(chi=res.minimizer[1], eta=res.minimizer[2], kappa=res.minimizer[3], c_2 = m.p.c_2*(1.0 - x[1]))\n",
    "    m_2 = Models(p_2)\n",
    "    Find_equilibrium!(m_2)\n",
    "    \n",
    "    delta_u =  100*(m_2.u_2[1] - m.u_2[1])/(m.u_2[1])\n",
    "    return sum([((delta_u  - empirical_delta_u)/(empirical_delta_u))^2])\n",
    "\n",
    "end"
   ]
  },
  {
   "cell_type": "code",
   "execution_count": 36,
   "id": "00c1098d",
   "metadata": {},
   "outputs": [
    {
     "name": "stdout",
     "output_type": "stream",
     "text": [
      " * Status: success\n",
      "\n",
      " * Candidate solution\n",
      "    Final objective value:     1.092103e-21\n",
      "\n",
      " * Found with\n",
      "    Algorithm:     Fminbox with L-BFGS\n",
      "\n",
      " * Convergence measures\n",
      "    |x - x'|               = 5.81e-10 ≰ 0.0e+00\n",
      "    |x - x'|/|x'|          = 4.72e-09 ≰ 0.0e+00\n",
      "    |f(x) - f(x')|         = 0.00e+00 ≤ 0.0e+00\n",
      "    |f(x) - f(x')|/|f(x')| = 0.00e+00 ≤ 0.0e+00\n",
      "    |g(x)|                 = 2.29e-11 ≤ 1.0e-08\n",
      "\n",
      " * Work counters\n",
      "    Seconds run:   0  (vs limit Inf)\n",
      "    Iterations:    4\n",
      "    f(x) calls:    19\n",
      "    ∇f(x) calls:   19\n",
      "\n"
     ]
    }
   ],
   "source": [
    "\n",
    "lower = [0.001]\n",
    "upper = [1.0]\n",
    "\n",
    "res_2 = optimize(x -> obj_function_2(x, m, res), lower, upper, [0.5], Fminbox())\n",
    "\n",
    "println(res_2)\n"
   ]
  },
  {
   "cell_type": "code",
   "execution_count": 37,
   "id": "a715813f",
   "metadata": {},
   "outputs": [
    {
     "data": {
      "text/plain": [
       "1-element Vector{Float64}:\n",
       " 0.12315436322176267"
      ]
     },
     "execution_count": 37,
     "metadata": {},
     "output_type": "execute_result"
    }
   ],
   "source": [
    "res_2.minimizer"
   ]
  },
  {
   "cell_type": "code",
   "execution_count": 38,
   "id": "5c498a14",
   "metadata": {
    "scrolled": true
   },
   "outputs": [
    {
     "name": "stdout",
     "output_type": "stream",
     "text": [
      "Required change in commuting costs: -12.315436322176257 %\n",
      "Emprical change in commuting costs: -6.817374837258877 %\n"
     ]
    }
   ],
   "source": [
    "c_2_optimal = m.p.c_2*(1.0 - res_2.minimizer[1])\n",
    "optimal_change_commuting_costs = (c_2_optimal  - c_2_t0)/c_2_t0\n",
    "empirical_change_commuting_costs = (c_2_t1 - c_2_t0)/c_2_t0\n",
    "\n",
    "println(\"Required change in commuting costs: $(100*optimal_change_commuting_costs ) %\")\n",
    "println(\"Emprical change in commuting costs: $(100*empirical_change_commuting_costs) %\")"
   ]
  },
  {
   "cell_type": "code",
   "execution_count": 39,
   "id": "ab281e8b",
   "metadata": {},
   "outputs": [
    {
     "name": "stdout",
     "output_type": "stream",
     "text": [
      "% change in wage -0.6180803818147084\n",
      "% change in unemployment -2.5000000000826175\n",
      "% change in rents 1.383496091272995\n"
     ]
    }
   ],
   "source": [
    "p_2 = Params(chi=res.minimizer[1], eta=res.minimizer[2], kappa=res.minimizer[3], c_2 = c_2_optimal )\n",
    "m_2 = Models(p_2)\n",
    "Find_equilibrium!(m_2)\n",
    "\n",
    "delta_wage = 100*(m_2.w_2[1] - m.w_2[1])/(m.w_2[1])\n",
    "delta_u =  100*(m_2.u_2[1] - m.u_2[1])/(m.u_2[1])\n",
    "delta_rent =  100*(m_2.r_2[1] - m.r_2[1])/(m.r_2[1])\n",
    "\n",
    "println(\"% change in wage $(delta_wage)\")\n",
    "println(\"% change in unemployment $(delta_u)\")\n",
    "println(\"% change in rents $(delta_rent)\")"
   ]
  },
  {
   "cell_type": "markdown",
   "id": "fc4207e5",
   "metadata": {},
   "source": [
    "### What would be the price per minute travel to have a 12.31% decline?"
   ]
  },
  {
   "cell_type": "code",
   "execution_count": 40,
   "id": "de114f9e",
   "metadata": {
    "scrolled": false
   },
   "outputs": [
    {
     "name": "stdout",
     "output_type": "stream",
     "text": [
      "Time cost fare area 3: 66.69999999999999 euros monthly\n",
      "Time cost fare area 1-2: 40.019999999999996 euros monthly\n",
      "Total commuting cost fare area 3 t0: 155.89999999999998 euros monthly\n",
      "Total commuting cost fare area 3 t1: 136.7 euros monthly\n",
      "Total commuting cost fare area 1-2 t0: 110.02 euros monthly\n",
      "Total commuting cost fare area 1-2 t1: 110.02 euros monthly\n",
      "Required change in commuting costs: -12.315436322176257 %\n",
      "Calculated change commuting costs: -12.315586914688897 %\n"
     ]
    }
   ],
   "source": [
    "nb_days = 230\n",
    "nb_trips_per_day = 2\n",
    "minutes_per_trip_2 = 40 #minutes in fare area 3\n",
    "minutes_per_trip_1 = 24 #minutes in fare area 1-2\n",
    "#net minimum wage in euros (2015)\n",
    "#Cotisations salariales obligatoires (21,66%)\n",
    "# Source: 9.61*(1 - 21.66/100)\n",
    "# https://www.smic-horaire.fr/\n",
    "cost_per_minutes = 2.61 #in 2015 euros\n",
    "\n",
    "# Time cost per month\n",
    "time_cost_2 = (nb_trips_per_day*(minutes_per_trip_2/60)*cost_per_minutes)*(nb_days/360)*30\n",
    "time_cost_1 = (nb_trips_per_day*(minutes_per_trip_1/60)*cost_per_minutes)*(nb_days/360)*30\n",
    "\n",
    "println(\"Time cost fare area 3: $(time_cost_2) euros monthly\")\n",
    "println(\"Time cost fare area 1-2: $(time_cost_1) euros monthly\")\n",
    "\n",
    "travel_card_2_t0 = 89.20\n",
    "travel_card_2_t1 = 70.00\n",
    "\n",
    "travel_card_1_t0 = 70.00\n",
    "travel_card_1_t1 = 70.00\n",
    "\n",
    "total_commuting_cost_2_t0 = time_cost_2 + travel_card_2_t0\n",
    "total_commuting_cost_2_t1 = time_cost_2 + travel_card_2_t1\n",
    "total_commuting_cost_1_t0 = time_cost_1 + travel_card_1_t0\n",
    "total_commuting_cost_1_t1 = time_cost_1 + travel_card_1_t1\n",
    "\n",
    "println(\"Total commuting cost fare area 3 t0: $(total_commuting_cost_2_t0) euros monthly\")\n",
    "println(\"Total commuting cost fare area 3 t1: $(total_commuting_cost_2_t1) euros monthly\")\n",
    "println(\"Total commuting cost fare area 1-2 t0: $(total_commuting_cost_1_t0) euros monthly\")\n",
    "println(\"Total commuting cost fare area 1-2 t1: $(total_commuting_cost_1_t1) euros monthly\")\n",
    "\n",
    "# Change in commuting costs:\n",
    "delta_c = 100*(total_commuting_cost_2_t1 - total_commuting_cost_2_t0)/total_commuting_cost_2_t0\n",
    "\n",
    "println(\"Required change in commuting costs: $(100*optimal_change_commuting_costs ) %\")\n",
    "println(\"Calculated change commuting costs: $(delta_c) %\")"
   ]
  },
  {
   "cell_type": "markdown",
   "id": "51d0847e",
   "metadata": {},
   "source": [
    "### Percentage point interpretation"
   ]
  },
  {
   "cell_type": "code",
   "execution_count": 41,
   "id": "5453028a",
   "metadata": {},
   "outputs": [
    {
     "data": {
      "text/plain": [
       "obj_function_3 (generic function with 1 method)"
      ]
     },
     "execution_count": 41,
     "metadata": {},
     "output_type": "execute_result"
    }
   ],
   "source": [
    "# Find the commuting cost decrease such that the change in unemployment matches the data\n",
    "# empirical_delta_u is in percentage points\n",
    "function obj_function_3(x, m, res; empirical_delta_u = -0.25)\n",
    "    \n",
    "    p_2 = Params(chi=res.minimizer[1], eta=res.minimizer[2], kappa=res.minimizer[3], c_2 = m.p.c_2*(1.0 - x[1]))\n",
    "    m_2 = Models(p_2)\n",
    "    Find_equilibrium!(m_2)\n",
    "    \n",
    "    delta_u =  100*(m_2.u_2[1] - m.u_2[1])\n",
    "    return sum([((delta_u  - empirical_delta_u)/(empirical_delta_u))^2])\n",
    "\n",
    "end"
   ]
  },
  {
   "cell_type": "code",
   "execution_count": 42,
   "id": "07765905",
   "metadata": {
    "scrolled": true
   },
   "outputs": [
    {
     "name": "stdout",
     "output_type": "stream",
     "text": [
      " * Status: success\n",
      "\n",
      " * Candidate solution\n",
      "    Final objective value:     1.668395e-21\n",
      "\n",
      " * Found with\n",
      "    Algorithm:     Fminbox with L-BFGS\n",
      "\n",
      " * Convergence measures\n",
      "    |x - x'|               = 7.88e-10 ≰ 0.0e+00\n",
      "    |x - x'|/|x'|          = 7.94e-09 ≰ 0.0e+00\n",
      "    |f(x) - f(x')|         = 0.00e+00 ≤ 0.0e+00\n",
      "    |f(x) - f(x')|/|f(x')| = 0.00e+00 ≤ 0.0e+00\n",
      "    |g(x)|                 = 4.06e-11 ≤ 1.0e-08\n",
      "\n",
      " * Work counters\n",
      "    Seconds run:   0  (vs limit Inf)\n",
      "    Iterations:    4\n",
      "    f(x) calls:    21\n",
      "    ∇f(x) calls:   21\n",
      "\n"
     ]
    }
   ],
   "source": [
    "lower = [0.001]\n",
    "upper = [1.0]\n",
    "\n",
    "res_3 = optimize(x -> obj_function_3(x, m, res), lower, upper, [0.5], Fminbox())\n",
    "println(res_3)"
   ]
  },
  {
   "cell_type": "code",
   "execution_count": 43,
   "id": "7a1c42c7",
   "metadata": {},
   "outputs": [
    {
     "data": {
      "text/plain": [
       "1-element Vector{Float64}:\n",
       " 0.09926897861255644"
      ]
     },
     "execution_count": 43,
     "metadata": {},
     "output_type": "execute_result"
    }
   ],
   "source": [
    "res_3.minimizer"
   ]
  },
  {
   "cell_type": "code",
   "execution_count": 44,
   "id": "2e076cdb",
   "metadata": {},
   "outputs": [
    {
     "name": "stdout",
     "output_type": "stream",
     "text": [
      "Required change in commuting costs: -9.926897861255654 %\n",
      "Emprical change in commuting costs: -6.817374837258877 %\n"
     ]
    }
   ],
   "source": [
    "c_2_optimal = m.p.c_2*(1.0 - res_3.minimizer[1])\n",
    "optimal_change_commuting_costs = (c_2_optimal  - c_2_t0)/c_2_t0\n",
    "empirical_change_commuting_costs = (c_2_t1 - c_2_t0)/c_2_t0\n",
    "\n",
    "println(\"Required change in commuting costs: $(100*optimal_change_commuting_costs ) %\")\n",
    "println(\"Emprical change in commuting costs: $(100*empirical_change_commuting_costs) %\")"
   ]
  },
  {
   "cell_type": "code",
   "execution_count": 45,
   "id": "69e00c6c",
   "metadata": {},
   "outputs": [
    {
     "name": "stdout",
     "output_type": "stream",
     "text": [
      "% change in wage -0.498205720025706\n",
      "ppt change in unemployment -0.2500000000102115\n",
      "% change in rents 1.1151715643872784\n"
     ]
    }
   ],
   "source": [
    "p_2 = Params(chi=res.minimizer[1], eta=res.minimizer[2], kappa=res.minimizer[3], c_2 = c_2_optimal )\n",
    "m_2 = Models(p_2)\n",
    "Find_equilibrium!(m_2)\n",
    "\n",
    "delta_wage = 100*(m_2.w_2[1] - m.w_2[1])/(m.w_2[1])\n",
    "delta_u =  100*(m_2.u_2[1] - m.u_2[1])\n",
    "delta_rent =  100*(m_2.r_2[1] - m.r_2[1])/(m.r_2[1])\n",
    "\n",
    "println(\"% change in wage $(delta_wage)\")\n",
    "println(\"ppt change in unemployment $(delta_u)\")\n",
    "println(\"% change in rents $(delta_rent)\")"
   ]
  },
  {
   "cell_type": "markdown",
   "id": "2d540656",
   "metadata": {},
   "source": [
    "### What would be the price per minute travel to have a 9.92% decline?"
   ]
  },
  {
   "cell_type": "code",
   "execution_count": 46,
   "id": "08ce1bb0",
   "metadata": {},
   "outputs": [
    {
     "name": "stdout",
     "output_type": "stream",
     "text": [
      "Time cost fare area 3: 104.26666666666665 euros monthly\n",
      "Time cost fare area 1-2: 62.559999999999995 euros monthly\n",
      "Total commuting cost fare area 3 t0: 193.46666666666664 euros monthly\n",
      "Total commuting cost fare area 3 t1: 174.26666666666665 euros monthly\n",
      "Total commuting cost fare area 1-2 t0: 132.56 euros monthly\n",
      "Total commuting cost fare area 1-2 t1: 132.56 euros monthly\n",
      "Required change in commuting costs: -9.926897861255654 %\n",
      "Calculated change commuting costs: -9.924190213645756 %\n"
     ]
    }
   ],
   "source": [
    "nb_days = 230\n",
    "nb_trips_per_day = 2\n",
    "minutes_per_trip_2 = 40 #minutes in fare area 3\n",
    "minutes_per_trip_1 = 24 #minutes in fare area 1-2\n",
    "#net minimum wage in euros (2015)\n",
    "#Cotisations salariales obligatoires (21,66%)\n",
    "# Source: 9.61*(1 - 21.66/100)\n",
    "# https://www.smic-horaire.fr/\n",
    "cost_per_minutes = 4.080 #in 2015 euros\n",
    "\n",
    "# Time cost per month\n",
    "time_cost_2 = (nb_trips_per_day*(minutes_per_trip_2/60)*cost_per_minutes)*(nb_days/360)*30\n",
    "time_cost_1 = (nb_trips_per_day*(minutes_per_trip_1/60)*cost_per_minutes)*(nb_days/360)*30\n",
    "\n",
    "println(\"Time cost fare area 3: $(time_cost_2) euros monthly\")\n",
    "println(\"Time cost fare area 1-2: $(time_cost_1) euros monthly\")\n",
    "\n",
    "travel_card_2_t0 = 89.20\n",
    "travel_card_2_t1 = 70.00\n",
    "\n",
    "travel_card_1_t0 = 70.00\n",
    "travel_card_1_t1 = 70.00\n",
    "\n",
    "total_commuting_cost_2_t0 = time_cost_2 + travel_card_2_t0\n",
    "total_commuting_cost_2_t1 = time_cost_2 + travel_card_2_t1\n",
    "total_commuting_cost_1_t0 = time_cost_1 + travel_card_1_t0\n",
    "total_commuting_cost_1_t1 = time_cost_1 + travel_card_1_t1\n",
    "\n",
    "println(\"Total commuting cost fare area 3 t0: $(total_commuting_cost_2_t0) euros monthly\")\n",
    "println(\"Total commuting cost fare area 3 t1: $(total_commuting_cost_2_t1) euros monthly\")\n",
    "println(\"Total commuting cost fare area 1-2 t0: $(total_commuting_cost_1_t0) euros monthly\")\n",
    "println(\"Total commuting cost fare area 1-2 t1: $(total_commuting_cost_1_t1) euros monthly\")\n",
    "\n",
    "# Change in commuting costs:\n",
    "delta_c = 100*(total_commuting_cost_2_t1 - total_commuting_cost_2_t0)/total_commuting_cost_2_t0\n",
    "\n",
    "println(\"Required change in commuting costs: $(100*optimal_change_commuting_costs ) %\")\n",
    "println(\"Calculated change commuting costs: $(delta_c) %\")"
   ]
  },
  {
   "cell_type": "markdown",
   "id": "efaa792c",
   "metadata": {},
   "source": [
    "---\n",
    "---\n",
    "\n",
    "### III. FTZ reform visually\n",
    "\n",
    "#### Wage-theta space\n",
    "\n"
   ]
  },
  {
   "cell_type": "code",
   "execution_count": 47,
   "id": "9fd33691",
   "metadata": {},
   "outputs": [],
   "source": [
    "nb_points = 200\n",
    "grid_reservation_wage_1 = zeros(nb_points)\n",
    "grid_reservation_wage_2 = zeros(nb_points)\n",
    "\n",
    "# reservation wage\n",
    "for i=1:nb_points\n",
    "    grid_reservation_wage_1[i] = wage_tilde(m.p.b_2, m.p.mu, c_2_t0)\n",
    "    grid_reservation_wage_2[i] = wage_tilde(m.p.b_2, m.p.mu, 0.1*c_2_t1)\n",
    "end\n",
    "\n",
    "p_2 = Params(chi=res.minimizer[1], eta=res.minimizer[2], kappa=res.minimizer[3], c_2 = 0.1*c_2_t1)\n",
    "m_2 = Models(p_2)\n",
    "Find_equilibrium!(m_2)\n",
    "\n",
    "\n",
    "grid_wage = collect(range(0.001, 1.2, nb_points ))\n",
    "grid_theta_1 = zeros(nb_points)\n",
    "grid_theta_2 = zeros(nb_points)\n",
    "\n",
    "# labor market tightness in city 2\n",
    "for i=1:nb_points\n",
    "    grid_theta_1[i] =  eq_theta(grid_wage[i], m.E_p_2[1], m.p)\n",
    "    grid_theta_2[i] =  eq_theta(grid_wage[i], m_2.E_p_2[1], m_2.p)\n",
    "end"
   ]
  },
  {
   "cell_type": "code",
   "execution_count": 48,
   "id": "a6b5fb0f",
   "metadata": {
    "scrolled": true
   },
   "outputs": [
    {
     "data": {
      "image/svg+xml": [
       "<?xml version=\"1.0\" encoding=\"UTF-8\"?>\n",
       "<svg xmlns=\"http://www.w3.org/2000/svg\" xmlns:xlink=\"http://www.w3.org/1999/xlink\" width=\"495.32pt\" height=\"275.103pt\" viewBox=\"0 0 495.32 275.103\" version=\"1.2\">\n",
       "<defs>\n",
       "<g>\n",
       "<symbol overflow=\"visible\" id=\"glyph-1653391830009729-0-0\">\n",
       "<path style=\"stroke:none;\" d=\"\"/>\n",
       "</symbol>\n",
       "<symbol overflow=\"visible\" id=\"glyph-1653391830009729-0-1\">\n",
       "<path style=\"stroke:none;\" d=\"M 3.875 -2.53125 C 3.875 -3.375 3.796875 -3.890625 3.53125 -4.40625 C 3.1875 -5.109375 2.546875 -5.28125 2.109375 -5.28125 C 1.109375 -5.28125 0.734375 -4.53125 0.625 -4.3125 C 0.34375 -3.734375 0.328125 -2.9375 0.328125 -2.53125 C 0.328125 -2.015625 0.34375 -1.203125 0.734375 -0.578125 C 1.09375 0.015625 1.6875 0.171875 2.109375 0.171875 C 2.484375 0.171875 3.171875 0.046875 3.5625 -0.734375 C 3.859375 -1.3125 3.875 -2.015625 3.875 -2.53125 Z M 2.109375 -0.0625 C 1.828125 -0.0625 1.28125 -0.1875 1.125 -1.015625 C 1.03125 -1.46875 1.03125 -2.21875 1.03125 -2.625 C 1.03125 -3.171875 1.03125 -3.734375 1.125 -4.171875 C 1.28125 -4.984375 1.90625 -5.0625 2.109375 -5.0625 C 2.375 -5.0625 2.921875 -4.921875 3.078125 -4.203125 C 3.171875 -3.765625 3.171875 -3.171875 3.171875 -2.625 C 3.171875 -2.15625 3.171875 -1.4375 3.078125 -1 C 2.90625 -0.171875 2.359375 -0.0625 2.109375 -0.0625 Z M 2.109375 -0.0625 \"/>\n",
       "</symbol>\n",
       "<symbol overflow=\"visible\" id=\"glyph-1653391830009729-1-0\">\n",
       "<path style=\"stroke:none;\" d=\"\"/>\n",
       "</symbol>\n",
       "<symbol overflow=\"visible\" id=\"glyph-1653391830009729-1-1\">\n",
       "<path style=\"stroke:none;\" d=\"M 4.953125 -5.4375 C 4.953125 -6.15625 4.75 -7.671875 3.640625 -7.671875 C 2.125 -7.671875 0.453125 -4.59375 0.453125 -2.109375 C 0.453125 -1.09375 0.765625 0.125 1.765625 0.125 C 3.296875 0.125 4.953125 -3 4.953125 -5.4375 Z M 1.609375 -3.953125 C 1.796875 -4.640625 2.015625 -5.515625 2.453125 -6.28125 C 2.734375 -6.8125 3.140625 -7.421875 3.625 -7.421875 C 4.171875 -7.421875 4.234375 -6.734375 4.234375 -6.109375 C 4.234375 -5.578125 4.140625 -5.03125 3.875 -3.953125 Z M 3.78125 -3.59375 C 3.671875 -3.09375 3.4375 -2.171875 3.015625 -1.390625 C 2.640625 -0.65625 2.234375 -0.125 1.765625 -0.125 C 1.40625 -0.125 1.171875 -0.4375 1.171875 -1.453125 C 1.171875 -1.90625 1.234375 -2.53125 1.515625 -3.59375 Z M 3.78125 -3.59375 \"/>\n",
       "</symbol>\n",
       "<symbol overflow=\"visible\" id=\"glyph-1653391830009729-2-0\">\n",
       "<path style=\"stroke:none;\" d=\"\"/>\n",
       "</symbol>\n",
       "<symbol overflow=\"visible\" id=\"glyph-1653391830009729-2-1\">\n",
       "<path style=\"stroke:none;\" d=\"M -7.09375 -4.53125 L -7.265625 -4.34375 C -7.25 -4.34375 -6.75 -3.9375 -6.75 -3.453125 C -6.75 -3.203125 -6.90625 -2.9375 -7.015625 -2.75 C -7.1875 -2.453125 -7.265625 -2.265625 -7.265625 -2.078125 C -7.265625 -1.65625 -7.03125 -1.453125 -6.421875 -0.90625 L -6.25 -1.078125 C -6.265625 -1.078125 -6.78125 -1.484375 -6.78125 -1.96875 C -6.78125 -2.21875 -6.609375 -2.484375 -6.5 -2.671875 C -6.328125 -2.96875 -6.25 -3.171875 -6.25 -3.34375 C -6.25 -3.765625 -6.5 -3.96875 -7.09375 -4.53125 Z M -7.09375 -4.53125 \"/>\n",
       "</symbol>\n",
       "<symbol overflow=\"visible\" id=\"glyph-1653391830009729-3-0\">\n",
       "<path style=\"stroke:none;\" d=\"\"/>\n",
       "</symbol>\n",
       "<symbol overflow=\"visible\" id=\"glyph-1653391830009729-3-1\">\n",
       "<path style=\"stroke:none;\" d=\"M -3.6875 -5.03125 C -3.921875 -5.078125 -4.328125 -5.1875 -4.390625 -5.1875 C -4.59375 -5.1875 -4.6875 -5.03125 -4.6875 -4.875 C -4.6875 -4.734375 -4.59375 -4.546875 -4.375 -4.46875 C -4.3125 -4.4375 -2.234375 -3.921875 -1.953125 -3.84375 C -1.625 -3.78125 -1.421875 -3.75 -1.234375 -3.75 C -1.109375 -3.75 -1.09375 -3.75 -1.03125 -3.765625 C -0.453125 -3.515625 -0.125 -3.1875 -0.125 -2.765625 C -0.125 -1.890625 -0.921875 -1.890625 -1.109375 -1.890625 C -1.453125 -1.890625 -1.875 -1.953125 -3.21875 -2.453125 C -3.546875 -2.578125 -3.703125 -2.640625 -3.921875 -2.640625 C -4.40625 -2.640625 -4.8125 -2.28125 -4.8125 -1.75 C -4.8125 -0.71875 -3.234375 -0.3125 -3.125 -0.3125 C -3.015625 -0.3125 -3.015625 -0.421875 -3.015625 -0.453125 C -3.015625 -0.546875 -3.046875 -0.5625 -3.21875 -0.625 C -4.234375 -0.90625 -4.5625 -1.34375 -4.5625 -1.71875 C -4.5625 -1.8125 -4.5625 -1.984375 -4.203125 -1.984375 C -3.9375 -1.984375 -3.625 -1.875 -3.453125 -1.796875 C -2.171875 -1.3125 -1.65625 -1.1875 -1.25 -1.1875 C -0.265625 -1.1875 0.125 -1.90625 0.125 -2.734375 C 0.125 -2.921875 0.125 -3.421875 -0.640625 -3.859375 C 0.046875 -4.140625 0.125 -4.890625 0.125 -5.21875 C 0.125 -6.03125 -0.5625 -6.515625 -1.21875 -6.796875 C -2.0625 -7.171875 -3.53125 -7.515625 -4.046875 -7.515625 C -4.640625 -7.515625 -4.8125 -7.21875 -4.8125 -7.03125 C -4.8125 -6.765625 -4.53125 -6.5 -4.28125 -6.5 C -4.140625 -6.5 -4.078125 -6.5625 -3.984375 -6.65625 C -3.875 -6.78125 -3.59375 -7.046875 -3.0625 -7.046875 C -2.703125 -7.046875 -1.625 -6.734375 -1.078125 -6.453125 C -0.5 -6.171875 -0.125 -5.78125 -0.125 -5.25 C -0.125 -4.734375 -0.453125 -4.453125 -1.0625 -4.453125 C -1.375 -4.453125 -1.703125 -4.53125 -1.859375 -4.5625 Z M -3.6875 -5.03125 \"/>\n",
       "</symbol>\n",
       "<symbol overflow=\"visible\" id=\"glyph-1653391830009729-4-0\">\n",
       "<path style=\"stroke:none;\" d=\"\"/>\n",
       "</symbol>\n",
       "<symbol overflow=\"visible\" id=\"glyph-1653391830009729-4-1\">\n",
       "<path style=\"stroke:none;\" d=\"M 3.875 -5.15625 L 3.875 -5.421875 C 3.46875 -5.390625 3.25 -5.390625 2.796875 -5.390625 C 2.453125 -5.390625 1.84375 -5.390625 1.53125 -5.421875 L 1.53125 -5.15625 L 1.796875 -5.15625 C 2.546875 -5.15625 2.5625 -5.0625 2.5625 -4.765625 L 2.5625 -1.1875 C 2.5625 -0.453125 2.140625 -0.0625 1.71875 -0.0625 C 1.375 -0.0625 1.015625 -0.21875 0.828125 -0.453125 C 1.046875 -0.46875 1.28125 -0.609375 1.28125 -0.90625 C 1.28125 -1.1875 1.078125 -1.34375 0.84375 -1.34375 C 0.6875 -1.34375 0.40625 -1.234375 0.40625 -0.890625 C 0.40625 -0.296875 0.984375 0.171875 1.734375 0.171875 C 2.46875 0.171875 3.265625 -0.3125 3.265625 -1.1875 L 3.265625 -4.796875 C 3.265625 -5.15625 3.359375 -5.15625 3.875 -5.15625 Z M 3.875 -5.15625 \"/>\n",
       "</symbol>\n",
       "<symbol overflow=\"visible\" id=\"glyph-1653391830009729-4-2\">\n",
       "<path style=\"stroke:none;\" d=\"M 3.96875 -1.6875 C 3.96875 -2.6875 3.15625 -3.546875 2.109375 -3.546875 C 1.0625 -3.546875 0.234375 -2.6875 0.234375 -1.6875 C 0.234375 -0.703125 1.09375 0.078125 2.109375 0.078125 C 3.125 0.078125 3.96875 -0.703125 3.96875 -1.6875 Z M 3.265625 -1.765625 C 3.265625 -1.390625 3.25 -0.953125 3.03125 -0.625 C 2.8125 -0.3125 2.453125 -0.171875 2.109375 -0.171875 C 1.671875 -0.171875 1.34375 -0.375 1.171875 -0.65625 C 0.96875 -0.96875 0.9375 -1.359375 0.9375 -1.765625 C 0.9375 -2.0625 0.9375 -2.546875 1.1875 -2.875 C 1.390625 -3.15625 1.734375 -3.3125 2.109375 -3.3125 C 2.515625 -3.3125 2.859375 -3.125 3.046875 -2.84375 C 3.25 -2.515625 3.265625 -2.078125 3.265625 -1.765625 Z M 3.265625 -1.765625 \"/>\n",
       "</symbol>\n",
       "<symbol overflow=\"visible\" id=\"glyph-1653391830009729-4-3\">\n",
       "<path style=\"stroke:none;\" d=\"M 4.390625 -1.71875 C 4.390625 -2.71875 3.578125 -3.5 2.609375 -3.5 C 1.984375 -3.5 1.59375 -3.15625 1.453125 -3.015625 L 1.453125 -5.515625 L 0.28125 -5.421875 L 0.28125 -5.15625 C 0.8125 -5.15625 0.875 -5.109375 0.875 -4.71875 L 0.875 0 L 1.125 0 L 1.40625 -0.484375 C 1.609375 -0.21875 1.96875 0.078125 2.515625 0.078125 C 3.53125 0.078125 4.390625 -0.703125 4.390625 -1.71875 Z M 3.6875 -1.71875 C 3.6875 -1.546875 3.6875 -0.96875 3.40625 -0.609375 C 3.125 -0.25 2.75 -0.140625 2.484375 -0.140625 C 2.109375 -0.140625 1.78125 -0.34375 1.578125 -0.65625 C 1.484375 -0.796875 1.484375 -0.8125 1.484375 -0.953125 L 1.484375 -2.515625 C 1.484375 -2.65625 1.484375 -2.671875 1.609375 -2.8125 C 1.828125 -3.109375 2.203125 -3.28125 2.5625 -3.28125 C 2.96875 -3.28125 3.28125 -3.03125 3.4375 -2.796875 C 3.578125 -2.578125 3.6875 -2.296875 3.6875 -1.71875 Z M 3.6875 -1.71875 \"/>\n",
       "</symbol>\n",
       "<symbol overflow=\"visible\" id=\"glyph-1653391830009729-4-4\">\n",
       "<path style=\"stroke:none;\" d=\"M 3.5 -0.953125 C 3.5 -1.046875 3.390625 -1.046875 3.375 -1.046875 C 3.3125 -1.046875 3.28125 -1.046875 3.25 -0.953125 C 3.203125 -0.796875 2.96875 -0.171875 2.1875 -0.171875 C 1.6875 -0.171875 0.984375 -0.546875 0.984375 -1.71875 C 0.984375 -2.859375 1.578125 -3.296875 2.15625 -3.296875 C 2.21875 -3.296875 2.640625 -3.296875 2.921875 -3.15625 C 2.703125 -3.078125 2.671875 -2.890625 2.671875 -2.796875 C 2.671875 -2.59375 2.8125 -2.421875 3.046875 -2.421875 C 3.25 -2.421875 3.40625 -2.578125 3.40625 -2.8125 C 3.40625 -3.296875 2.875 -3.546875 2.125 -3.546875 C 1.03125 -3.546875 0.28125 -2.65625 0.28125 -1.71875 C 0.28125 -0.703125 1.109375 0.078125 2.109375 0.078125 C 3.21875 0.078125 3.5 -0.859375 3.5 -0.953125 Z M 3.5 -0.953125 \"/>\n",
       "</symbol>\n",
       "<symbol overflow=\"visible\" id=\"glyph-1653391830009729-4-5\">\n",
       "<path style=\"stroke:none;\" d=\"M 3.046875 -3 C 3.046875 -3.28125 2.796875 -3.5 2.4375 -3.5 C 1.921875 -3.5 1.578125 -3.109375 1.40625 -2.671875 L 1.40625 -3.5 L 0.28125 -3.40625 L 0.28125 -3.15625 C 0.8125 -3.15625 0.875 -3.09375 0.875 -2.703125 L 0.875 -0.625 C 0.875 -0.265625 0.78125 -0.265625 0.28125 -0.265625 L 0.28125 0 C 0.59375 -0.03125 1.03125 -0.03125 1.21875 -0.03125 C 1.6875 -0.03125 1.703125 -0.03125 2.21875 0 L 2.21875 -0.265625 L 2.0625 -0.265625 C 1.46875 -0.265625 1.453125 -0.34375 1.453125 -0.640625 L 1.453125 -1.8125 C 1.453125 -2.40625 1.703125 -3.265625 2.46875 -3.28125 C 2.421875 -3.25 2.34375 -3.1875 2.34375 -3 C 2.34375 -2.75 2.53125 -2.640625 2.6875 -2.640625 C 2.875 -2.640625 3.046875 -2.765625 3.046875 -3 Z M 3.046875 -3 \"/>\n",
       "</symbol>\n",
       "<symbol overflow=\"visible\" id=\"glyph-1653391830009729-4-6\">\n",
       "<path style=\"stroke:none;\" d=\"M 3.5 -0.953125 C 3.5 -0.984375 3.484375 -1.0625 3.375 -1.0625 C 3.28125 -1.0625 3.265625 -1.015625 3.25 -0.953125 C 2.96875 -0.1875 2.28125 -0.171875 2.140625 -0.171875 C 1.78125 -0.171875 1.421875 -0.328125 1.1875 -0.703125 C 0.9375 -1.0625 0.9375 -1.578125 0.9375 -1.8125 L 3.28125 -1.8125 C 3.453125 -1.8125 3.5 -1.8125 3.5 -2 C 3.5 -2.703125 3.109375 -3.546875 2 -3.546875 C 1.015625 -3.546875 0.234375 -2.71875 0.234375 -1.734375 C 0.234375 -0.71875 1.09375 0.078125 2.09375 0.078125 C 3.109375 0.078125 3.5 -0.765625 3.5 -0.953125 Z M 2.953125 -2.015625 L 0.953125 -2.015625 C 1.03125 -3.125 1.703125 -3.3125 2 -3.3125 C 2.921875 -3.3125 2.953125 -2.203125 2.953125 -2.015625 Z M 2.953125 -2.015625 \"/>\n",
       "</symbol>\n",
       "<symbol overflow=\"visible\" id=\"glyph-1653391830009729-4-7\">\n",
       "<path style=\"stroke:none;\" d=\"M 4.078125 -0.71875 L 4.078125 -1.15625 L 3.828125 -1.15625 L 3.828125 -0.71875 C 3.828125 -0.390625 3.71875 -0.265625 3.546875 -0.265625 C 3.25 -0.265625 3.25 -0.625 3.25 -0.71875 L 3.25 -2.359375 C 3.25 -3.140625 2.5 -3.546875 1.78125 -3.546875 C 1.125 -3.546875 0.53125 -3.28125 0.53125 -2.765625 C 0.53125 -2.53125 0.703125 -2.375 0.90625 -2.375 C 1.125 -2.375 1.28125 -2.546875 1.28125 -2.75 C 1.28125 -2.9375 1.15625 -3.078125 0.984375 -3.125 C 1.28125 -3.3125 1.703125 -3.3125 1.765625 -3.3125 C 2.203125 -3.3125 2.65625 -3.015625 2.65625 -2.359375 L 2.65625 -2.109375 C 2.1875 -2.09375 1.65625 -2.0625 1.109375 -1.828125 C 0.40625 -1.53125 0.265625 -1.078125 0.265625 -0.8125 C 0.265625 -0.125 1.078125 0.078125 1.625 0.078125 C 2.203125 0.078125 2.5625 -0.25 2.734375 -0.5625 C 2.765625 -0.265625 2.96875 0.046875 3.328125 0.046875 C 3.40625 0.046875 4.078125 0.015625 4.078125 -0.71875 Z M 2.65625 -1.125 C 2.65625 -0.34375 2 -0.140625 1.6875 -0.140625 C 1.265625 -0.140625 0.921875 -0.421875 0.921875 -0.796875 C 0.921875 -1.328125 1.40625 -1.859375 2.65625 -1.90625 Z M 2.65625 -1.125 \"/>\n",
       "</symbol>\n",
       "<symbol overflow=\"visible\" id=\"glyph-1653391830009729-4-8\">\n",
       "<path style=\"stroke:none;\" d=\"M 2.796875 -0.984375 L 2.796875 -1.4375 L 2.5625 -1.4375 L 2.5625 -1.015625 C 2.5625 -0.453125 2.3125 -0.171875 2.015625 -0.171875 C 1.46875 -0.171875 1.46875 -0.84375 1.46875 -0.96875 L 1.46875 -3.15625 L 2.65625 -3.15625 L 2.65625 -3.421875 L 1.46875 -3.421875 L 1.46875 -4.875 L 1.234375 -4.875 C 1.21875 -4.15625 0.890625 -3.40625 0.15625 -3.375 L 0.15625 -3.15625 L 0.875 -3.15625 L 0.875 -0.984375 C 0.875 -0.0625 1.59375 0.078125 1.953125 0.078125 C 2.484375 0.078125 2.796875 -0.390625 2.796875 -0.984375 Z M 2.796875 -0.984375 \"/>\n",
       "</symbol>\n",
       "<symbol overflow=\"visible\" id=\"glyph-1653391830009729-4-9\">\n",
       "<path style=\"stroke:none;\" d=\"M 2.0625 0 L 2.0625 -0.265625 C 1.546875 -0.265625 1.515625 -0.296875 1.515625 -0.609375 L 1.515625 -3.5 L 0.359375 -3.40625 L 0.359375 -3.15625 C 0.859375 -3.15625 0.9375 -3.109375 0.9375 -2.71875 L 0.9375 -0.625 C 0.9375 -0.265625 0.84375 -0.265625 0.328125 -0.265625 L 0.328125 0 C 0.640625 -0.03125 1.09375 -0.03125 1.203125 -0.03125 C 1.3125 -0.03125 1.78125 -0.03125 2.0625 0 Z M 1.609375 -4.78125 C 1.609375 -5.046875 1.40625 -5.21875 1.171875 -5.21875 C 0.9375 -5.21875 0.734375 -5.046875 0.734375 -4.78125 C 0.734375 -4.546875 0.921875 -4.34375 1.171875 -4.34375 C 1.421875 -4.34375 1.609375 -4.546875 1.609375 -4.78125 Z M 1.609375 -4.78125 \"/>\n",
       "</symbol>\n",
       "<symbol overflow=\"visible\" id=\"glyph-1653391830009729-4-10\">\n",
       "<path style=\"stroke:none;\" d=\"M 4.453125 0 L 4.453125 -0.265625 C 3.953125 -0.265625 3.859375 -0.265625 3.859375 -0.625 L 3.859375 -2.40625 C 3.859375 -3.078125 3.5625 -3.5 2.71875 -3.5 C 1.9375 -3.5 1.578125 -2.921875 1.484375 -2.734375 L 1.46875 -2.734375 L 1.46875 -3.5 L 0.328125 -3.40625 L 0.328125 -3.15625 C 0.859375 -3.15625 0.921875 -3.09375 0.921875 -2.703125 L 0.921875 -0.625 C 0.921875 -0.265625 0.828125 -0.265625 0.328125 -0.265625 L 0.328125 0 C 0.671875 -0.03125 1.015625 -0.03125 1.234375 -0.03125 C 1.453125 -0.03125 1.796875 -0.03125 2.140625 0 L 2.140625 -0.265625 C 1.625 -0.265625 1.53125 -0.265625 1.53125 -0.625 L 1.53125 -2.0625 C 1.53125 -2.890625 2.171875 -3.28125 2.65625 -3.28125 C 3.140625 -3.28125 3.25 -2.9375 3.25 -2.4375 L 3.25 -0.625 C 3.25 -0.265625 3.15625 -0.265625 2.65625 -0.265625 L 2.65625 0 C 3 -0.03125 3.34375 -0.03125 3.5625 -0.03125 C 3.78125 -0.03125 4.125 -0.03125 4.453125 0 Z M 4.453125 0 \"/>\n",
       "</symbol>\n",
       "<symbol overflow=\"visible\" id=\"glyph-1653391830009729-4-11\">\n",
       "<path style=\"stroke:none;\" d=\"M 8.5 -5.15625 L 8.5 -5.421875 C 8.234375 -5.390625 7.96875 -5.390625 7.71875 -5.390625 C 7.484375 -5.390625 7.234375 -5.390625 6.796875 -5.421875 L 6.796875 -5.15625 C 7.234375 -5.15625 7.46875 -4.953125 7.46875 -4.734375 C 7.46875 -4.703125 7.46875 -4.6875 7.421875 -4.578125 L 6.15625 -0.90625 L 4.828125 -4.765625 C 4.78125 -4.875 4.78125 -4.890625 4.78125 -4.90625 C 4.78125 -5.15625 5.203125 -5.15625 5.421875 -5.15625 L 5.421875 -5.421875 L 4.328125 -5.390625 C 4.03125 -5.390625 3.703125 -5.390625 3.34375 -5.421875 L 3.34375 -5.15625 C 3.765625 -5.15625 3.890625 -5.140625 3.984375 -5.015625 C 4.046875 -4.90625 4.1875 -4.4375 4.1875 -4.4375 L 4.15625 -4.34375 L 2.96875 -0.90625 L 1.640625 -4.78125 C 1.609375 -4.875 1.609375 -4.90625 1.609375 -4.90625 C 1.609375 -5.15625 2.03125 -5.15625 2.25 -5.15625 L 2.25 -5.421875 L 1.15625 -5.390625 C 0.84375 -5.390625 0.515625 -5.390625 0.15625 -5.421875 L 0.15625 -5.15625 C 0.625 -5.15625 0.765625 -5.15625 0.875 -4.859375 L 2.546875 -0.015625 C 2.578125 0.09375 2.609375 0.171875 2.734375 0.171875 C 2.84375 0.171875 2.890625 0.09375 2.921875 -0.015625 L 4.328125 -4.0625 L 5.71875 -0.015625 C 5.75 0.078125 5.78125 0.171875 5.90625 0.171875 C 6.046875 0.171875 6.078125 0.09375 6.109375 -0.015625 L 7.703125 -4.625 C 7.8125 -4.953125 8.03125 -5.15625 8.5 -5.15625 Z M 8.5 -5.15625 \"/>\n",
       "</symbol>\n",
       "<symbol overflow=\"visible\" id=\"glyph-1653391830009729-4-12\">\n",
       "<path style=\"stroke:none;\" d=\"M 4.09375 -3.1875 C 4.09375 -3.3125 3.984375 -3.59375 3.640625 -3.59375 C 3.5 -3.59375 3.125 -3.5625 2.75 -3.21875 C 2.5625 -3.359375 2.25 -3.5 1.875 -3.5 C 1.09375 -3.5 0.515625 -2.953125 0.515625 -2.328125 C 0.515625 -1.953125 0.71875 -1.6875 0.875 -1.53125 C 0.703125 -1.328125 0.640625 -1.078125 0.640625 -0.875 C 0.640625 -0.5625 0.796875 -0.3125 0.96875 -0.171875 C 0.5625 -0.0625 0.234375 0.25 0.234375 0.609375 C 0.234375 1.1875 1.0625 1.625 2.109375 1.625 C 3.09375 1.625 3.96875 1.21875 3.96875 0.59375 C 3.96875 0.171875 3.71875 -0.171875 3.453125 -0.296875 C 2.984375 -0.546875 2.59375 -0.546875 1.8125 -0.546875 L 1.375 -0.546875 C 1.125 -0.578125 0.921875 -0.78125 0.921875 -1.078125 C 0.921875 -1.265625 0.96875 -1.328125 1.03125 -1.40625 C 1.359375 -1.203125 1.671875 -1.171875 1.859375 -1.171875 C 2.65625 -1.171875 3.234375 -1.71875 3.234375 -2.328125 C 3.234375 -2.640625 3.09375 -2.890625 2.90625 -3.09375 C 3.015625 -3.1875 3.28125 -3.359375 3.671875 -3.359375 C 3.640625 -3.34375 3.59375 -3.296875 3.59375 -3.171875 C 3.59375 -3.03125 3.703125 -2.921875 3.84375 -2.921875 C 3.953125 -2.921875 4.09375 -3 4.09375 -3.1875 Z M 2.609375 -2.328125 C 2.609375 -2.046875 2.5625 -1.828125 2.4375 -1.671875 C 2.265625 -1.453125 2.015625 -1.390625 1.875 -1.390625 C 1.140625 -1.390625 1.140625 -2.15625 1.140625 -2.328125 C 1.140625 -2.625 1.171875 -2.828125 1.296875 -3 C 1.421875 -3.171875 1.65625 -3.265625 1.859375 -3.265625 C 2.609375 -3.265625 2.609375 -2.515625 2.609375 -2.328125 Z M 3.5 0.609375 C 3.5 1.03125 2.890625 1.390625 2.109375 1.390625 C 1.3125 1.390625 0.703125 1.03125 0.703125 0.609375 C 0.703125 0.4375 0.828125 -0.03125 1.484375 -0.03125 L 2.25 -0.03125 C 2.453125 -0.03125 3.5 -0.03125 3.5 0.609375 Z M 3.5 0.609375 \"/>\n",
       "</symbol>\n",
       "<symbol overflow=\"visible\" id=\"glyph-1653391830009729-4-13\">\n",
       "<path style=\"stroke:none;\" d=\"M 4.453125 0 L 4.453125 -0.265625 C 3.921875 -0.265625 3.859375 -0.3125 3.859375 -0.703125 L 3.859375 -3.5 L 2.65625 -3.40625 L 2.65625 -3.15625 C 3.1875 -3.15625 3.25 -3.09375 3.25 -2.703125 L 3.25 -1.328125 C 3.25 -0.640625 2.84375 -0.140625 2.25 -0.140625 C 1.5625 -0.140625 1.53125 -0.484375 1.53125 -0.875 L 1.53125 -3.5 L 0.328125 -3.40625 L 0.328125 -3.15625 C 0.921875 -3.15625 0.921875 -3.125 0.921875 -2.421875 L 0.921875 -1.234375 C 0.921875 -0.65625 0.921875 0.078125 2.203125 0.078125 C 2.9375 0.078125 3.234375 -0.484375 3.265625 -0.5625 L 3.28125 -0.5625 L 3.28125 0.078125 Z M 4.453125 0 \"/>\n",
       "</symbol>\n",
       "<symbol overflow=\"visible\" id=\"glyph-1653391830009729-4-14\">\n",
       "<path style=\"stroke:none;\" d=\"M 4.265625 -3.15625 L 4.265625 -3.421875 C 4 -3.390625 3.984375 -3.390625 3.65625 -3.390625 C 3.578125 -3.390625 3.203125 -3.390625 2.953125 -3.421875 L 2.953125 -3.15625 C 3.234375 -3.140625 3.3125 -2.96875 3.3125 -2.828125 C 3.3125 -2.75 3.296875 -2.71875 3.265625 -2.640625 L 2.40625 -0.640625 L 1.46875 -2.796875 C 1.421875 -2.890625 1.421875 -2.953125 1.421875 -2.953125 C 1.421875 -3.15625 1.703125 -3.15625 1.84375 -3.15625 L 1.84375 -3.421875 C 1.5 -3.390625 1.125 -3.390625 0.96875 -3.390625 C 0.8125 -3.390625 0.421875 -3.390625 0.171875 -3.421875 L 0.171875 -3.15625 C 0.65625 -3.15625 0.703125 -3.109375 0.8125 -2.84375 L 2.015625 -0.09375 C 2.0625 0.03125 2.109375 0.078125 2.21875 0.078125 C 2.328125 0.078125 2.390625 0.015625 2.421875 -0.078125 L 3.515625 -2.609375 C 3.703125 -3.046875 3.984375 -3.15625 4.265625 -3.15625 Z M 4.265625 -3.15625 \"/>\n",
       "</symbol>\n",
       "<symbol overflow=\"visible\" id=\"glyph-1653391830009729-5-0\">\n",
       "<path style=\"stroke:none;\" d=\"\"/>\n",
       "</symbol>\n",
       "<symbol overflow=\"visible\" id=\"glyph-1653391830009729-5-1\">\n",
       "<path style=\"stroke:none;\" d=\"M 1.75 -3.15625 L 2.53125 -3.15625 C 2.6875 -3.15625 2.78125 -3.15625 2.78125 -3.3125 C 2.78125 -3.421875 2.671875 -3.421875 2.546875 -3.421875 L 1.8125 -3.421875 L 2.109375 -4.546875 C 2.140625 -4.671875 2.140625 -4.703125 2.140625 -4.71875 C 2.140625 -4.875 2.015625 -4.953125 1.875 -4.953125 C 1.609375 -4.953125 1.546875 -4.75 1.453125 -4.390625 L 1.21875 -3.421875 L 0.453125 -3.421875 C 0.296875 -3.421875 0.203125 -3.421875 0.203125 -3.265625 C 0.203125 -3.15625 0.296875 -3.15625 0.4375 -3.15625 L 1.15625 -3.15625 L 0.671875 -1.25 C 0.625 -1.0625 0.5625 -0.78125 0.5625 -0.671875 C 0.5625 -0.1875 0.9375 0.078125 1.359375 0.078125 C 2.21875 0.078125 2.703125 -1.046875 2.703125 -1.140625 C 2.703125 -1.21875 2.625 -1.234375 2.578125 -1.234375 C 2.5 -1.234375 2.484375 -1.203125 2.421875 -1.09375 C 2.265625 -0.703125 1.875 -0.140625 1.390625 -0.140625 C 1.21875 -0.140625 1.125 -0.25 1.125 -0.515625 C 1.125 -0.671875 1.15625 -0.75 1.171875 -0.859375 Z M 1.75 -3.15625 \"/>\n",
       "</symbol>\n",
       "<symbol overflow=\"visible\" id=\"glyph-1653391830009729-6-0\">\n",
       "<path style=\"stroke:none;\" d=\"\"/>\n",
       "</symbol>\n",
       "<symbol overflow=\"visible\" id=\"glyph-1653391830009729-6-1\">\n",
       "<path style=\"stroke:none;\" d=\"M 3.28125 -1.90625 C 3.28125 -2.328125 3.28125 -3.953125 1.8125 -3.953125 C 0.359375 -3.953125 0.359375 -2.328125 0.359375 -1.90625 C 0.359375 -1.46875 0.359375 0.125 1.8125 0.125 C 3.28125 0.125 3.28125 -1.46875 3.28125 -1.90625 Z M 1.8125 -0.0625 C 1.5625 -0.0625 1.15625 -0.1875 1.015625 -0.671875 C 0.921875 -1.03125 0.921875 -1.609375 0.921875 -1.96875 C 0.921875 -2.375 0.921875 -2.828125 1 -3.15625 C 1.15625 -3.6875 1.609375 -3.765625 1.8125 -3.765625 C 2.09375 -3.765625 2.484375 -3.640625 2.609375 -3.1875 C 2.703125 -2.875 2.703125 -2.4375 2.703125 -1.96875 C 2.703125 -1.59375 2.703125 -1 2.609375 -0.65625 C 2.4375 -0.140625 2.015625 -0.0625 1.8125 -0.0625 Z M 1.8125 -0.0625 \"/>\n",
       "</symbol>\n",
       "<symbol overflow=\"visible\" id=\"glyph-1653391830009729-6-2\">\n",
       "<path style=\"stroke:none;\" d=\"M 2.140625 -3.78125 C 2.140625 -3.953125 2.109375 -3.953125 1.9375 -3.953125 C 1.546875 -3.578125 0.9375 -3.578125 0.71875 -3.578125 L 0.71875 -3.34375 C 0.875 -3.34375 1.265625 -3.34375 1.625 -3.515625 L 1.625 -0.5 C 1.625 -0.3125 1.625 -0.234375 1.015625 -0.234375 L 0.75 -0.234375 L 0.75 0 C 1.078125 -0.03125 1.546875 -0.03125 1.875 -0.03125 C 2.21875 -0.03125 2.671875 -0.03125 3 0 L 3 -0.234375 L 2.75 -0.234375 C 2.140625 -0.234375 2.140625 -0.3125 2.140625 -0.5 Z M 2.140625 -3.78125 \"/>\n",
       "</symbol>\n",
       "</g>\n",
       "<clipPath id=\"clip-1653391830009729-1\">\n",
       "  <path d=\"M 0.464844 0 L 494.175781 0 L 494.175781 274.207031 L 0.464844 274.207031 Z M 0.464844 0 \"/>\n",
       "</clipPath>\n",
       "<clipPath id=\"clip-1653391830009729-2\">\n",
       "  <path d=\"M 31.984375 4.773438 L 398.117188 4.773438 L 398.117188 241.503906 L 31.984375 241.503906 Z M 31.984375 4.773438 \"/>\n",
       "</clipPath>\n",
       "<clipPath id=\"clip-1653391830009729-3\">\n",
       "  <path d=\"M 40 55 L 398.117188 55 L 398.117188 57 L 40 57 Z M 40 55 \"/>\n",
       "</clipPath>\n",
       "<clipPath id=\"clip-1653391830009729-4\">\n",
       "  <path d=\"M 36 76 L 398.117188 76 L 398.117188 78 L 36 78 Z M 36 76 \"/>\n",
       "</clipPath>\n",
       "<clipPath id=\"clip-1653391830009729-5\">\n",
       "  <path d=\"M 65 4.773438 L 67 4.773438 L 67 241.503906 L 65 241.503906 Z M 65 4.773438 \"/>\n",
       "</clipPath>\n",
       "<clipPath id=\"clip-1653391830009729-6\">\n",
       "  <path d=\"M 75 4.773438 L 77 4.773438 L 77 241.503906 L 75 241.503906 Z M 75 4.773438 \"/>\n",
       "</clipPath>\n",
       "</defs>\n",
       "<g id=\"surface1\">\n",
       "<g clip-path=\"url(#clip-1653391830009729-1)\" clip-rule=\"nonzero\">\n",
       "<path style=\" stroke:none;fill-rule:nonzero;fill:rgb(100%,100%,100%);fill-opacity:1;\" d=\"M 0.464844 274.207031 L 496.027344 274.207031 L 496.027344 -1.027344 L 0.464844 -1.027344 Z M 0.464844 274.207031 \"/>\n",
       "<path style=\" stroke:none;fill-rule:nonzero;fill:rgb(100%,100%,100%);fill-opacity:1;\" d=\"M 0.464844 274.210938 L 0.464844 0 L 494.183594 0 L 494.183594 274.210938 Z M 0.464844 274.210938 \"/>\n",
       "</g>\n",
       "<path style=\" stroke:none;fill-rule:nonzero;fill:rgb(100%,100%,100%);fill-opacity:1;\" d=\"M 31.984375 241.503906 L 398.117188 241.503906 L 398.117188 4.773438 L 31.984375 4.773438 Z M 31.984375 241.503906 \"/>\n",
       "<path style=\"fill:none;stroke-width:0.49814;stroke-linecap:butt;stroke-linejoin:miter;stroke:rgb(0%,0%,0%);stroke-opacity:0.1;stroke-miterlimit:10;\" d=\"M 0.00114372 -0.000353148 L 0.00114372 237.501998 \" transform=\"matrix(0.99675,0,0,-0.99675,31.983235,241.503554)\"/>\n",
       "<path style=\"fill:none;stroke-width:0.49814;stroke-linecap:butt;stroke-linejoin:miter;stroke:rgb(0%,0%,0%);stroke-opacity:0.1;stroke-miterlimit:10;\" d=\"M 0.00114372 -0.000353148 L 367.327768 -0.000353148 \" transform=\"matrix(0.99675,0,0,-0.99675,31.983235,241.503554)\"/>\n",
       "<path style=\"fill:none;stroke-width:0.19925;stroke-linecap:butt;stroke-linejoin:miter;stroke:rgb(0%,0%,0%);stroke-opacity:1;stroke-miterlimit:10;\" d=\"M 0.00114372 -2.124444 L 0.00114372 2.127657 \" transform=\"matrix(0.99675,0,0,-0.99675,31.983235,241.503554)\"/>\n",
       "<path style=\"fill:none;stroke-width:0.19925;stroke-linecap:butt;stroke-linejoin:miter;stroke:rgb(0%,0%,0%);stroke-opacity:1;stroke-miterlimit:10;\" d=\"M -2.126866 -0.000353148 L 2.125235 -0.000353148 \" transform=\"matrix(0.99675,0,0,-0.99675,31.983235,241.503554)\"/>\n",
       "<path style=\"fill:none;stroke-width:0.99628;stroke-linecap:butt;stroke-linejoin:miter;stroke:rgb(0%,0%,0%);stroke-opacity:1;stroke-miterlimit:10;\" d=\"M 0.00114372 -0.000353148 L 364.439475 -0.000353148 \" transform=\"matrix(0.99675,0,0,-0.99675,31.983235,241.503554)\"/>\n",
       "<path style=\" stroke:none;fill-rule:nonzero;fill:rgb(0%,0%,0%);fill-opacity:1;\" d=\"M 398.117188 241.503906 L 393.511719 239.199219 L 395.238281 241.503906 L 393.511719 243.808594 \"/>\n",
       "<path style=\"fill:none;stroke-width:0.99628;stroke-linecap:butt;stroke-linejoin:miter;stroke:rgb(0%,0%,0%);stroke-opacity:1;stroke-miterlimit:10;\" d=\"M 0.00114372 -0.000353148 L 0.00114372 234.613705 \" transform=\"matrix(0.99675,0,0,-0.99675,31.983235,241.503554)\"/>\n",
       "<path style=\" stroke:none;fill-rule:nonzero;fill:rgb(0%,0%,0%);fill-opacity:1;\" d=\"M 31.984375 4.773438 L 29.679688 9.382812 L 31.984375 7.652344 L 34.285156 9.382812 \"/>\n",
       "<g style=\"fill:rgb(0%,0%,0%);fill-opacity:1;\">\n",
       "  <use xlink:href=\"#glyph-1653391830009729-0-1\" x=\"29.873115\" y=\"252.250513\"/>\n",
       "</g>\n",
       "<g style=\"fill:rgb(0%,0%,0%);fill-opacity:1;\">\n",
       "  <use xlink:href=\"#glyph-1653391830009729-0-1\" x=\"22.135345\" y=\"244.063208\"/>\n",
       "</g>\n",
       "<g clip-path=\"url(#clip-1653391830009729-2)\" clip-rule=\"nonzero\">\n",
       "<path style=\"fill:none;stroke-width:0.99628;stroke-linecap:butt;stroke-linejoin:miter;stroke:rgb(0%,0%,100%);stroke-opacity:1;stroke-miterlimit:10;\" d=\"M 494.773215 0.199515 L 489.11028 1.390887 L 483.486534 2.582259 L 477.905897 3.773631 L 472.364449 4.968922 L 466.862192 6.160294 L 461.399125 7.351666 L 455.975247 8.546957 L 450.590559 9.738329 L 445.24898 10.929701 L 439.942672 12.121073 L 434.679473 13.316364 L 429.455464 14.507736 L 424.270645 15.699108 L 419.128934 16.894399 L 414.022494 18.085771 L 408.955245 19.277142 L 403.931104 20.468514 L 398.946152 21.663805 L 393.996472 22.855177 L 389.089901 24.046549 L 384.222519 25.24184 L 379.394328 26.433212 L 374.605326 27.624584 L 369.855514 28.815956 L 365.144892 30.011247 L 360.47346 31.202619 L 355.841218 32.393991 L 351.244246 33.585363 L 346.690384 34.780654 L 342.175711 35.972026 L 337.696309 37.163398 L 333.260016 38.358689 L 328.858994 39.550061 L 324.497162 40.741433 L 320.17452 41.932805 L 315.887148 43.128096 L 311.642886 44.319468 L 307.433894 45.510839 L 303.264092 46.70613 L 299.129561 47.897502 L 295.03422 49.088874 L 290.978069 50.280246 L 286.957188 51.475537 L 282.975498 52.666909 L 279.029078 53.858281 L 275.121849 55.053572 L 271.24989 56.244944 L 267.417121 57.436316 L 263.619623 58.627688 L 259.861314 59.822979 L 256.134358 61.014351 L 252.446591 62.205723 L 248.798015 63.401014 L 245.18079 64.592386 L 241.602755 65.783758 L 238.059991 66.97513 L 234.552498 68.170421 L 231.080276 69.361793 L 227.647244 70.553165 L 224.245563 71.748455 L 220.879153 72.939827 L 217.548015 74.131199 L 214.252147 75.322571 L 210.99155 76.517862 L 207.766224 77.709234 L 204.57225 78.900606 L 201.413547 80.091978 L 198.290114 81.287269 L 195.201953 82.478641 L 192.145143 83.670013 L 189.119685 84.865304 L 186.133417 86.056676 L 183.174582 87.248048 L 180.251018 88.43942 L 177.362725 89.634711 L 174.501865 90.826083 L 171.676275 92.017455 L 168.885957 93.212746 L 166.123071 94.404118 L 163.395456 95.59549 L 160.695275 96.786862 L 158.030364 97.982152 L 155.396805 99.173524 L 152.794597 100.364896 L 150.219823 101.560187 L 147.68032 102.751559 L 145.168249 103.942931 L 142.687531 105.134303 L 140.238164 106.329594 L 137.81623 107.520966 L 135.425648 108.712338 L 133.066418 109.907629 L 130.734621 111.099001 L 128.430257 112.290373 L 126.157245 113.481745 L 123.915584 114.677036 L 121.697438 115.868408 L 119.510643 117.05978 L 117.351282 118.255071 L 115.219353 119.446443 L 113.118776 120.637815 L 111.041713 121.829187 L 108.992083 123.024478 L 106.969886 124.21585 L 104.979041 125.407221 L 103.011709 126.598593 L 101.067892 127.793884 L 99.155426 128.985256 L 97.266475 130.176628 L 95.404956 131.371919 L 93.566951 132.563291 L 91.756379 133.754663 L 89.969322 134.946035 L 88.209697 136.141326 L 86.473585 137.332698 L 84.760988 138.52407 L 83.075824 139.719361 L 81.414174 140.910733 L 79.772118 142.102105 L 78.157496 143.293477 L 76.570306 144.488768 L 75.002711 145.68014 L 73.454712 146.871512 L 71.934145 148.066803 L 70.437092 149.258175 L 68.959634 150.449547 L 67.50569 151.640918 L 66.07526 152.836209 L 64.664424 154.027581 L 63.277103 155.218953 L 61.909377 156.414244 L 60.565164 157.605616 L 59.240547 158.796988 L 57.939443 159.98836 L 56.657935 161.183651 L 55.392102 162.375023 L 54.153702 163.566395 L 52.930978 164.761686 L 51.727849 165.953058 L 50.548234 167.14443 L 49.384295 168.335802 L 48.239951 169.531093 L 47.115202 170.722465 L 46.010048 171.913837 L 44.924488 173.105209 L 43.854605 174.3005 L 42.804317 175.491872 L 41.773623 176.683244 L 40.758605 177.878534 L 39.759264 179.069906 L 38.779517 180.261278 L 37.819365 181.45265 L 36.87489 182.647941 L 35.94609 183.839313 L 35.032966 185.030685 L 34.139437 186.225976 L 33.257665 187.417348 L 32.395488 188.60872 L 31.548987 189.800092 L 30.718162 190.995383 L 29.899093 192.186755 L 29.09962 193.378127 L 28.315823 194.573418 L 27.543782 195.76479 L 26.787418 196.956162 L 26.046729 198.147534 L 25.317798 199.342825 L 24.604542 200.534197 L 23.906963 201.725569 L 23.22114 202.92086 L 22.550993 204.112232 L 21.892603 205.303603 L 21.245971 206.494975 L 20.615014 207.690266 L 19.995814 208.881638 L 19.39229 210.07301 L 18.796604 211.264382 L 18.216594 212.459673 L 17.648341 213.651045 L 17.091845 214.842417 L 16.547106 216.037708 L 16.014123 217.22908 L 15.492898 218.420452 L 14.979511 219.611824 L 14.4818 220.807115 L 13.995845 221.998487 L 13.517729 223.189859 L 13.051369 224.38515 L 12.596767 225.576522 L 12.150003 226.767894 L 11.714995 227.959266 L 11.291744 229.154557 L 10.876332 230.345929 L 10.472676 231.5373 L 10.076859 232.732591 L 9.692798 233.923963 L 9.316575 235.115335 L 8.94819 236.306707 L 8.591563 237.501998 \" transform=\"matrix(0.99675,0,0,-0.99675,31.983235,241.503554)\"/>\n",
       "<path style=\"fill:none;stroke-width:0.99628;stroke-linecap:butt;stroke-linejoin:miter;stroke:rgb(0%,0%,100%);stroke-opacity:1;stroke-dasharray:2.98883,2.98883;stroke-miterlimit:10;\" d=\"M 459.161383 0.199515 L 453.764939 1.390887 L 448.403765 2.582259 L 443.0857 3.773631 L 437.806825 4.968922 L 432.56322 6.160294 L 427.362725 7.351666 L 422.20142 8.546957 L 417.075385 9.738329 L 411.992459 10.929701 L 406.944804 12.121073 L 401.936339 13.316364 L 396.970983 14.507736 L 392.040898 15.699108 L 387.150003 16.894399 L 382.298297 18.085771 L 377.485781 19.277142 L 372.712455 20.468514 L 367.97832 21.663805 L 363.279454 22.855177 L 358.623698 24.046549 L 354.003213 25.24184 L 349.421917 26.433212 L 344.879812 27.624584 L 340.372977 28.815956 L 335.905332 30.011247 L 331.480796 31.202619 L 327.087612 32.393991 L 322.737537 33.585363 L 318.422733 34.780654 L 314.147118 35.972026 L 309.906775 37.163398 L 305.705621 38.358689 L 301.543657 39.550061 L 297.416964 40.741433 L 293.329461 41.932805 L 289.277228 43.128096 L 285.264186 44.319468 L 281.286415 45.510839 L 277.347833 46.70613 L 273.444522 47.897502 L 269.580401 49.088874 L 265.747632 50.280246 L 261.954053 51.475537 L 258.199664 52.666909 L 254.480546 53.858281 L 250.792779 55.053572 L 247.148121 56.244944 L 243.534816 57.436316 L 239.956781 58.627688 L 236.417936 59.822979 L 232.910443 61.014351 L 229.442139 62.205723 L 226.005188 63.401014 L 222.607427 64.592386 L 219.241017 65.783758 L 215.909878 66.97513 L 212.614011 68.170421 L 209.353414 69.361793 L 206.128088 70.553165 L 202.934113 71.748455 L 199.77541 72.939827 L 196.651978 74.131199 L 193.559897 75.322571 L 190.503088 76.517862 L 187.481549 77.709234 L 184.487443 78.900606 L 181.532527 80.091978 L 178.605044 81.287269 L 175.712832 82.478641 L 172.85589 83.670013 L 170.026382 84.865304 L 167.232144 86.056676 L 164.469259 87.248048 L 161.737725 88.43942 L 159.037543 89.634711 L 156.372632 90.826083 L 153.735154 92.017455 L 151.129028 93.212746 L 148.554254 94.404118 L 146.010831 95.59549 L 143.498761 96.786862 L 141.014123 97.982152 L 138.560838 99.173524 L 136.138904 100.364896 L 133.748322 101.560187 L 131.381254 102.751559 L 129.049457 103.942931 L 126.745093 105.134303 L 124.468162 106.329594 L 122.222582 107.520966 L 120.004436 108.712338 L 117.813722 109.907629 L 115.65436 111.099001 L 113.518513 112.290373 L 111.414017 113.481745 L 109.336954 114.677036 L 107.287324 115.868408 L 105.265127 117.05978 L 103.266443 118.255071 L 101.299112 119.446443 L 99.355295 120.637815 L 97.43891 121.829187 L 95.549959 123.024478 L 93.684521 124.21585 L 91.846516 125.407221 L 90.035944 126.598593 L 88.248886 127.793884 L 86.485342 128.985256 L 84.749231 130.176628 L 83.036634 131.371919 L 81.347551 132.563291 L 79.6859 133.754663 L 78.047764 134.946035 L 76.433141 136.141326 L 74.842033 137.332698 L 73.274438 138.52407 L 71.726438 139.719361 L 70.205872 140.910733 L 68.708819 142.102105 L 67.231361 143.293477 L 65.777417 144.488768 L 64.346986 145.68014 L 62.94007 146.871512 L 61.552749 148.066803 L 60.185023 149.258175 L 58.84081 150.449547 L 57.520112 151.640918 L 56.219008 152.836209 L 54.937499 154.027581 L 53.675586 155.218953 L 52.437186 156.414244 L 51.218381 157.605616 L 50.019171 158.796988 L 48.839556 159.98836 L 47.679536 161.183651 L 46.539111 162.375023 L 45.414362 163.566395 L 44.313126 164.761686 L 43.227567 165.953058 L 42.165522 167.14443 L 41.119152 168.335802 L 40.088459 169.531093 L 39.07736 170.722465 L 38.085857 171.913837 L 37.110029 173.105209 L 36.149877 174.3005 L 35.20932 175.491872 L 34.288358 176.683244 L 33.379153 177.878534 L 32.489544 179.069906 L 31.615609 180.261278 L 30.757351 181.45265 L 29.918688 182.647941 L 29.091782 183.839313 L 28.280552 185.030685 L 27.484997 186.225976 L 26.705119 187.417348 L 25.940917 188.60872 L 25.19239 189.800092 L 24.45954 190.995383 L 23.738446 192.186755 L 23.033029 193.378127 L 22.339368 194.573418 L 21.661383 195.76479 L 20.999074 196.956162 L 20.348523 198.147534 L 19.709728 199.342825 L 19.086609 200.534197 L 18.475247 201.725569 L 17.879561 202.92086 L 17.295632 204.112232 L 16.72346 205.303603 L 16.163045 206.494975 L 15.614387 207.690266 L 15.077486 208.881638 L 14.55626 210.07301 L 14.042873 211.264382 L 13.545162 212.459673 L 13.055288 213.651045 L 12.577172 214.842417 L 12.110813 216.037708 L 11.65621 217.22908 L 11.209446 218.420452 L 10.774438 219.611824 L 10.351188 220.807115 L 9.939694 221.998487 L 9.536038 223.189859 L 9.140221 224.38515 L 8.760079 225.576522 L 8.383856 226.767894 L 8.019391 227.959266 L 7.666682 229.154557 L 7.321811 230.345929 L 6.984778 231.5373 L 6.659502 232.732591 L 6.338145 233.923963 L 6.028545 235.115335 L 5.730702 236.306707 L 5.436778 237.501998 \" transform=\"matrix(0.99675,0,0,-0.99675,31.983235,241.503554)\"/>\n",
       "</g>\n",
       "<g clip-path=\"url(#clip-1653391830009729-3)\" clip-rule=\"nonzero\">\n",
       "<path style=\"fill:none;stroke-width:0.99628;stroke-linecap:butt;stroke-linejoin:miter;stroke:rgb(100%,0%,0%);stroke-opacity:1;stroke-miterlimit:10;\" d=\"M 494.773215 186.28868 L 8.591563 186.28868 \" transform=\"matrix(0.99675,0,0,-0.99675,31.983235,241.503554)\"/>\n",
       "</g>\n",
       "<g clip-path=\"url(#clip-1653391830009729-4)\" clip-rule=\"nonzero\">\n",
       "<path style=\"fill:none;stroke-width:0.99628;stroke-linecap:butt;stroke-linejoin:miter;stroke:rgb(100%,0%,0%);stroke-opacity:1;stroke-dasharray:2.98883,2.98883;stroke-miterlimit:10;\" d=\"M 459.161383 165.423995 L 5.436778 165.423995 \" transform=\"matrix(0.99675,0,0,-0.99675,31.983235,241.503554)\"/>\n",
       "</g>\n",
       "<g clip-path=\"url(#clip-1653391830009729-5)\" clip-rule=\"nonzero\">\n",
       "<path style=\"fill:none;stroke-width:0.99628;stroke-linecap:butt;stroke-linejoin:miter;stroke:rgb(0%,0%,0%);stroke-opacity:1;stroke-miterlimit:10;\" d=\"M 34.08849 -237.502705 L 34.08849 475.000431 \" transform=\"matrix(0.99675,0,0,-0.99675,31.983235,241.503554)\"/>\n",
       "</g>\n",
       "<g clip-path=\"url(#clip-1653391830009729-6)\" clip-rule=\"nonzero\">\n",
       "<path style=\"fill:none;stroke-width:0.99628;stroke-linecap:butt;stroke-linejoin:miter;stroke:rgb(0%,0%,0%);stroke-opacity:1;stroke-dasharray:2.98883,2.98883;stroke-miterlimit:10;\" d=\"M 43.705683 -237.502705 L 43.705683 475.000431 \" transform=\"matrix(0.99675,0,0,-0.99675,31.983235,241.503554)\"/>\n",
       "</g>\n",
       "<path style=\"fill:none;stroke-width:0.99628;stroke-linecap:butt;stroke-linejoin:miter;stroke:rgb(0%,0%,0%);stroke-opacity:1;stroke-miterlimit:10;\" d=\"M 34.08849 9.895088 L 40.81739 9.895088 \" transform=\"matrix(0.99675,0,0,-0.99675,31.983235,241.503554)\"/>\n",
       "<path style=\" stroke:none;fill-rule:nonzero;fill:rgb(0%,0%,0%);fill-opacity:1;\" d=\"M 75.546875 231.640625 L 70.9375 229.335938 L 72.667969 231.640625 L 70.9375 233.945312 \"/>\n",
       "<path style=\"fill:none;stroke-width:0.99628;stroke-linecap:butt;stroke-linejoin:miter;stroke:rgb(0%,0%,100%);stroke-opacity:1;stroke-miterlimit:10;\" d=\"M 69.24572 148.439106 L 69.24572 145.390135 \" transform=\"matrix(0.99675,0,0,-0.99675,31.983235,241.503554)\"/>\n",
       "<path style=\" stroke:none;fill-rule:nonzero;fill:rgb(0%,0%,100%);fill-opacity:1;\" d=\"M 101.003906 99.464844 L 103.308594 94.859375 L 101.003906 96.585938 L 98.699219 94.859375 \"/>\n",
       "<path style=\"fill:none;stroke-width:0.99628;stroke-linecap:butt;stroke-linejoin:miter;stroke:rgb(100%,0%,0%);stroke-opacity:1;stroke-miterlimit:10;\" d=\"M 9.892666 186.28868 L 9.892666 168.316207 \" transform=\"matrix(0.99675,0,0,-0.99675,31.983235,241.503554)\"/>\n",
       "<path style=\" stroke:none;fill-rule:nonzero;fill:rgb(100%,0%,0%);fill-opacity:1;\" d=\"M 41.84375 76.617188 L 44.148438 72.007812 L 41.84375 73.734375 L 39.539062 72.007812 \"/>\n",
       "<g style=\"fill:rgb(0%,0%,0%);fill-opacity:1;\">\n",
       "  <use xlink:href=\"#glyph-1653391830009729-1-1\" x=\"212.345147\" y=\"266.619661\"/>\n",
       "</g>\n",
       "<g style=\"fill:rgb(0%,0%,0%);fill-opacity:1;\">\n",
       "  <use xlink:href=\"#glyph-1653391830009729-2-1\" x=\"15.317575\" y=\"124.951583\"/>\n",
       "</g>\n",
       "<g style=\"fill:rgb(0%,0%,0%);fill-opacity:1;\">\n",
       "  <use xlink:href=\"#glyph-1653391830009729-3-1\" x=\"15.317575\" y=\"127.178323\"/>\n",
       "</g>\n",
       "<path style=\"fill-rule:nonzero;fill:rgb(100%,100%,100%);fill-opacity:1;stroke-width:0.99628;stroke-linecap:butt;stroke-linejoin:miter;stroke:rgb(0%,0%,0%);stroke-opacity:1;stroke-miterlimit:10;\" d=\"M 375.173579 189.14954 L 458.914487 189.14954 L 458.914487 237.004287 L 375.173579 237.004287 Z M 375.173579 189.14954 \" transform=\"matrix(0.99675,0,0,-0.99675,31.983235,241.503554)\"/>\n",
       "<path style=\"fill:none;stroke-width:0.99628;stroke-linecap:butt;stroke-linejoin:miter;stroke:rgb(0%,0%,100%);stroke-opacity:1;stroke-miterlimit:10;\" d=\"M 0.000558315 0.000346376 L 17.008961 0.000346376 \" transform=\"matrix(0.99675,0,0,-0.99675,409.4096,12.746439)\"/>\n",
       "<g style=\"fill:rgb(0%,0%,0%);fill-opacity:1;\">\n",
       "  <use xlink:href=\"#glyph-1653391830009729-4-1\" x=\"428.844231\" y=\"14.758877\"/>\n",
       "  <use xlink:href=\"#glyph-1653391830009729-4-2\" x=\"433.181768\" y=\"14.758877\"/>\n",
       "  <use xlink:href=\"#glyph-1653391830009729-4-3\" x=\"437.400142\" y=\"14.758877\"/>\n",
       "</g>\n",
       "<g style=\"fill:rgb(0%,0%,0%);fill-opacity:1;\">\n",
       "  <use xlink:href=\"#glyph-1653391830009729-4-4\" x=\"444.899474\" y=\"14.758877\"/>\n",
       "  <use xlink:href=\"#glyph-1653391830009729-4-5\" x=\"448.64914\" y=\"14.758877\"/>\n",
       "  <use xlink:href=\"#glyph-1653391830009729-4-6\" x=\"451.938041\" y=\"14.758877\"/>\n",
       "  <use xlink:href=\"#glyph-1653391830009729-4-7\" x=\"455.687707\" y=\"14.758877\"/>\n",
       "  <use xlink:href=\"#glyph-1653391830009729-4-8\" x=\"459.906081\" y=\"14.758877\"/>\n",
       "  <use xlink:href=\"#glyph-1653391830009729-4-9\" x=\"463.187039\" y=\"14.758877\"/>\n",
       "  <use xlink:href=\"#glyph-1653391830009729-4-2\" x=\"465.53058\" y=\"14.758877\"/>\n",
       "  <use xlink:href=\"#glyph-1653391830009729-4-10\" x=\"469.748954\" y=\"14.758877\"/>\n",
       "</g>\n",
       "<g style=\"fill:rgb(0%,0%,0%);fill-opacity:1;\">\n",
       "  <use xlink:href=\"#glyph-1653391830009729-5-1\" x=\"477.248405\" y=\"14.758877\"/>\n",
       "</g>\n",
       "<g style=\"fill:rgb(0%,0%,0%);fill-opacity:1;\">\n",
       "  <use xlink:href=\"#glyph-1653391830009729-6-1\" x=\"480.296466\" y=\"15.862279\"/>\n",
       "</g>\n",
       "<path style=\"fill:none;stroke-width:0.99628;stroke-linecap:butt;stroke-linejoin:miter;stroke:rgb(0%,0%,100%);stroke-opacity:1;stroke-dasharray:2.98883,2.98883;stroke-miterlimit:10;\" d=\"M 0.000558315 -0.00100627 L 17.008961 -0.00100627 \" transform=\"matrix(0.99675,0,0,-0.99675,409.4096,23.721653)\"/>\n",
       "<g style=\"fill:rgb(0%,0%,0%);fill-opacity:1;\">\n",
       "  <use xlink:href=\"#glyph-1653391830009729-4-1\" x=\"428.844231\" y=\"25.734091\"/>\n",
       "  <use xlink:href=\"#glyph-1653391830009729-4-2\" x=\"433.181768\" y=\"25.734091\"/>\n",
       "  <use xlink:href=\"#glyph-1653391830009729-4-3\" x=\"437.400142\" y=\"25.734091\"/>\n",
       "</g>\n",
       "<g style=\"fill:rgb(0%,0%,0%);fill-opacity:1;\">\n",
       "  <use xlink:href=\"#glyph-1653391830009729-4-4\" x=\"444.899474\" y=\"25.734091\"/>\n",
       "  <use xlink:href=\"#glyph-1653391830009729-4-5\" x=\"448.64914\" y=\"25.734091\"/>\n",
       "  <use xlink:href=\"#glyph-1653391830009729-4-6\" x=\"451.938041\" y=\"25.734091\"/>\n",
       "  <use xlink:href=\"#glyph-1653391830009729-4-7\" x=\"455.687707\" y=\"25.734091\"/>\n",
       "  <use xlink:href=\"#glyph-1653391830009729-4-8\" x=\"459.906081\" y=\"25.734091\"/>\n",
       "  <use xlink:href=\"#glyph-1653391830009729-4-9\" x=\"463.187039\" y=\"25.734091\"/>\n",
       "  <use xlink:href=\"#glyph-1653391830009729-4-2\" x=\"465.53058\" y=\"25.734091\"/>\n",
       "  <use xlink:href=\"#glyph-1653391830009729-4-10\" x=\"469.748954\" y=\"25.734091\"/>\n",
       "</g>\n",
       "<g style=\"fill:rgb(0%,0%,0%);fill-opacity:1;\">\n",
       "  <use xlink:href=\"#glyph-1653391830009729-5-1\" x=\"477.248405\" y=\"25.734091\"/>\n",
       "</g>\n",
       "<g style=\"fill:rgb(0%,0%,0%);fill-opacity:1;\">\n",
       "  <use xlink:href=\"#glyph-1653391830009729-6-2\" x=\"480.296466\" y=\"26.837494\"/>\n",
       "</g>\n",
       "<path style=\"fill:none;stroke-width:0.99628;stroke-linecap:butt;stroke-linejoin:miter;stroke:rgb(100%,0%,0%);stroke-opacity:1;stroke-miterlimit:10;\" d=\"M 0.000558315 0.000668924 L 17.008961 0.000668924 \" transform=\"matrix(0.99675,0,0,-0.99675,409.4096,34.65301)\"/>\n",
       "<g style=\"fill:rgb(0%,0%,0%);fill-opacity:1;\">\n",
       "  <use xlink:href=\"#glyph-1653391830009729-4-11\" x=\"430.314438\" y=\"36.621592\"/>\n",
       "</g>\n",
       "<g style=\"fill:rgb(0%,0%,0%);fill-opacity:1;\">\n",
       "  <use xlink:href=\"#glyph-1653391830009729-4-7\" x=\"438.274533\" y=\"36.621592\"/>\n",
       "  <use xlink:href=\"#glyph-1653391830009729-4-12\" x=\"442.492907\" y=\"36.621592\"/>\n",
       "  <use xlink:href=\"#glyph-1653391830009729-4-6\" x=\"446.711281\" y=\"36.621592\"/>\n",
       "</g>\n",
       "<g style=\"fill:rgb(0%,0%,0%);fill-opacity:1;\">\n",
       "  <use xlink:href=\"#glyph-1653391830009729-4-4\" x=\"453.273196\" y=\"36.621592\"/>\n",
       "  <use xlink:href=\"#glyph-1653391830009729-4-13\" x=\"457.022862\" y=\"36.621592\"/>\n",
       "  <use xlink:href=\"#glyph-1653391830009729-4-5\" x=\"461.709944\" y=\"36.621592\"/>\n",
       "  <use xlink:href=\"#glyph-1653391830009729-4-14\" x=\"464.998846\" y=\"36.621592\"/>\n",
       "</g>\n",
       "<g style=\"fill:rgb(0%,0%,0%);fill-opacity:1;\">\n",
       "  <use xlink:href=\"#glyph-1653391830009729-4-6\" x=\"469.21722\" y=\"36.621592\"/>\n",
       "</g>\n",
       "<g style=\"fill:rgb(0%,0%,0%);fill-opacity:1;\">\n",
       "  <use xlink:href=\"#glyph-1653391830009729-5-1\" x=\"475.779195\" y=\"36.621592\"/>\n",
       "</g>\n",
       "<g style=\"fill:rgb(0%,0%,0%);fill-opacity:1;\">\n",
       "  <use xlink:href=\"#glyph-1653391830009729-6-1\" x=\"478.827257\" y=\"37.724994\"/>\n",
       "</g>\n",
       "<path style=\"fill:none;stroke-width:0.99628;stroke-linecap:butt;stroke-linejoin:miter;stroke:rgb(100%,0%,0%);stroke-opacity:1;stroke-dasharray:2.98883,2.98883;stroke-miterlimit:10;\" d=\"M 0.000558315 0.00145297 L 17.008961 0.00145297 \" transform=\"matrix(0.99675,0,0,-0.99675,409.4096,45.540511)\"/>\n",
       "<g style=\"fill:rgb(0%,0%,0%);fill-opacity:1;\">\n",
       "  <use xlink:href=\"#glyph-1653391830009729-4-11\" x=\"430.314438\" y=\"47.509092\"/>\n",
       "</g>\n",
       "<g style=\"fill:rgb(0%,0%,0%);fill-opacity:1;\">\n",
       "  <use xlink:href=\"#glyph-1653391830009729-4-7\" x=\"438.274533\" y=\"47.509092\"/>\n",
       "  <use xlink:href=\"#glyph-1653391830009729-4-12\" x=\"442.492907\" y=\"47.509092\"/>\n",
       "  <use xlink:href=\"#glyph-1653391830009729-4-6\" x=\"446.711281\" y=\"47.509092\"/>\n",
       "</g>\n",
       "<g style=\"fill:rgb(0%,0%,0%);fill-opacity:1;\">\n",
       "  <use xlink:href=\"#glyph-1653391830009729-4-4\" x=\"453.273196\" y=\"47.509092\"/>\n",
       "  <use xlink:href=\"#glyph-1653391830009729-4-13\" x=\"457.022862\" y=\"47.509092\"/>\n",
       "  <use xlink:href=\"#glyph-1653391830009729-4-5\" x=\"461.709944\" y=\"47.509092\"/>\n",
       "  <use xlink:href=\"#glyph-1653391830009729-4-14\" x=\"464.998846\" y=\"47.509092\"/>\n",
       "</g>\n",
       "<g style=\"fill:rgb(0%,0%,0%);fill-opacity:1;\">\n",
       "  <use xlink:href=\"#glyph-1653391830009729-4-6\" x=\"469.21722\" y=\"47.509092\"/>\n",
       "</g>\n",
       "<g style=\"fill:rgb(0%,0%,0%);fill-opacity:1;\">\n",
       "  <use xlink:href=\"#glyph-1653391830009729-5-1\" x=\"475.779195\" y=\"47.509092\"/>\n",
       "</g>\n",
       "<g style=\"fill:rgb(0%,0%,0%);fill-opacity:1;\">\n",
       "  <use xlink:href=\"#glyph-1653391830009729-6-2\" x=\"478.827257\" y=\"48.611497\"/>\n",
       "</g>\n",
       "</g>\n",
       "</svg>\n",
       "\n"
      ]
     },
     "execution_count": 48,
     "metadata": {},
     "output_type": "execute_result"
    }
   ],
   "source": [
    "pgfplotsx()\n",
    "p1 = plot(grid_theta_1, grid_wage, label=L\"Job creation $t_0$\", color=\"blue\")\n",
    "plot!(grid_theta_2, grid_wage, label=L\"Job creation $t_1$\", color=\"blue\", linestyle=:dash)\n",
    "plot!(grid_theta_1, grid_reservation_wage_1, label=L\"Wage curve $t_0$\", color=\"red\")\n",
    "plot!(grid_theta_2, grid_reservation_wage_2, label=L\"Wage curve $t_1$\", xticks=[0.0], yticks=[0.0], ylims=(0.0,maximum(grid_wage)), xlims=(0.0,0.8*maximum(grid_theta_2)), color=\"red\", linestyle=:dash)\n",
    "vline!([m.theta_2], color=\"black\", label=:none) \n",
    "vline!([m_2.theta_2], color=\"black\", linestyle=:dash, label=:none) \n",
    "xaxis!(draw_arrow=true, xlabel = L\"\\theta\")\n",
    "yaxis!(draw_arrow=true, ylabel= L\"\\tilde{w}\")\n",
    "plot!([m.theta_2[1], m_2.theta_2[1]], [0.05, 0.05], arrow=1., label=:none, color=\"black\")\n",
    "plot!([0.35, 0.35], [0.75, 0.72], arrow=1., label=:none, color=\"blue\")\n",
    "plot!([0.05, 0.05], [grid_reservation_wage_1[1], grid_reservation_wage_2[1]], arrow=1., label=:none, color=\"red\")"
   ]
  },
  {
   "cell_type": "markdown",
   "id": "21109ded",
   "metadata": {},
   "source": [
    "#### V-U Space"
   ]
  },
  {
   "cell_type": "code",
   "execution_count": 49,
   "id": "1c2fe544",
   "metadata": {},
   "outputs": [
    {
     "data": {
      "text/plain": [
       "Beveridge_u (generic function with 1 method)"
      ]
     },
     "execution_count": 49,
     "metadata": {},
     "output_type": "execute_result"
    }
   ],
   "source": [
    "function obj_ff(x, v, w_l, p)\n",
    "    c = ((w_l/p.y) - p.mu_p)/p.sigma_p\n",
    "    F = cdf(p.d_normal, c)\n",
    "    theta = v/x[1]\n",
    "    RHS = p.delta/(p.delta + (p.chi*(theta)^(1.0 - p.eta))*(1 - F))\n",
    "    LHS = x[1]\n",
    "    return 0.5*sqrt((RHS - LHS)^2)\n",
    "end\n",
    "    \n",
    "\n",
    "function Beveridge_u(v, w_l, p)\n",
    "\n",
    "    res = optimize(x -> obj_ff(x, v, w_l, p), [v])\n",
    "\n",
    "    if Optim.converged(res) == true\n",
    "        output = res.minimizer[1]\n",
    "    else\n",
    "        output = NaN\n",
    "    end\n",
    "    \n",
    "    return output\n",
    "end\n"
   ]
  },
  {
   "cell_type": "code",
   "execution_count": 50,
   "id": "53c51ec0",
   "metadata": {},
   "outputs": [],
   "source": [
    "# Find the Beveridge curve\n",
    "v_min = 0.0095\n",
    "v_max = 4*m.theta_2[1]*m.u_2[1]\n",
    "\n",
    "grid_v = collect(range(v_min, v_max, nb_points))\n",
    "grid_BC_1 = zeros(nb_points)\n",
    "grid_BC_2 = zeros(nb_points)\n",
    "\n",
    "for i=1:nb_points\n",
    "    grid_BC_1[i] = Beveridge_u(grid_v[i], grid_reservation_wage_1[1], m.p)\n",
    "    grid_BC_2[i] = Beveridge_u(grid_v[i], grid_reservation_wage_2[1], m.p)\n",
    "end\n",
    "\n",
    "# Calculate the job creation condition in the u-v space\n",
    "u_min = 0.01\n",
    "u_max = 0.15\n",
    "\n",
    "grid_u = collect(range(u_min, u_max, nb_points))\n",
    "grid_theta_bis_1 = zeros(nb_points)\n",
    "grid_theta_bis_2 = zeros(nb_points);\n",
    "\n",
    "for i=1:nb_points\n",
    "    grid_theta_bis_1[i] = grid_u[i]*eq_theta(grid_reservation_wage_1[1], m.E_p_2[1], m.p)\n",
    "    grid_theta_bis_2[i] = grid_u[i]*eq_theta(grid_reservation_wage_2[1], m_2.E_p_2[1], m_2.p)\n",
    "end"
   ]
  },
  {
   "cell_type": "code",
   "execution_count": 51,
   "id": "4356b1e8",
   "metadata": {
    "scrolled": true
   },
   "outputs": [
    {
     "data": {
      "image/svg+xml": [
       "<?xml version=\"1.0\" encoding=\"UTF-8\"?>\n",
       "<svg xmlns=\"http://www.w3.org/2000/svg\" xmlns:xlink=\"http://www.w3.org/1999/xlink\" width=\"495.489pt\" height=\"274.987pt\" viewBox=\"0 0 495.489 274.987\" version=\"1.2\">\n",
       "<defs>\n",
       "<g>\n",
       "<symbol overflow=\"visible\" id=\"glyph-1653391830009730-0-0\">\n",
       "<path style=\"stroke:none;\" d=\"\"/>\n",
       "</symbol>\n",
       "<symbol overflow=\"visible\" id=\"glyph-1653391830009730-0-1\">\n",
       "<path style=\"stroke:none;\" d=\"M 3.890625 -2.546875 C 3.890625 -3.390625 3.8125 -3.90625 3.546875 -4.421875 C 3.203125 -5.125 2.546875 -5.296875 2.109375 -5.296875 C 1.109375 -5.296875 0.734375 -4.546875 0.625 -4.328125 C 0.34375 -3.75 0.328125 -2.953125 0.328125 -2.546875 C 0.328125 -2.015625 0.34375 -1.21875 0.734375 -0.578125 C 1.09375 0.015625 1.6875 0.171875 2.109375 0.171875 C 2.5 0.171875 3.171875 0.046875 3.578125 -0.734375 C 3.875 -1.3125 3.890625 -2.03125 3.890625 -2.546875 Z M 2.109375 -0.0625 C 1.84375 -0.0625 1.296875 -0.1875 1.125 -1.015625 C 1.03125 -1.46875 1.03125 -2.21875 1.03125 -2.640625 C 1.03125 -3.1875 1.03125 -3.75 1.125 -4.1875 C 1.296875 -5 1.90625 -5.078125 2.109375 -5.078125 C 2.375 -5.078125 2.9375 -4.9375 3.09375 -4.21875 C 3.1875 -3.78125 3.1875 -3.171875 3.1875 -2.640625 C 3.1875 -2.171875 3.1875 -1.453125 3.09375 -1 C 2.921875 -0.171875 2.375 -0.0625 2.109375 -0.0625 Z M 2.109375 -0.0625 \"/>\n",
       "</symbol>\n",
       "<symbol overflow=\"visible\" id=\"glyph-1653391830009730-1-0\">\n",
       "<path style=\"stroke:none;\" d=\"\"/>\n",
       "</symbol>\n",
       "<symbol overflow=\"visible\" id=\"glyph-1653391830009730-1-1\">\n",
       "<path style=\"stroke:none;\" d=\"M 6.921875 -6.296875 C 7.03125 -6.734375 7.21875 -7.0625 8.09375 -7.09375 C 8.140625 -7.09375 8.28125 -7.109375 8.28125 -7.3125 C 8.28125 -7.328125 8.28125 -7.4375 8.140625 -7.4375 C 7.78125 -7.4375 7.390625 -7.40625 7.03125 -7.40625 C 6.65625 -7.40625 6.25 -7.4375 5.890625 -7.4375 C 5.828125 -7.4375 5.703125 -7.4375 5.703125 -7.21875 C 5.703125 -7.09375 5.8125 -7.09375 5.890625 -7.09375 C 6.515625 -7.09375 6.625 -6.859375 6.625 -6.625 C 6.625 -6.59375 6.609375 -6.421875 6.59375 -6.390625 L 5.625 -2.5 C 5.25 -1.046875 4 -0.09375 2.90625 -0.09375 C 2.171875 -0.09375 1.578125 -0.578125 1.578125 -1.515625 C 1.578125 -1.53125 1.578125 -1.890625 1.703125 -2.359375 L 2.75 -6.59375 C 2.859375 -6.984375 2.875 -7.09375 3.671875 -7.09375 C 3.953125 -7.09375 4.046875 -7.09375 4.046875 -7.3125 C 4.046875 -7.4375 3.921875 -7.4375 3.890625 -7.4375 C 3.578125 -7.4375 2.796875 -7.40625 2.5 -7.40625 C 2.171875 -7.40625 1.40625 -7.4375 1.09375 -7.4375 C 1 -7.4375 0.875 -7.4375 0.875 -7.21875 C 0.875 -7.09375 0.984375 -7.09375 1.1875 -7.09375 C 1.203125 -7.09375 1.421875 -7.09375 1.59375 -7.078125 C 1.796875 -7.0625 1.890625 -7.046875 1.890625 -6.90625 C 1.890625 -6.84375 1.78125 -6.375 1.703125 -6.125 L 1.46875 -5.171875 C 1.375 -4.75 0.84375 -2.6875 0.8125 -2.484375 C 0.734375 -2.171875 0.734375 -2.015625 0.734375 -1.84375 C 0.734375 -0.515625 1.71875 0.234375 2.859375 0.234375 C 4.234375 0.234375 5.59375 -0.984375 5.953125 -2.421875 Z M 6.921875 -6.296875 \"/>\n",
       "</symbol>\n",
       "<symbol overflow=\"visible\" id=\"glyph-1653391830009730-2-0\">\n",
       "<path style=\"stroke:none;\" d=\"\"/>\n",
       "</symbol>\n",
       "<symbol overflow=\"visible\" id=\"glyph-1653391830009730-2-1\">\n",
       "<path style=\"stroke:none;\" d=\"M -6.203125 -6.84375 C -7.046875 -7.375 -7.078125 -7.828125 -7.09375 -8.234375 C -7.109375 -8.359375 -7.296875 -8.375 -7.3125 -8.375 C -7.390625 -8.375 -7.4375 -8.328125 -7.4375 -8.234375 C -7.4375 -7.953125 -7.40625 -7.640625 -7.40625 -7.34375 C -7.40625 -6.984375 -7.4375 -6.609375 -7.4375 -6.265625 C -7.4375 -6.203125 -7.4375 -6.0625 -7.234375 -6.0625 C -7.109375 -6.0625 -7.09375 -6.15625 -7.09375 -6.234375 C -7.078125 -6.53125 -6.96875 -6.734375 -6.734375 -6.734375 C -6.578125 -6.734375 -6.34375 -6.5625 -6.328125 -6.5625 L -1.015625 -3.21875 L -6.78125 -2.484375 C -6.953125 -2.484375 -7.09375 -2.734375 -7.09375 -3.234375 C -7.09375 -3.390625 -7.09375 -3.5 -7.3125 -3.5 C -7.421875 -3.5 -7.4375 -3.421875 -7.4375 -3.359375 C -7.4375 -2.921875 -7.40625 -2.453125 -7.40625 -2 C -7.40625 -1.8125 -7.421875 -1.59375 -7.421875 -1.40625 C -7.421875 -1.203125 -7.4375 -1 -7.4375 -0.8125 C -7.4375 -0.734375 -7.4375 -0.609375 -7.234375 -0.609375 C -7.09375 -0.609375 -7.09375 -0.703125 -7.09375 -0.875 C -7.09375 -1.484375 -7 -1.5 -6.734375 -1.53125 L -0.015625 -2.390625 C 0.203125 -2.421875 0.234375 -2.46875 0.234375 -2.609375 C 0.234375 -2.78125 0.1875 -2.828125 0.046875 -2.921875 Z M -6.203125 -6.84375 \"/>\n",
       "</symbol>\n",
       "<symbol overflow=\"visible\" id=\"glyph-1653391830009730-3-0\">\n",
       "<path style=\"stroke:none;\" d=\"\"/>\n",
       "</symbol>\n",
       "<symbol overflow=\"visible\" id=\"glyph-1653391830009730-3-1\">\n",
       "<path style=\"stroke:none;\" d=\"M 5.515625 -1.453125 C 5.515625 -2.109375 4.90625 -2.734375 3.90625 -2.84375 C 4.765625 -3.03125 5.28125 -3.546875 5.28125 -4.09375 C 5.28125 -4.8125 4.484375 -5.4375 3.40625 -5.4375 L 0.375 -5.4375 L 0.375 -5.171875 L 0.5625 -5.171875 C 1.171875 -5.171875 1.1875 -5.09375 1.1875 -4.796875 L 1.1875 -0.640625 C 1.1875 -0.34375 1.171875 -0.265625 0.5625 -0.265625 L 0.375 -0.265625 L 0.375 0 L 3.640625 0 C 4.734375 0 5.515625 -0.703125 5.515625 -1.453125 Z M 4.5 -4.09375 C 4.5 -3.546875 4.03125 -2.9375 3.109375 -2.9375 L 1.859375 -2.9375 L 1.859375 -4.859375 C 1.859375 -5.125 1.875 -5.171875 2.25 -5.171875 L 3.359375 -5.171875 C 4.140625 -5.171875 4.5 -4.5625 4.5 -4.09375 Z M 4.703125 -1.46875 C 4.703125 -0.828125 4.171875 -0.265625 3.359375 -0.265625 L 2.25 -0.265625 C 1.875 -0.265625 1.859375 -0.3125 1.859375 -0.59375 L 1.859375 -2.71875 L 3.484375 -2.71875 C 4.25 -2.71875 4.703125 -2.09375 4.703125 -1.46875 Z M 4.703125 -1.46875 \"/>\n",
       "</symbol>\n",
       "<symbol overflow=\"visible\" id=\"glyph-1653391830009730-3-2\">\n",
       "<path style=\"stroke:none;\" d=\"M 5.640625 -1.859375 C 5.640625 -1.9375 5.640625 -2.015625 5.5 -2.015625 C 5.421875 -2.015625 5.390625 -1.96875 5.390625 -1.890625 C 5.328125 -0.671875 4.328125 -0.09375 3.484375 -0.09375 C 2.8125 -0.09375 1.296875 -0.515625 1.296875 -2.71875 C 1.296875 -4.875 2.734375 -5.34375 3.484375 -5.34375 C 4.234375 -5.34375 5.15625 -4.8125 5.375 -3.4375 C 5.375 -3.375 5.390625 -3.328125 5.5 -3.328125 C 5.640625 -3.328125 5.640625 -3.375 5.640625 -3.53125 L 5.640625 -5.40625 C 5.640625 -5.53125 5.640625 -5.609375 5.53125 -5.609375 C 5.46875 -5.609375 5.46875 -5.609375 5.390625 -5.5 L 4.984375 -4.90625 C 4.703125 -5.21875 4.171875 -5.609375 3.40625 -5.609375 C 1.8125 -5.609375 0.46875 -4.328125 0.46875 -2.71875 C 0.46875 -1.109375 1.796875 0.171875 3.421875 0.171875 C 4.75 0.171875 5.640625 -0.890625 5.640625 -1.859375 Z M 5.640625 -1.859375 \"/>\n",
       "</symbol>\n",
       "<symbol overflow=\"visible\" id=\"glyph-1653391830009730-3-3\">\n",
       "<path style=\"stroke:none;\" d=\"M 3.890625 -5.171875 L 3.890625 -5.4375 C 3.484375 -5.421875 3.265625 -5.421875 2.8125 -5.421875 C 2.46875 -5.421875 1.859375 -5.421875 1.53125 -5.4375 L 1.53125 -5.171875 L 1.796875 -5.171875 C 2.546875 -5.171875 2.578125 -5.078125 2.578125 -4.796875 L 2.578125 -1.1875 C 2.578125 -0.453125 2.140625 -0.0625 1.71875 -0.0625 C 1.375 -0.0625 1.015625 -0.21875 0.828125 -0.46875 C 1.046875 -0.46875 1.296875 -0.609375 1.296875 -0.90625 C 1.296875 -1.1875 1.078125 -1.34375 0.859375 -1.34375 C 0.6875 -1.34375 0.421875 -1.234375 0.421875 -0.890625 C 0.421875 -0.296875 1 0.171875 1.75 0.171875 C 2.484375 0.171875 3.28125 -0.3125 3.28125 -1.1875 L 3.28125 -4.828125 C 3.28125 -5.171875 3.375 -5.171875 3.890625 -5.171875 Z M 3.890625 -5.171875 \"/>\n",
       "</symbol>\n",
       "<symbol overflow=\"visible\" id=\"glyph-1653391830009730-3-4\">\n",
       "<path style=\"stroke:none;\" d=\"M 3.984375 -1.703125 C 3.984375 -2.6875 3.15625 -3.546875 2.109375 -3.546875 C 1.0625 -3.546875 0.234375 -2.6875 0.234375 -1.703125 C 0.234375 -0.703125 1.09375 0.078125 2.109375 0.078125 C 3.140625 0.078125 3.984375 -0.703125 3.984375 -1.703125 Z M 3.28125 -1.765625 C 3.28125 -1.40625 3.265625 -0.96875 3.03125 -0.625 C 2.828125 -0.3125 2.46875 -0.171875 2.109375 -0.171875 C 1.6875 -0.171875 1.34375 -0.375 1.171875 -0.65625 C 0.96875 -0.984375 0.953125 -1.375 0.953125 -1.765625 C 0.953125 -2.078125 0.953125 -2.546875 1.1875 -2.890625 C 1.40625 -3.171875 1.734375 -3.328125 2.109375 -3.328125 C 2.53125 -3.328125 2.875 -3.125 3.046875 -2.859375 C 3.265625 -2.515625 3.28125 -2.09375 3.28125 -1.765625 Z M 3.28125 -1.765625 \"/>\n",
       "</symbol>\n",
       "<symbol overflow=\"visible\" id=\"glyph-1653391830009730-3-5\">\n",
       "<path style=\"stroke:none;\" d=\"M 4.421875 -1.71875 C 4.421875 -2.71875 3.59375 -3.515625 2.625 -3.515625 C 1.984375 -3.515625 1.609375 -3.171875 1.46875 -3.03125 L 1.46875 -5.53125 L 0.28125 -5.4375 L 0.28125 -5.171875 C 0.828125 -5.171875 0.890625 -5.125 0.890625 -4.734375 L 0.890625 0 L 1.125 0 L 1.421875 -0.5 C 1.609375 -0.21875 1.984375 0.078125 2.53125 0.078125 C 3.53125 0.078125 4.421875 -0.703125 4.421875 -1.71875 Z M 3.703125 -1.734375 C 3.703125 -1.546875 3.703125 -0.984375 3.421875 -0.609375 C 3.125 -0.25 2.75 -0.140625 2.5 -0.140625 C 2.109375 -0.140625 1.796875 -0.34375 1.578125 -0.65625 C 1.484375 -0.8125 1.484375 -0.8125 1.484375 -0.96875 L 1.484375 -2.515625 C 1.484375 -2.671875 1.484375 -2.6875 1.609375 -2.828125 C 1.84375 -3.125 2.21875 -3.296875 2.578125 -3.296875 C 2.984375 -3.296875 3.296875 -3.046875 3.453125 -2.8125 C 3.59375 -2.59375 3.703125 -2.3125 3.703125 -1.734375 Z M 3.703125 -1.734375 \"/>\n",
       "</symbol>\n",
       "<symbol overflow=\"visible\" id=\"glyph-1653391830009730-3-6\">\n",
       "<path style=\"stroke:none;\" d=\"M 3.515625 -0.953125 C 3.515625 -1.046875 3.40625 -1.046875 3.390625 -1.046875 C 3.328125 -1.046875 3.296875 -1.046875 3.265625 -0.96875 C 3.21875 -0.796875 2.984375 -0.171875 2.1875 -0.171875 C 1.703125 -0.171875 0.984375 -0.546875 0.984375 -1.734375 C 0.984375 -2.875 1.578125 -3.3125 2.15625 -3.3125 C 2.234375 -3.3125 2.65625 -3.3125 2.9375 -3.15625 C 2.703125 -3.09375 2.671875 -2.90625 2.671875 -2.8125 C 2.671875 -2.59375 2.828125 -2.4375 3.046875 -2.4375 C 3.265625 -2.4375 3.421875 -2.578125 3.421875 -2.828125 C 3.421875 -3.3125 2.890625 -3.546875 2.140625 -3.546875 C 1.03125 -3.546875 0.28125 -2.671875 0.28125 -1.71875 C 0.28125 -0.703125 1.109375 0.078125 2.109375 0.078125 C 3.234375 0.078125 3.515625 -0.859375 3.515625 -0.953125 Z M 3.515625 -0.953125 \"/>\n",
       "</symbol>\n",
       "<symbol overflow=\"visible\" id=\"glyph-1653391830009730-3-7\">\n",
       "<path style=\"stroke:none;\" d=\"M 3.0625 -3.015625 C 3.0625 -3.296875 2.8125 -3.515625 2.453125 -3.515625 C 1.9375 -3.515625 1.578125 -3.125 1.421875 -2.671875 L 1.40625 -2.671875 L 1.40625 -3.515625 L 0.28125 -3.421875 L 0.28125 -3.15625 C 0.828125 -3.15625 0.890625 -3.109375 0.890625 -2.71875 L 0.890625 -0.625 C 0.890625 -0.265625 0.78125 -0.265625 0.28125 -0.265625 L 0.28125 0 C 0.59375 -0.03125 1.03125 -0.03125 1.21875 -0.03125 C 1.6875 -0.03125 1.703125 -0.03125 2.21875 0 L 2.21875 -0.265625 L 2.0625 -0.265625 C 1.484375 -0.265625 1.46875 -0.34375 1.46875 -0.640625 L 1.46875 -1.8125 C 1.46875 -2.421875 1.71875 -3.28125 2.484375 -3.296875 C 2.4375 -3.265625 2.34375 -3.203125 2.34375 -3.015625 C 2.34375 -2.765625 2.546875 -2.65625 2.703125 -2.65625 C 2.890625 -2.65625 3.0625 -2.78125 3.0625 -3.015625 Z M 3.0625 -3.015625 \"/>\n",
       "</symbol>\n",
       "<symbol overflow=\"visible\" id=\"glyph-1653391830009730-3-8\">\n",
       "<path style=\"stroke:none;\" d=\"M 3.515625 -0.953125 C 3.515625 -0.984375 3.484375 -1.0625 3.390625 -1.0625 C 3.296875 -1.0625 3.28125 -1.015625 3.265625 -0.96875 C 2.984375 -0.1875 2.296875 -0.171875 2.15625 -0.171875 C 1.796875 -0.171875 1.421875 -0.328125 1.1875 -0.703125 C 0.953125 -1.0625 0.953125 -1.578125 0.953125 -1.8125 L 3.296875 -1.8125 C 3.46875 -1.8125 3.515625 -1.8125 3.515625 -2 C 3.515625 -2.703125 3.125 -3.546875 2 -3.546875 C 1.015625 -3.546875 0.234375 -2.734375 0.234375 -1.75 C 0.234375 -0.71875 1.09375 0.078125 2.109375 0.078125 C 3.109375 0.078125 3.515625 -0.765625 3.515625 -0.953125 Z M 2.96875 -2.03125 L 0.953125 -2.03125 C 1.03125 -3.140625 1.703125 -3.328125 2 -3.328125 C 2.9375 -3.328125 2.96875 -2.203125 2.96875 -2.03125 Z M 2.96875 -2.03125 \"/>\n",
       "</symbol>\n",
       "<symbol overflow=\"visible\" id=\"glyph-1653391830009730-3-9\">\n",
       "<path style=\"stroke:none;\" d=\"M 4.09375 -0.71875 L 4.09375 -1.15625 L 3.84375 -1.15625 L 3.84375 -0.71875 C 3.84375 -0.390625 3.734375 -0.265625 3.5625 -0.265625 C 3.265625 -0.265625 3.265625 -0.625 3.265625 -0.71875 L 3.265625 -2.375 C 3.265625 -3.15625 2.515625 -3.546875 1.78125 -3.546875 C 1.125 -3.546875 0.53125 -3.296875 0.53125 -2.765625 C 0.53125 -2.53125 0.703125 -2.390625 0.90625 -2.390625 C 1.125 -2.390625 1.28125 -2.546875 1.28125 -2.765625 C 1.28125 -2.953125 1.15625 -3.09375 0.984375 -3.125 C 1.28125 -3.328125 1.71875 -3.328125 1.765625 -3.328125 C 2.21875 -3.328125 2.65625 -3.015625 2.65625 -2.359375 L 2.65625 -2.125 C 2.203125 -2.09375 1.671875 -2.078125 1.109375 -1.84375 C 0.40625 -1.53125 0.265625 -1.078125 0.265625 -0.8125 C 0.265625 -0.125 1.078125 0.078125 1.625 0.078125 C 2.203125 0.078125 2.5625 -0.25 2.734375 -0.5625 C 2.78125 -0.265625 2.984375 0.046875 3.34375 0.046875 C 3.421875 0.046875 4.09375 0.015625 4.09375 -0.71875 Z M 2.65625 -1.125 C 2.65625 -0.34375 2.015625 -0.140625 1.6875 -0.140625 C 1.28125 -0.140625 0.921875 -0.421875 0.921875 -0.8125 C 0.921875 -1.328125 1.421875 -1.875 2.65625 -1.90625 Z M 2.65625 -1.125 \"/>\n",
       "</symbol>\n",
       "<symbol overflow=\"visible\" id=\"glyph-1653391830009730-3-10\">\n",
       "<path style=\"stroke:none;\" d=\"M 2.8125 -1 L 2.8125 -1.4375 L 2.5625 -1.4375 L 2.5625 -1.015625 C 2.5625 -0.46875 2.3125 -0.171875 2.015625 -0.171875 C 1.484375 -0.171875 1.484375 -0.859375 1.484375 -0.984375 L 1.484375 -3.171875 L 2.671875 -3.171875 L 2.671875 -3.4375 L 1.484375 -3.4375 L 1.484375 -4.90625 L 1.234375 -4.90625 C 1.234375 -4.171875 0.90625 -3.421875 0.15625 -3.390625 L 0.15625 -3.171875 L 0.875 -3.171875 L 0.875 -1 C 0.875 -0.0625 1.59375 0.078125 1.953125 0.078125 C 2.5 0.078125 2.8125 -0.390625 2.8125 -1 Z M 2.8125 -1 \"/>\n",
       "</symbol>\n",
       "<symbol overflow=\"visible\" id=\"glyph-1653391830009730-3-11\">\n",
       "<path style=\"stroke:none;\" d=\"M 2.078125 0 L 2.078125 -0.265625 C 1.546875 -0.265625 1.515625 -0.296875 1.515625 -0.609375 L 1.515625 -3.515625 L 0.359375 -3.421875 L 0.359375 -3.15625 C 0.875 -3.15625 0.9375 -3.109375 0.9375 -2.71875 L 0.9375 -0.625 C 0.9375 -0.265625 0.84375 -0.265625 0.328125 -0.265625 L 0.328125 0 C 0.640625 -0.03125 1.09375 -0.03125 1.21875 -0.03125 C 1.3125 -0.03125 1.796875 -0.03125 2.078125 0 Z M 1.625 -4.796875 C 1.625 -5.0625 1.40625 -5.25 1.171875 -5.25 C 0.953125 -5.25 0.734375 -5.0625 0.734375 -4.796875 C 0.734375 -4.5625 0.921875 -4.359375 1.171875 -4.359375 C 1.421875 -4.359375 1.625 -4.5625 1.625 -4.796875 Z M 1.625 -4.796875 \"/>\n",
       "</symbol>\n",
       "<symbol overflow=\"visible\" id=\"glyph-1653391830009730-3-12\">\n",
       "<path style=\"stroke:none;\" d=\"M 4.484375 0 L 4.484375 -0.265625 C 3.96875 -0.265625 3.875 -0.265625 3.875 -0.625 L 3.875 -2.421875 C 3.875 -3.078125 3.5625 -3.515625 2.734375 -3.515625 C 1.9375 -3.515625 1.578125 -2.9375 1.484375 -2.75 L 1.484375 -3.515625 L 0.328125 -3.421875 L 0.328125 -3.15625 C 0.875 -3.15625 0.9375 -3.109375 0.9375 -2.71875 L 0.9375 -0.625 C 0.9375 -0.265625 0.84375 -0.265625 0.328125 -0.265625 L 0.328125 0 C 0.671875 -0.03125 1.015625 -0.03125 1.234375 -0.03125 C 1.46875 -0.03125 1.796875 -0.03125 2.140625 0 L 2.140625 -0.265625 C 1.640625 -0.265625 1.53125 -0.265625 1.53125 -0.625 L 1.53125 -2.0625 C 1.53125 -2.90625 2.171875 -3.296875 2.65625 -3.296875 C 3.140625 -3.296875 3.265625 -2.953125 3.265625 -2.453125 L 3.265625 -0.625 C 3.265625 -0.265625 3.171875 -0.265625 2.65625 -0.265625 L 2.65625 0 C 3 -0.03125 3.359375 -0.03125 3.5625 -0.03125 C 3.796875 -0.03125 4.140625 -0.03125 4.484375 0 Z M 4.484375 0 \"/>\n",
       "</symbol>\n",
       "<symbol overflow=\"visible\" id=\"glyph-1653391830009730-4-0\">\n",
       "<path style=\"stroke:none;\" d=\"\"/>\n",
       "</symbol>\n",
       "<symbol overflow=\"visible\" id=\"glyph-1653391830009730-4-1\">\n",
       "<path style=\"stroke:none;\" d=\"M 1.765625 -3.171875 L 2.546875 -3.171875 C 2.6875 -3.171875 2.78125 -3.171875 2.78125 -3.328125 C 2.78125 -3.4375 2.6875 -3.4375 2.546875 -3.4375 L 1.828125 -3.4375 L 2.109375 -4.5625 C 2.140625 -4.6875 2.140625 -4.71875 2.140625 -4.734375 C 2.140625 -4.90625 2.015625 -4.984375 1.875 -4.984375 C 1.609375 -4.984375 1.546875 -4.765625 1.46875 -4.40625 L 1.21875 -3.4375 L 0.453125 -3.4375 C 0.296875 -3.4375 0.203125 -3.4375 0.203125 -3.28125 C 0.203125 -3.171875 0.296875 -3.171875 0.4375 -3.171875 L 1.15625 -3.171875 L 0.671875 -1.265625 C 0.625 -1.0625 0.5625 -0.78125 0.5625 -0.671875 C 0.5625 -0.1875 0.953125 0.078125 1.375 0.078125 C 2.21875 0.078125 2.703125 -1.046875 2.703125 -1.140625 C 2.703125 -1.234375 2.640625 -1.25 2.59375 -1.25 C 2.5 -1.25 2.5 -1.21875 2.4375 -1.09375 C 2.28125 -0.703125 1.875 -0.140625 1.390625 -0.140625 C 1.234375 -0.140625 1.125 -0.25 1.125 -0.515625 C 1.125 -0.671875 1.15625 -0.75 1.171875 -0.859375 Z M 1.765625 -3.171875 \"/>\n",
       "</symbol>\n",
       "<symbol overflow=\"visible\" id=\"glyph-1653391830009730-5-0\">\n",
       "<path style=\"stroke:none;\" d=\"\"/>\n",
       "</symbol>\n",
       "<symbol overflow=\"visible\" id=\"glyph-1653391830009730-5-1\">\n",
       "<path style=\"stroke:none;\" d=\"M 3.28125 -1.90625 C 3.28125 -2.34375 3.28125 -3.96875 1.828125 -3.96875 C 0.359375 -3.96875 0.359375 -2.34375 0.359375 -1.90625 C 0.359375 -1.46875 0.359375 0.125 1.828125 0.125 C 3.28125 0.125 3.28125 -1.46875 3.28125 -1.90625 Z M 1.828125 -0.0625 C 1.5625 -0.0625 1.15625 -0.1875 1.015625 -0.6875 C 0.921875 -1.03125 0.921875 -1.609375 0.921875 -1.984375 C 0.921875 -2.375 0.921875 -2.84375 1.015625 -3.15625 C 1.15625 -3.703125 1.609375 -3.78125 1.828125 -3.78125 C 2.09375 -3.78125 2.484375 -3.640625 2.625 -3.1875 C 2.703125 -2.875 2.71875 -2.4375 2.71875 -1.984375 C 2.71875 -1.59375 2.71875 -1 2.609375 -0.65625 C 2.453125 -0.140625 2.015625 -0.0625 1.828125 -0.0625 Z M 1.828125 -0.0625 \"/>\n",
       "</symbol>\n",
       "<symbol overflow=\"visible\" id=\"glyph-1653391830009730-5-2\">\n",
       "<path style=\"stroke:none;\" d=\"M 2.140625 -3.796875 C 2.140625 -3.96875 2.125 -3.96875 1.9375 -3.96875 C 1.546875 -3.59375 0.9375 -3.59375 0.71875 -3.59375 L 0.71875 -3.359375 C 0.875 -3.359375 1.265625 -3.359375 1.625 -3.515625 L 1.625 -0.5 C 1.625 -0.3125 1.625 -0.234375 1.015625 -0.234375 L 0.765625 -0.234375 L 0.765625 0 C 1.09375 -0.03125 1.546875 -0.03125 1.890625 -0.03125 C 2.21875 -0.03125 2.6875 -0.03125 3.015625 0 L 3.015625 -0.234375 L 2.75 -0.234375 C 2.140625 -0.234375 2.140625 -0.3125 2.140625 -0.5 Z M 2.140625 -3.796875 \"/>\n",
       "</symbol>\n",
       "</g>\n",
       "<clipPath id=\"clip-1653391830009730-1\">\n",
       "  <path d=\"M 0 0.136719 L 494.980469 0.136719 L 494.980469 274.839844 L 0 274.839844 Z M 0 0.136719 \"/>\n",
       "</clipPath>\n",
       "<clipPath id=\"clip-1653391830009730-2\">\n",
       "  <path d=\"M 230 4.917969 L 398.707031 4.917969 L 398.707031 230 L 230 230 Z M 230 4.917969 \"/>\n",
       "</clipPath>\n",
       "<clipPath id=\"clip-1653391830009730-3\">\n",
       "  <path d=\"M 196 4.917969 L 359 4.917969 L 359 230 L 196 230 Z M 196 4.917969 \"/>\n",
       "</clipPath>\n",
       "<clipPath id=\"clip-1653391830009730-4\">\n",
       "  <path d=\"M 42 156 L 398.707031 156 L 398.707031 242.179688 L 42 242.179688 Z M 42 156 \"/>\n",
       "</clipPath>\n",
       "<clipPath id=\"clip-1653391830009730-5\">\n",
       "  <path d=\"M 42 135 L 398.707031 135 L 398.707031 242.179688 L 42 242.179688 Z M 42 135 \"/>\n",
       "</clipPath>\n",
       "<clipPath id=\"clip-1653391830009730-6\">\n",
       "  <path d=\"M 333 4.917969 L 335 4.917969 L 335 242.179688 L 333 242.179688 Z M 333 4.917969 \"/>\n",
       "</clipPath>\n",
       "<clipPath id=\"clip-1653391830009730-7\">\n",
       "  <path d=\"M 283 4.917969 L 285 4.917969 L 285 242.179688 L 283 242.179688 Z M 283 4.917969 \"/>\n",
       "</clipPath>\n",
       "</defs>\n",
       "<g id=\"surface1\">\n",
       "<g clip-path=\"url(#clip-1653391830009730-1)\" clip-rule=\"nonzero\">\n",
       "<path style=\" stroke:none;fill-rule:nonzero;fill:rgb(100%,100%,100%);fill-opacity:1;\" d=\"M 0 274.839844 L 496.835938 274.839844 L 496.835938 -0.894531 L 0 -0.894531 Z M 0 274.839844 \"/>\n",
       "<path style=\" stroke:none;fill-rule:nonzero;fill:rgb(100%,100%,100%);fill-opacity:1;\" d=\"M 0 274.84375 L 0 0.136719 L 494.984375 0.136719 L 494.984375 274.84375 Z M 0 274.84375 \"/>\n",
       "</g>\n",
       "<path style=\" stroke:none;fill-rule:nonzero;fill:rgb(100%,100%,100%);fill-opacity:1;\" d=\"M 31.757812 242.179688 L 398.707031 242.179688 L 398.707031 4.917969 L 31.757812 4.917969 Z M 31.757812 242.179688 \"/>\n",
       "<path style=\"fill:none;stroke-width:0.49814;stroke-linecap:butt;stroke-linejoin:miter;stroke:rgb(0%,0%,0%);stroke-opacity:0.1;stroke-miterlimit:10;\" d=\"M 0.00156447 0.00184917 L 0.00156447 237.508257 \" transform=\"matrix(0.99897,0,0,-0.99897,31.75625,242.181535)\"/>\n",
       "<path style=\"fill:none;stroke-width:0.49814;stroke-linecap:butt;stroke-linejoin:miter;stroke:rgb(0%,0%,0%);stroke-opacity:0.1;stroke-miterlimit:10;\" d=\"M 0.00156447 0.00184917 L 367.32922 0.00184917 \" transform=\"matrix(0.99897,0,0,-0.99897,31.75625,242.181535)\"/>\n",
       "<path style=\"fill:none;stroke-width:0.19925;stroke-linecap:butt;stroke-linejoin:miter;stroke:rgb(0%,0%,0%);stroke-opacity:1;stroke-miterlimit:10;\" d=\"M 0.00156447 -2.125342 L 0.00156447 2.12513 \" transform=\"matrix(0.99897,0,0,-0.99897,31.75625,242.181535)\"/>\n",
       "<path style=\"fill:none;stroke-width:0.19925;stroke-linecap:butt;stroke-linejoin:miter;stroke:rgb(0%,0%,0%);stroke-opacity:1;stroke-miterlimit:10;\" d=\"M -2.125627 0.00184917 L 2.124846 0.00184917 \" transform=\"matrix(0.99897,0,0,-0.99897,31.75625,242.181535)\"/>\n",
       "<path style=\"fill:none;stroke-width:0.99628;stroke-linecap:butt;stroke-linejoin:miter;stroke:rgb(0%,0%,0%);stroke-opacity:1;stroke-miterlimit:10;\" d=\"M 0.00156447 0.00184917 L 364.439524 0.00184917 \" transform=\"matrix(0.99897,0,0,-0.99897,31.75625,242.181535)\"/>\n",
       "<path style=\" stroke:none;fill-rule:nonzero;fill:rgb(0%,0%,0%);fill-opacity:1;\" d=\"M 398.707031 242.179688 L 394.089844 239.871094 L 395.820312 242.179688 L 394.089844 244.492188 \"/>\n",
       "<path style=\"fill:none;stroke-width:0.99628;stroke-linecap:butt;stroke-linejoin:miter;stroke:rgb(0%,0%,0%);stroke-opacity:1;stroke-miterlimit:10;\" d=\"M 0.00156447 0.00184917 L 0.00156447 234.618561 \" transform=\"matrix(0.99897,0,0,-0.99897,31.75625,242.181535)\"/>\n",
       "<path style=\" stroke:none;fill-rule:nonzero;fill:rgb(0%,0%,0%);fill-opacity:1;\" d=\"M 31.757812 4.917969 L 29.449219 9.539062 L 31.757812 7.804688 L 34.066406 9.539062 \"/>\n",
       "<g style=\"fill:rgb(0%,0%,0%);fill-opacity:1;\">\n",
       "  <use xlink:href=\"#glyph-1653391830009730-0-1\" x=\"29.641431\" y=\"252.952427\"/>\n",
       "</g>\n",
       "<g style=\"fill:rgb(0%,0%,0%);fill-opacity:1;\">\n",
       "  <use xlink:href=\"#glyph-1653391830009730-0-1\" x=\"21.886428\" y=\"244.746889\"/>\n",
       "</g>\n",
       "<g clip-path=\"url(#clip-1653391830009730-2)\" clip-rule=\"nonzero\">\n",
       "<path style=\"fill:none;stroke-width:0.99628;stroke-linecap:butt;stroke-linejoin:miter;stroke:rgb(0%,0%,100%);stroke-opacity:1;stroke-miterlimit:10;\" d=\"M 368.490572 26.462704 L 365.065168 27.522389 L 361.792265 28.582075 L 358.660132 29.645671 L 355.657038 30.705356 L 352.775163 31.765042 L 350.006686 32.824727 L 347.343786 33.884413 L 344.774733 34.948008 L 342.299527 36.007694 L 339.910347 37.067379 L 337.599372 38.127065 L 335.366603 39.18675 L 333.204219 40.250346 L 331.10831 41.310032 L 329.074965 42.369717 L 327.100274 43.429403 L 325.184238 44.492998 L 323.322945 45.552684 L 321.512486 46.612369 L 319.74895 47.672055 L 318.032338 48.73174 L 316.362649 49.795336 L 314.732063 50.855021 L 313.14449 51.914707 L 311.592109 52.974392 L 310.078832 54.037988 L 308.600746 55.097674 L 307.153943 56.157359 L 305.742333 57.217045 L 304.362004 58.27673 L 303.009048 59.340326 L 301.687374 60.400011 L 300.393072 61.459697 L 299.126141 62.519382 L 297.882673 63.579068 L 296.662666 64.642664 L 295.470031 65.702349 L 294.296947 66.762035 L 293.151236 67.82172 L 292.021165 68.885316 L 290.914556 69.945001 L 289.831409 71.004687 L 288.763903 72.064372 L 287.715949 73.124058 L 286.683635 74.187653 L 285.670873 75.247339 L 284.677662 76.307024 L 283.696182 77.36671 L 282.734254 78.430306 L 281.787966 79.489991 L 280.85732 80.549677 L 279.938405 81.609362 L 279.03513 82.669048 L 278.147497 83.732643 L 277.271595 84.792329 L 276.407423 85.852014 L 275.558893 86.9117 L 274.722093 87.975296 L 273.897024 89.034981 L 273.083686 90.094667 L 272.282079 91.154352 L 271.492203 92.214038 L 270.714058 93.277633 L 269.943733 94.337319 L 269.185139 95.397004 L 268.438275 96.45669 L 267.699233 97.516375 L 266.971921 98.579971 L 266.25243 99.639656 L 265.540759 100.699342 L 264.840819 101.759027 L 264.1487 102.822623 L 263.464401 103.882309 L 262.791833 104.941994 L 262.123176 106.00168 L 261.462339 107.061365 L 260.813232 108.124961 L 260.171947 109.184646 L 259.534571 110.244332 L 258.905016 111.304017 L 258.287192 112.367613 L 257.669368 113.427299 L 257.078916 114.486984 L 256.465003 115.54667 L 255.87064 116.606355 L 255.284098 117.669951 L 254.701467 118.729636 L 253.559666 120.849007 L 253.000496 121.912603 L 252.441326 122.972288 L 251.346448 125.091659 L 250.80683 126.151345 L 250.275032 127.214941 L 249.747144 128.274626 L 249.223167 129.334312 L 248.70701 130.393997 L 248.194764 131.453683 L 247.686427 132.517278 L 247.182001 133.576964 L 246.685396 134.636649 L 246.192701 135.696335 L 245.703916 136.759931 L 245.219042 137.819616 L 244.264934 139.938987 L 243.7957 140.998673 L 243.330377 142.062268 L 242.868964 143.121954 L 242.411462 144.181639 L 241.957869 145.241325 L 241.504277 146.30492 L 240.620554 148.424291 L 240.182603 149.483977 L 239.748562 150.543662 L 239.314521 151.607258 L 238.888301 152.666944 L 238.465991 153.726629 L 237.629191 155.846 L 237.218612 156.909596 L 236.808032 157.969281 L 236.401363 159.028967 L 235.998605 160.088652 L 235.599756 161.152248 L 234.80988 163.271619 L 234.035645 165.39099 L 233.648527 166.454586 L 232.889933 168.573957 L 232.514547 169.633642 L 232.14307 170.697238 L 231.407938 172.816609 L 231.044282 173.876294 L 230.684536 174.93598 L 230.324791 175.999576 L 229.968955 177.059261 L 229.265105 179.178632 L 228.91709 180.242228 L 228.569076 181.301913 L 227.548493 184.48097 L 227.212209 185.544566 L 226.547462 187.663937 L 225.890535 189.783307 L 225.565982 190.846903 L 224.924696 192.966274 L 224.607963 194.02596 L 224.291231 195.089555 L 223.665586 197.208926 L 223.047762 199.328297 L 222.742761 200.391893 L 222.437759 201.451579 L 221.835576 203.57095 L 221.538395 204.634545 L 221.245124 205.694231 L 220.947943 206.753916 L 220.658582 207.813602 L 220.365311 208.873287 L 220.079861 209.936883 L 219.7905 210.996569 L 219.50505 212.056254 L 218.94197 214.175625 L 218.66043 215.239221 L 218.10517 217.358592 L 217.831451 218.418277 L 217.557731 219.481873 L 217.284012 220.541558 L 217.014202 221.601244 L 216.482405 223.720615 L 216.216506 224.784211 L 215.950607 225.843896 L 215.426629 227.963267 L 215.168551 229.026863 L 214.910473 230.086548 L 214.656305 231.146234 L 214.398226 232.205919 L 214.147968 233.265605 L 213.8938 234.329201 L 213.393285 236.448572 L 213.146937 237.508257 \" transform=\"matrix(0.99897,0,0,-0.99897,31.75625,242.181535)\"/>\n",
       "</g>\n",
       "<g clip-path=\"url(#clip-1653391830009730-3)\" clip-rule=\"nonzero\">\n",
       "<path style=\"fill:none;stroke-width:0.99628;stroke-linecap:butt;stroke-linejoin:miter;stroke:rgb(0%,0%,100%);stroke-opacity:1;stroke-dasharray:2.98883,2.98883;stroke-miterlimit:10;\" d=\"M 313.414299 26.462704 L 310.407295 27.522389 L 307.53324 28.582075 L 304.784314 29.645671 L 302.152697 30.705356 L 299.626657 31.765042 L 297.202284 32.824727 L 294.867848 33.884413 L 292.623348 34.948008 L 290.457054 36.007694 L 288.365055 37.067379 L 286.347351 38.127065 L 284.396122 39.18675 L 282.503547 40.250346 L 280.673537 41.310032 L 278.902181 42.369717 L 277.177748 43.429403 L 275.508059 44.492998 L 273.885293 45.552684 L 272.305541 46.612369 L 270.768801 47.672055 L 269.275075 48.73174 L 267.820451 49.795336 L 266.40102 50.855021 L 265.016782 51.914707 L 263.667736 52.974392 L 262.353882 54.037988 L 261.0674 55.097674 L 259.812201 56.157359 L 258.584374 57.217045 L 257.383918 58.27673 L 256.206924 59.340326 L 255.061213 60.400011 L 253.935052 61.459697 L 252.836264 62.519382 L 251.757027 63.579068 L 250.697342 64.642664 L 249.665028 65.702349 L 248.648356 66.762035 L 247.651235 67.82172 L 246.673665 68.885316 L 245.715647 69.945001 L 244.77327 71.004687 L 243.846534 72.064372 L 242.939349 73.124058 L 242.047806 74.187653 L 241.171903 75.247339 L 240.307732 76.307024 L 239.459201 77.36671 L 238.626312 78.430306 L 237.809064 79.489991 L 236.999636 80.549677 L 236.20976 81.609362 L 235.427704 82.669048 L 234.657379 83.732643 L 233.898785 84.792329 L 233.155832 85.852014 L 232.4207 86.9117 L 231.697298 87.975296 L 230.985628 89.034981 L 230.281778 90.094667 L 229.589658 91.154352 L 228.90536 92.214038 L 228.232792 93.277633 L 227.568044 94.337319 L 226.915028 95.397004 L 226.265922 96.45669 L 225.628546 97.516375 L 225.002902 98.579971 L 224.381167 99.639656 L 223.767254 100.699342 L 223.16116 101.759027 L 222.566798 102.822623 L 221.976346 103.882309 L 221.393714 104.941994 L 220.818904 106.00168 L 220.251913 107.061365 L 219.688833 108.124961 L 219.133573 109.184646 L 218.574404 110.244332 L 218.046516 111.304017 L 217.510808 112.367613 L 216.97901 113.427299 L 215.938876 115.54667 L 215.43054 116.606355 L 214.922203 117.669951 L 214.421688 118.729636 L 213.928993 119.789322 L 213.440208 120.849007 L 212.955333 121.912603 L 212.001225 124.031974 L 211.070579 126.151345 L 210.609166 127.214941 L 210.155574 128.274626 L 209.705892 129.334312 L 209.26012 130.393997 L 208.818259 131.453683 L 208.384218 132.517278 L 207.950177 133.576964 L 207.097736 135.696335 L 206.679336 136.759931 L 206.260937 137.819616 L 205.850357 138.879302 L 205.447599 139.938987 L 205.037019 140.998673 L 204.638171 142.062268 L 204.239323 143.121954 L 203.457267 145.241325 L 203.070149 146.30492 L 202.686942 147.364606 L 202.307645 148.424291 L 201.556871 150.543662 L 201.189305 151.607258 L 200.821739 152.666944 L 200.458083 153.726629 L 199.738592 155.846 L 199.386667 156.909596 L 199.034742 157.969281 L 198.338712 160.088652 L 197.998518 161.152248 L 197.31813 163.271619 L 196.653382 165.39099 L 196.324919 166.454586 L 195.996455 167.514271 L 195.671902 168.573957 L 195.351259 169.633642 L 195.030617 170.697238 L 194.713884 171.756923 L 194.088239 173.876294 L 193.779327 174.93598 L 193.470415 175.999576 L 193.165414 177.059261 L 192.563231 179.178632 L 192.262139 180.242228 L 191.968868 181.301913 L 191.671687 182.361599 L 191.382327 183.421284 L 191.096876 184.48097 L 190.803605 185.544566 L 190.232705 187.663937 L 189.669625 189.783307 L 189.391995 190.846903 L 189.118275 191.906589 L 188.840646 192.966274 L 188.570836 194.02596 L 188.297117 195.089555 L 188.031218 196.149241 L 187.761409 197.208926 L 187.49942 198.268612 L 187.233521 199.328297 L 186.971533 200.391893 L 186.197297 203.57095 L 185.943129 204.634545 L 185.688961 205.694231 L 184.938188 208.873287 L 184.69184 209.936883 L 184.445493 210.996569 L 183.718181 214.175625 L 183.479654 215.239221 L 183.0026 217.358592 L 182.767983 218.418277 L 182.533366 219.481873 L 181.841247 222.660929 L 181.614451 223.720615 L 181.383745 224.784211 L 181.160859 225.843896 L 180.934062 226.903582 L 180.711177 227.963267 L 180.492201 229.026863 L 180.269315 230.086548 L 179.831364 232.205919 L 179.616299 233.265605 L 179.401233 234.329201 L 178.971103 236.448572 L 178.759948 237.508257 \" transform=\"matrix(0.99897,0,0,-0.99897,31.75625,242.181535)\"/>\n",
       "</g>\n",
       "<g clip-path=\"url(#clip-1653391830009730-4)\" clip-rule=\"nonzero\">\n",
       "<path style=\"fill:none;stroke-width:0.99628;stroke-linecap:butt;stroke-linejoin:miter;stroke:rgb(100%,0%,0%);stroke-opacity:1;stroke-miterlimit:10;\" d=\"M 24.487729 4.799761 L 26.212161 5.136045 L 27.932684 5.476239 L 31.38155 6.148807 L 33.102072 6.489001 L 34.826505 6.825285 L 36.547028 7.161569 L 38.27146 7.501763 L 39.991983 7.838047 L 41.716416 8.174331 L 43.440849 8.514526 L 45.161371 8.850809 L 46.885804 9.187093 L 48.606327 9.527288 L 50.330759 9.863572 L 52.055192 10.203766 L 53.775715 10.54005 L 55.500148 10.876334 L 57.22067 11.216528 L 60.669536 11.889096 L 62.390058 12.22929 L 64.114491 12.565574 L 65.835014 12.901858 L 67.559447 13.242052 L 69.279969 13.578336 L 71.004402 13.91462 L 72.728835 14.254814 L 74.449357 14.591098 L 76.17379 14.927382 L 77.894313 15.267577 L 79.618746 15.603861 L 81.343179 15.944055 L 83.063701 16.280339 L 84.788134 16.616623 L 86.508656 16.956817 L 88.233089 17.293101 L 89.953612 17.629385 L 91.678045 17.969579 L 93.402478 18.305863 L 95.123 18.642147 L 96.847433 18.982341 L 98.567955 19.318625 L 100.292388 19.654909 L 102.016821 19.995103 L 103.737344 20.331387 L 105.461777 20.667671 L 107.182299 21.007865 L 110.631165 21.680433 L 112.351687 22.020628 L 114.07612 22.356912 L 115.796643 22.697106 L 117.521076 23.03339 L 119.241598 23.369674 L 120.966031 23.709868 L 122.690464 24.046152 L 124.410986 24.382436 L 126.135419 24.72263 L 127.855942 25.058914 L 129.580374 25.395198 L 131.304807 25.735392 L 133.02533 26.071676 L 134.749763 26.40796 L 136.470285 26.748154 L 138.194718 27.084438 L 139.915241 27.420722 L 141.639673 27.760916 L 143.364106 28.0972 L 145.084629 28.433484 L 146.809062 28.773679 L 148.529584 29.109963 L 150.254017 29.450157 L 151.97845 29.786441 L 153.698972 30.122725 L 155.423405 30.462919 L 157.143928 30.799203 L 158.868361 31.135487 L 160.592794 31.475681 L 162.313316 31.811965 L 164.037749 32.148249 L 165.758271 32.488443 L 167.482704 32.824727 L 169.203227 33.161011 L 170.92766 33.501205 L 172.652093 33.837489 L 174.372615 34.173773 L 176.097048 34.513968 L 177.81757 34.850251 L 179.542003 35.186535 L 181.266436 35.52673 L 182.986959 35.863014 L 184.711392 36.203208 L 186.431914 36.539492 L 188.156347 36.875776 L 189.876869 37.21597 L 193.325735 37.888538 L 195.046258 38.228732 L 196.770691 38.565016 L 198.491213 38.9013 L 200.215646 39.241494 L 201.940079 39.577778 L 203.660601 39.914062 L 205.385034 40.254256 L 207.105557 40.59054 L 208.82999 40.926824 L 210.554422 41.267019 L 212.274945 41.603302 L 213.999378 41.939586 L 215.7199 42.279781 L 217.444333 42.616065 L 219.164856 42.956259 L 222.613721 43.628827 L 224.334244 43.969021 L 226.058677 44.305305 L 227.779199 44.641589 L 229.503632 44.981783 L 231.228065 45.318067 L 232.948588 45.654351 L 234.67302 45.994545 L 236.393543 46.330829 L 238.117976 46.667113 L 239.838498 47.007307 L 243.287364 47.679875 L 245.007887 48.02007 L 246.732319 48.356354 L 248.452842 48.692637 L 250.177275 49.032832 L 251.901708 49.369116 L 253.62223 49.70931 L 255.346663 50.045594 L 257.067186 50.381878 L 258.791618 50.722072 L 260.516051 51.058356 L 262.236574 51.39464 L 263.961007 51.734834 L 265.681529 52.071118 L 267.405962 52.407402 L 269.126485 52.747596 L 272.57535 53.420164 L 274.295873 53.760358 L 276.020306 54.096642 L 277.740828 54.432926 L 279.465261 54.773121 L 281.189694 55.109405 L 282.910216 55.445688 L 284.634649 55.785883 L 286.355172 56.122167 L 288.079605 56.462361 L 289.804037 56.798645 L 291.52456 57.134929 L 293.248993 57.475123 L 294.969515 57.811407 L 296.693948 58.147691 L 298.414471 58.487885 L 301.863336 59.160453 L 303.583859 59.500647 L 305.308292 59.836931 L 307.028814 60.173215 L 308.753247 60.513409 L 310.47768 60.849693 L 312.198203 61.185977 L 313.922635 61.526172 L 315.643158 61.862456 L 317.367591 62.20265 L 319.088113 62.538934 L 320.812546 62.875218 L 322.536979 63.215412 L 324.257502 63.551696 L 325.981934 63.88798 L 327.702457 64.228174 L 331.151323 64.900742 L 332.871845 65.240936 L 334.596278 65.57722 L 336.316801 65.913504 L 338.041233 66.253698 L 339.765666 66.589982 L 341.486189 66.926266 L 343.210622 67.26646 L 344.931144 67.602744 L 346.655577 67.939028 L 348.3761 68.279223 L 350.100532 68.615507 L 351.824965 68.955701 L 353.545488 69.291985 L 355.269921 69.628269 L 356.990443 69.968463 L 360.439309 70.641031 L 362.159831 70.981225 L 363.884264 71.317509 L 365.604787 71.653793 L 367.32922 71.993987 \" transform=\"matrix(0.99897,0,0,-0.99897,31.75625,242.181535)\"/>\n",
       "</g>\n",
       "<g clip-path=\"url(#clip-1653391830009730-5)\" clip-rule=\"nonzero\">\n",
       "<path style=\"fill:none;stroke-width:0.99628;stroke-linecap:butt;stroke-linejoin:miter;stroke:rgb(100%,0%,0%);stroke-opacity:1;stroke-dasharray:2.98883,2.98883;stroke-miterlimit:10;\" d=\"M 24.487729 6.152717 L 26.212161 6.586758 L 27.932684 7.020799 L 29.657117 7.45093 L 31.38155 7.884971 L 33.102072 8.319012 L 34.826505 8.749142 L 36.547028 9.183183 L 38.27146 9.617224 L 39.991983 10.051265 L 41.716416 10.481396 L 43.440849 10.915437 L 45.161371 11.349477 L 46.885804 11.779608 L 48.606327 12.213649 L 50.330759 12.64769 L 52.055192 13.077821 L 53.775715 13.511862 L 55.500148 13.945902 L 57.22067 14.379943 L 58.945103 14.810074 L 60.669536 15.244115 L 62.390058 15.678156 L 64.114491 16.108286 L 65.835014 16.542327 L 67.559447 16.976368 L 69.279969 17.410409 L 71.004402 17.84054 L 72.728835 18.274581 L 74.449357 18.708622 L 76.17379 19.138752 L 77.894313 19.572793 L 81.343179 20.440875 L 83.063701 20.871006 L 84.788134 21.305047 L 86.508656 21.739088 L 88.233089 22.169218 L 89.953612 22.603259 L 91.678045 23.0373 L 93.402478 23.467431 L 95.123 23.901472 L 96.847433 24.335512 L 98.567955 24.769553 L 100.292388 25.199684 L 102.016821 25.633725 L 103.737344 26.067766 L 105.461777 26.497897 L 107.182299 26.931937 L 110.631165 27.800019 L 112.351687 28.23015 L 114.07612 28.664191 L 115.796643 29.098232 L 117.521076 29.528362 L 119.241598 29.962403 L 120.966031 30.396444 L 122.690464 30.826575 L 124.410986 31.260616 L 126.135419 31.694657 L 127.855942 32.128698 L 129.580374 32.558828 L 131.304807 32.992869 L 133.02533 33.42691 L 134.749763 33.857041 L 136.470285 34.291082 L 138.194718 34.725123 L 139.915241 35.159163 L 141.639673 35.589294 L 143.364106 36.023335 L 145.084629 36.457376 L 146.809062 36.887507 L 148.529584 37.321547 L 151.97845 38.189629 L 153.698972 38.61976 L 155.423405 39.053801 L 157.143928 39.487842 L 158.868361 39.917972 L 160.592794 40.352013 L 162.313316 40.786054 L 164.037749 41.216185 L 165.758271 41.650226 L 167.482704 42.084267 L 169.203227 42.518308 L 170.92766 42.948438 L 172.652093 43.382479 L 174.372615 43.81652 L 176.097048 44.246651 L 177.81757 44.680692 L 181.266436 45.548774 L 182.986959 45.978904 L 184.711392 46.412945 L 186.431914 46.846986 L 188.156347 47.277117 L 189.876869 47.711158 L 193.325735 48.579239 L 195.046258 49.00937 L 196.770691 49.443411 L 198.491213 49.877452 L 200.215646 50.307582 L 201.940079 50.741623 L 203.660601 51.175664 L 205.385034 51.605795 L 207.105557 52.039836 L 210.554422 52.907918 L 212.274945 53.338048 L 213.999378 53.772089 L 215.7199 54.20613 L 217.444333 54.636261 L 219.164856 55.070302 L 222.613721 55.938384 L 224.334244 56.368514 L 226.058677 56.802555 L 227.779199 57.236596 L 229.503632 57.666727 L 231.228065 58.100768 L 232.948588 58.534809 L 234.67302 58.964939 L 236.393543 59.39898 L 238.117976 59.833021 L 239.838498 60.267062 L 241.562931 60.697193 L 243.287364 61.131233 L 245.007887 61.565274 L 246.732319 61.995405 L 248.452842 62.429446 L 251.901708 63.297528 L 253.62223 63.727658 L 255.346663 64.161699 L 257.067186 64.59574 L 258.791618 65.025871 L 260.516051 65.459912 L 262.236574 65.893953 L 263.961007 66.327994 L 265.681529 66.758124 L 267.405962 67.192165 L 269.126485 67.626206 L 270.850917 68.056337 L 272.57535 68.490378 L 274.295873 68.924419 L 276.020306 69.354549 L 277.740828 69.78859 L 281.189694 70.656672 L 282.910216 71.086803 L 284.634649 71.520844 L 286.355172 71.954884 L 288.079605 72.385015 L 289.804037 72.819056 L 291.52456 73.253097 L 293.248993 73.687138 L 294.969515 74.117268 L 296.693948 74.551309 L 298.414471 74.98535 L 300.138904 75.415481 L 301.863336 75.849522 L 303.583859 76.283563 L 305.308292 76.717604 L 307.028814 77.147734 L 310.47768 78.015816 L 312.198203 78.445947 L 313.922635 78.879988 L 315.643158 79.314029 L 317.367591 79.744159 L 319.088113 80.1782 L 322.536979 81.046282 L 324.257502 81.476413 L 325.981934 81.910454 L 327.702457 82.344495 L 329.42689 82.774625 L 331.151323 83.208666 L 332.871845 83.642707 L 334.596278 84.076748 L 336.316801 84.506879 L 339.765666 85.37496 L 341.486189 85.805091 L 343.210622 86.239132 L 344.931144 86.673173 L 346.655577 87.103303 L 348.3761 87.537344 L 351.824965 88.405426 L 353.545488 88.835557 L 355.269921 89.269598 L 356.990443 89.703639 L 358.714876 90.133769 L 360.439309 90.56781 L 362.159831 91.001851 L 363.884264 91.435892 L 365.604787 91.866023 L 367.32922 92.300064 \" transform=\"matrix(0.99897,0,0,-0.99897,31.75625,242.181535)\"/>\n",
       "</g>\n",
       "<g clip-path=\"url(#clip-1653391830009730-6)\" clip-rule=\"nonzero\">\n",
       "<path style=\"fill:none;stroke-width:0.99628;stroke-linecap:butt;stroke-linejoin:miter;stroke:rgb(0%,0%,0%);stroke-opacity:1;stroke-miterlimit:10;\" d=\"M 302.962125 -237.508469 L 302.962125 475.018575 \" transform=\"matrix(0.99897,0,0,-0.99897,31.75625,242.181535)\"/>\n",
       "</g>\n",
       "<g clip-path=\"url(#clip-1653391830009730-7)\" clip-rule=\"nonzero\">\n",
       "<path style=\"fill:none;stroke-width:0.99628;stroke-linecap:butt;stroke-linejoin:miter;stroke:rgb(0%,0%,0%);stroke-opacity:1;stroke-dasharray:2.98883,2.98883;stroke-miterlimit:10;\" d=\"M 252.015106 -237.508469 L 252.015106 475.018575 \" transform=\"matrix(0.99897,0,0,-0.99897,31.75625,242.181535)\"/>\n",
       "</g>\n",
       "<path style=\"fill:none;stroke-width:0.99628;stroke-linecap:butt;stroke-linejoin:miter;stroke:rgb(0%,0%,0%);stroke-opacity:1;stroke-miterlimit:10;\" d=\"M 302.962125 13.926351 L 254.904801 13.926351 \" transform=\"matrix(0.99897,0,0,-0.99897,31.75625,242.181535)\"/>\n",
       "<path style=\" stroke:none;fill-rule:nonzero;fill:rgb(0%,0%,0%);fill-opacity:1;\" d=\"M 283.511719 228.269531 L 288.128906 230.578125 L 286.398438 228.269531 L 288.128906 225.960938 \"/>\n",
       "<path style=\"fill:none;stroke-width:0.99628;stroke-linecap:butt;stroke-linejoin:miter;stroke:rgb(0%,0%,100%);stroke-opacity:1;stroke-miterlimit:10;\" d=\"M 239.987089 139.27424 L 211.043207 139.27424 \" transform=\"matrix(0.99897,0,0,-0.99897,31.75625,242.181535)\"/>\n",
       "<path style=\" stroke:none;fill-rule:nonzero;fill:rgb(0%,0%,100%);fill-opacity:1;\" d=\"M 239.695312 103.050781 L 244.3125 105.359375 L 242.582031 103.050781 L 244.3125 100.742188 \"/>\n",
       "<path style=\"fill:none;stroke-width:0.99628;stroke-linecap:butt;stroke-linejoin:miter;stroke:rgb(100%,0%,0%);stroke-opacity:1;stroke-miterlimit:10;\" d=\"M 355.082227 72.420208 L 355.082227 80.674806 \" transform=\"matrix(0.99897,0,0,-0.99897,31.75625,242.181535)\"/>\n",
       "<path style=\" stroke:none;fill-rule:nonzero;fill:rgb(100%,0%,0%);fill-opacity:1;\" d=\"M 386.472656 158.703125 L 384.164062 163.320312 L 386.472656 161.589844 L 388.785156 163.320312 \"/>\n",
       "<g style=\"fill:rgb(0%,0%,0%);fill-opacity:1;\">\n",
       "  <use xlink:href=\"#glyph-1653391830009730-1-1\" x=\"210.914483\" y=\"267.232699\"/>\n",
       "</g>\n",
       "<g style=\"fill:rgb(0%,0%,0%);fill-opacity:1;\">\n",
       "  <use xlink:href=\"#glyph-1653391830009730-2-1\" x=\"15.053475\" y=\"127.941351\"/>\n",
       "</g>\n",
       "<path style=\"fill-rule:nonzero;fill:rgb(100%,100%,100%);fill-opacity:1;stroke-width:0.99628;stroke-linecap:butt;stroke-linejoin:miter;stroke:rgb(0%,0%,0%);stroke-opacity:1;stroke-miterlimit:10;\" d=\"M 375.173238 188.821379 L 458.911853 188.821379 L 458.911853 237.007741 L 375.173238 237.007741 Z M 375.173238 188.821379 \" transform=\"matrix(0.99897,0,0,-0.99897,31.75625,242.181535)\"/>\n",
       "<path style=\"fill:none;stroke-width:0.99628;stroke-linecap:butt;stroke-linejoin:miter;stroke:rgb(0%,0%,100%);stroke-opacity:1;stroke-miterlimit:10;\" d=\"M 0.000296487 0.000724319 L 17.010008 0.000724319 \" transform=\"matrix(0.99897,0,0,-0.99897,410.023141,12.949942)\"/>\n",
       "<g style=\"fill:rgb(0%,0%,0%);fill-opacity:1;\">\n",
       "  <use xlink:href=\"#glyph-1653391830009730-3-1\" x=\"446.301727\" y=\"15.005822\"/>\n",
       "  <use xlink:href=\"#glyph-1653391830009730-3-2\" x=\"452.289075\" y=\"15.005822\"/>\n",
       "</g>\n",
       "<g style=\"fill:rgb(0%,0%,0%);fill-opacity:1;\">\n",
       "  <use xlink:href=\"#glyph-1653391830009730-4-1\" x=\"461.214348\" y=\"15.005822\"/>\n",
       "</g>\n",
       "<g style=\"fill:rgb(0%,0%,0%);fill-opacity:1;\">\n",
       "  <use xlink:href=\"#glyph-1653391830009730-5-1\" x=\"464.269197\" y=\"16.111682\"/>\n",
       "</g>\n",
       "<path style=\"fill:none;stroke-width:0.99628;stroke-linecap:butt;stroke-linejoin:miter;stroke:rgb(0%,0%,100%);stroke-opacity:1;stroke-dasharray:2.98883,2.98883;stroke-miterlimit:10;\" d=\"M 0.000296487 0.0011744 L 17.010008 0.0011744 \" transform=\"matrix(0.99897,0,0,-0.99897,410.023141,24.028517)\"/>\n",
       "<g style=\"fill:rgb(0%,0%,0%);fill-opacity:1;\">\n",
       "  <use xlink:href=\"#glyph-1653391830009730-3-1\" x=\"446.301727\" y=\"26.085396\"/>\n",
       "  <use xlink:href=\"#glyph-1653391830009730-3-2\" x=\"452.289075\" y=\"26.085396\"/>\n",
       "</g>\n",
       "<g style=\"fill:rgb(0%,0%,0%);fill-opacity:1;\">\n",
       "  <use xlink:href=\"#glyph-1653391830009730-4-1\" x=\"461.214348\" y=\"26.085396\"/>\n",
       "</g>\n",
       "<g style=\"fill:rgb(0%,0%,0%);fill-opacity:1;\">\n",
       "  <use xlink:href=\"#glyph-1653391830009730-5-2\" x=\"464.269197\" y=\"27.191255\"/>\n",
       "</g>\n",
       "<path style=\"fill:none;stroke-width:0.99628;stroke-linecap:butt;stroke-linejoin:miter;stroke:rgb(100%,0%,0%);stroke-opacity:1;stroke-miterlimit:10;\" d=\"M 0.000296487 0.00172727 L 17.010008 0.00172727 \" transform=\"matrix(0.99897,0,0,-0.99897,410.023141,35.068132)\"/>\n",
       "<g style=\"fill:rgb(0%,0%,0%);fill-opacity:1;\">\n",
       "  <use xlink:href=\"#glyph-1653391830009730-3-3\" x=\"429.502053\" y=\"37.084053\"/>\n",
       "  <use xlink:href=\"#glyph-1653391830009730-3-4\" x=\"433.849249\" y=\"37.084053\"/>\n",
       "  <use xlink:href=\"#glyph-1653391830009730-3-5\" x=\"438.077018\" y=\"37.084053\"/>\n",
       "</g>\n",
       "<g style=\"fill:rgb(0%,0%,0%);fill-opacity:1;\">\n",
       "  <use xlink:href=\"#glyph-1653391830009730-3-6\" x=\"445.585088\" y=\"37.084053\"/>\n",
       "  <use xlink:href=\"#glyph-1653391830009730-3-7\" x=\"449.343105\" y=\"37.084053\"/>\n",
       "  <use xlink:href=\"#glyph-1653391830009730-3-8\" x=\"452.639331\" y=\"37.084053\"/>\n",
       "  <use xlink:href=\"#glyph-1653391830009730-3-9\" x=\"456.397347\" y=\"37.084053\"/>\n",
       "  <use xlink:href=\"#glyph-1653391830009730-3-10\" x=\"460.625115\" y=\"37.084053\"/>\n",
       "  <use xlink:href=\"#glyph-1653391830009730-3-11\" x=\"463.913379\" y=\"37.084053\"/>\n",
       "</g>\n",
       "<g style=\"fill:rgb(0%,0%,0%);fill-opacity:1;\">\n",
       "  <use xlink:href=\"#glyph-1653391830009730-3-4\" x=\"466.270102\" y=\"37.084053\"/>\n",
       "  <use xlink:href=\"#glyph-1653391830009730-3-12\" x=\"470.49787\" y=\"37.084053\"/>\n",
       "</g>\n",
       "<g style=\"fill:rgb(0%,0%,0%);fill-opacity:1;\">\n",
       "  <use xlink:href=\"#glyph-1653391830009730-4-1\" x=\"478.013023\" y=\"37.084053\"/>\n",
       "</g>\n",
       "<g style=\"fill:rgb(0%,0%,0%);fill-opacity:1;\">\n",
       "  <use xlink:href=\"#glyph-1653391830009730-5-1\" x=\"481.068872\" y=\"38.189912\"/>\n",
       "</g>\n",
       "<path style=\"fill:none;stroke-width:0.99628;stroke-linecap:butt;stroke-linejoin:miter;stroke:rgb(100%,0%,0%);stroke-opacity:1;stroke-dasharray:2.98883,2.98883;stroke-miterlimit:10;\" d=\"M 0.000296487 0.000382917 L 17.010008 0.000382917 \" transform=\"matrix(0.99897,0,0,-0.99897,410.023141,46.066789)\"/>\n",
       "<g style=\"fill:rgb(0%,0%,0%);fill-opacity:1;\">\n",
       "  <use xlink:href=\"#glyph-1653391830009730-3-3\" x=\"429.502053\" y=\"48.083709\"/>\n",
       "  <use xlink:href=\"#glyph-1653391830009730-3-4\" x=\"433.849249\" y=\"48.083709\"/>\n",
       "  <use xlink:href=\"#glyph-1653391830009730-3-5\" x=\"438.077018\" y=\"48.083709\"/>\n",
       "</g>\n",
       "<g style=\"fill:rgb(0%,0%,0%);fill-opacity:1;\">\n",
       "  <use xlink:href=\"#glyph-1653391830009730-3-6\" x=\"445.585088\" y=\"48.083709\"/>\n",
       "  <use xlink:href=\"#glyph-1653391830009730-3-7\" x=\"449.343105\" y=\"48.083709\"/>\n",
       "  <use xlink:href=\"#glyph-1653391830009730-3-8\" x=\"452.639331\" y=\"48.083709\"/>\n",
       "  <use xlink:href=\"#glyph-1653391830009730-3-9\" x=\"456.397347\" y=\"48.083709\"/>\n",
       "  <use xlink:href=\"#glyph-1653391830009730-3-10\" x=\"460.625115\" y=\"48.083709\"/>\n",
       "  <use xlink:href=\"#glyph-1653391830009730-3-11\" x=\"463.913379\" y=\"48.083709\"/>\n",
       "</g>\n",
       "<g style=\"fill:rgb(0%,0%,0%);fill-opacity:1;\">\n",
       "  <use xlink:href=\"#glyph-1653391830009730-3-4\" x=\"466.270102\" y=\"48.083709\"/>\n",
       "  <use xlink:href=\"#glyph-1653391830009730-3-12\" x=\"470.49787\" y=\"48.083709\"/>\n",
       "</g>\n",
       "<g style=\"fill:rgb(0%,0%,0%);fill-opacity:1;\">\n",
       "  <use xlink:href=\"#glyph-1653391830009730-4-1\" x=\"478.013023\" y=\"48.083709\"/>\n",
       "</g>\n",
       "<g style=\"fill:rgb(0%,0%,0%);fill-opacity:1;\">\n",
       "  <use xlink:href=\"#glyph-1653391830009730-5-2\" x=\"481.068872\" y=\"49.189568\"/>\n",
       "</g>\n",
       "</g>\n",
       "</svg>\n",
       "\n"
      ]
     },
     "execution_count": 51,
     "metadata": {},
     "output_type": "execute_result"
    }
   ],
   "source": [
    "p2 = plot(grid_BC_1, grid_v, label=L\"BC $t_0$\", color=\"blue\")\n",
    "plot!(grid_BC_2, grid_v, label=L\"BC $t_1$\", color=\"blue\", linestyle=:dash)\n",
    "plot!(grid_u, grid_theta_bis_1, label=L\"Job creation $t_0$\", color=\"red\")\n",
    "plot!(grid_u, grid_theta_bis_2, label=L\"Job creation $t_1$\", xticks=[0.0], yticks=[0.0], color=\"red\", linestyle=:dash, ylims=(0.0,v_max), xlims=(0.0, u_max))\n",
    "\n",
    "vline!([m.u_2[1]], color=\"black\", label=:none) \n",
    "vline!([m_2.u_2[1]], color=\"black\", linestyle=:dash, label=:none) \n",
    "\n",
    "xaxis!(draw_arrow=true, xlabel = L\"U\")\n",
    "yaxis!(draw_arrow=true, ylabel= L\"V\")\n",
    "\n",
    "plot!([m.u_2[1], m_2.u_2[1]], [0.005, 0.005], arrow=1., label=:none, color=\"black\")\n",
    "plot!([0.098, 0.085], [0.05, 0.05], arrow=1., label=:none, color=\"blue\")\n",
    "plot!([0.145, 0.145], [0.026, 0.030], arrow=1., label=:none, color=\"red\")\n"
   ]
  },
  {
   "cell_type": "code",
   "execution_count": 52,
   "id": "49fe05bd",
   "metadata": {},
   "outputs": [
    {
     "data": {
      "image/svg+xml": [
       "<?xml version=\"1.0\" encoding=\"UTF-8\"?>\n",
       "<svg xmlns=\"http://www.w3.org/2000/svg\" xmlns:xlink=\"http://www.w3.org/1999/xlink\" width=\"705.911pt\" height=\"365.258pt\" viewBox=\"0 0 705.911 365.258\" version=\"1.2\">\n",
       "<defs>\n",
       "<g>\n",
       "<symbol overflow=\"visible\" id=\"glyph-1653391830009731-0-0\">\n",
       "<path style=\"stroke:none;\" d=\"\"/>\n",
       "</symbol>\n",
       "<symbol overflow=\"visible\" id=\"glyph-1653391830009731-0-1\">\n",
       "<path style=\"stroke:none;\" d=\"M 3.890625 -2.53125 C 3.890625 -3.390625 3.796875 -3.90625 3.546875 -4.40625 C 3.1875 -5.109375 2.546875 -5.28125 2.109375 -5.28125 C 1.109375 -5.28125 0.734375 -4.546875 0.625 -4.3125 C 0.34375 -3.734375 0.328125 -2.953125 0.328125 -2.53125 C 0.328125 -2.015625 0.34375 -1.203125 0.734375 -0.578125 C 1.09375 0.015625 1.6875 0.171875 2.109375 0.171875 C 2.484375 0.171875 3.171875 0.046875 3.578125 -0.734375 C 3.859375 -1.3125 3.890625 -2.015625 3.890625 -2.53125 Z M 2.109375 -0.0625 C 1.84375 -0.0625 1.28125 -0.1875 1.125 -1.015625 C 1.03125 -1.46875 1.03125 -2.21875 1.03125 -2.625 C 1.03125 -3.1875 1.03125 -3.734375 1.125 -4.171875 C 1.28125 -4.984375 1.90625 -5.0625 2.109375 -5.0625 C 2.375 -5.0625 2.921875 -4.9375 3.078125 -4.203125 C 3.1875 -3.765625 3.1875 -3.171875 3.1875 -2.625 C 3.1875 -2.15625 3.1875 -1.453125 3.078125 -1 C 2.921875 -0.171875 2.375 -0.0625 2.109375 -0.0625 Z M 2.109375 -0.0625 \"/>\n",
       "</symbol>\n",
       "<symbol overflow=\"visible\" id=\"glyph-1653391830009731-1-0\">\n",
       "<path style=\"stroke:none;\" d=\"\"/>\n",
       "</symbol>\n",
       "<symbol overflow=\"visible\" id=\"glyph-1653391830009731-1-1\">\n",
       "<path style=\"stroke:none;\" d=\"M 4.953125 -5.453125 C 4.953125 -6.171875 4.765625 -7.671875 3.640625 -7.671875 C 2.140625 -7.671875 0.453125 -4.609375 0.453125 -2.109375 C 0.453125 -1.09375 0.765625 0.125 1.765625 0.125 C 3.296875 0.125 4.953125 -3 4.953125 -5.453125 Z M 1.609375 -3.953125 C 1.796875 -4.65625 2.015625 -5.515625 2.453125 -6.296875 C 2.75 -6.828125 3.140625 -7.4375 3.640625 -7.4375 C 4.171875 -7.4375 4.234375 -6.734375 4.234375 -6.125 C 4.234375 -5.59375 4.15625 -5.03125 3.890625 -3.953125 Z M 3.796875 -3.609375 C 3.671875 -3.109375 3.4375 -2.171875 3.03125 -1.390625 C 2.640625 -0.65625 2.234375 -0.125 1.765625 -0.125 C 1.40625 -0.125 1.171875 -0.4375 1.171875 -1.453125 C 1.171875 -1.90625 1.234375 -2.53125 1.53125 -3.609375 Z M 3.796875 -3.609375 \"/>\n",
       "</symbol>\n",
       "<symbol overflow=\"visible\" id=\"glyph-1653391830009731-1-2\">\n",
       "<path style=\"stroke:none;\" d=\"M 6.921875 -6.296875 C 7.03125 -6.734375 7.21875 -7.0625 8.09375 -7.09375 C 8.140625 -7.09375 8.28125 -7.109375 8.28125 -7.3125 C 8.28125 -7.328125 8.28125 -7.4375 8.140625 -7.4375 C 7.78125 -7.4375 7.390625 -7.40625 7.03125 -7.40625 C 6.65625 -7.40625 6.25 -7.4375 5.890625 -7.4375 C 5.828125 -7.4375 5.703125 -7.4375 5.703125 -7.21875 C 5.703125 -7.09375 5.8125 -7.09375 5.890625 -7.09375 C 6.515625 -7.09375 6.625 -6.859375 6.625 -6.625 C 6.625 -6.59375 6.609375 -6.421875 6.59375 -6.390625 L 5.625 -2.5 C 5.25 -1.046875 4 -0.09375 2.90625 -0.09375 C 2.171875 -0.09375 1.578125 -0.578125 1.578125 -1.515625 C 1.578125 -1.53125 1.578125 -1.890625 1.703125 -2.359375 L 2.75 -6.59375 C 2.859375 -6.984375 2.875 -7.09375 3.671875 -7.09375 C 3.953125 -7.09375 4.046875 -7.09375 4.046875 -7.3125 C 4.046875 -7.4375 3.921875 -7.4375 3.890625 -7.4375 C 3.578125 -7.4375 2.796875 -7.40625 2.5 -7.40625 C 2.171875 -7.40625 1.40625 -7.4375 1.09375 -7.4375 C 1 -7.4375 0.875 -7.4375 0.875 -7.21875 C 0.875 -7.09375 0.984375 -7.09375 1.1875 -7.09375 C 1.203125 -7.09375 1.421875 -7.09375 1.59375 -7.078125 C 1.796875 -7.0625 1.890625 -7.046875 1.890625 -6.90625 C 1.890625 -6.84375 1.78125 -6.375 1.703125 -6.125 L 1.46875 -5.171875 C 1.375 -4.75 0.84375 -2.6875 0.8125 -2.484375 C 0.734375 -2.171875 0.734375 -2.015625 0.734375 -1.84375 C 0.734375 -0.515625 1.71875 0.234375 2.859375 0.234375 C 4.234375 0.234375 5.59375 -0.984375 5.953125 -2.421875 Z M 6.921875 -6.296875 \"/>\n",
       "</symbol>\n",
       "<symbol overflow=\"visible\" id=\"glyph-1653391830009731-2-0\">\n",
       "<path style=\"stroke:none;\" d=\"\"/>\n",
       "</symbol>\n",
       "<symbol overflow=\"visible\" id=\"glyph-1653391830009731-2-1\">\n",
       "<path style=\"stroke:none;\" d=\"M -7.109375 -4.53125 L -7.28125 -4.359375 C -7.265625 -4.359375 -6.75 -3.9375 -6.75 -3.46875 C -6.75 -3.21875 -6.921875 -2.9375 -7.03125 -2.75 C -7.203125 -2.46875 -7.28125 -2.265625 -7.28125 -2.078125 C -7.28125 -1.671875 -7.03125 -1.453125 -6.421875 -0.90625 L -6.265625 -1.078125 C -6.265625 -1.078125 -6.78125 -1.484375 -6.78125 -1.96875 C -6.78125 -2.21875 -6.625 -2.5 -6.515625 -2.671875 C -6.34375 -2.96875 -6.265625 -3.171875 -6.265625 -3.359375 C -6.265625 -3.765625 -6.5 -3.96875 -7.109375 -4.53125 Z M -7.109375 -4.53125 \"/>\n",
       "</symbol>\n",
       "<symbol overflow=\"visible\" id=\"glyph-1653391830009731-3-0\">\n",
       "<path style=\"stroke:none;\" d=\"\"/>\n",
       "</symbol>\n",
       "<symbol overflow=\"visible\" id=\"glyph-1653391830009731-3-1\">\n",
       "<path style=\"stroke:none;\" d=\"M -3.6875 -5.03125 C -3.9375 -5.09375 -4.328125 -5.1875 -4.40625 -5.1875 C -4.59375 -5.1875 -4.6875 -5.046875 -4.6875 -4.875 C -4.6875 -4.75 -4.609375 -4.546875 -4.390625 -4.46875 C -4.3125 -4.4375 -2.234375 -3.9375 -1.953125 -3.859375 C -1.625 -3.78125 -1.421875 -3.75 -1.234375 -3.75 C -1.109375 -3.75 -1.09375 -3.75 -1.03125 -3.765625 C -0.453125 -3.515625 -0.125 -3.1875 -0.125 -2.765625 C -0.125 -1.890625 -0.921875 -1.890625 -1.109375 -1.890625 C -1.453125 -1.890625 -1.890625 -1.953125 -3.21875 -2.46875 C -3.546875 -2.578125 -3.703125 -2.640625 -3.921875 -2.640625 C -4.40625 -2.640625 -4.8125 -2.28125 -4.8125 -1.75 C -4.8125 -0.71875 -3.234375 -0.3125 -3.140625 -0.3125 C -3.03125 -0.3125 -3.03125 -0.421875 -3.03125 -0.453125 C -3.03125 -0.5625 -3.046875 -0.5625 -3.21875 -0.625 C -4.234375 -0.921875 -4.578125 -1.34375 -4.578125 -1.71875 C -4.578125 -1.8125 -4.5625 -2 -4.21875 -2 C -3.9375 -2 -3.640625 -1.875 -3.453125 -1.796875 C -2.171875 -1.3125 -1.671875 -1.1875 -1.25 -1.1875 C -0.265625 -1.1875 0.125 -1.921875 0.125 -2.734375 C 0.125 -2.921875 0.125 -3.4375 -0.640625 -3.859375 C 0.046875 -4.15625 0.125 -4.90625 0.125 -5.234375 C 0.125 -6.046875 -0.5625 -6.53125 -1.21875 -6.8125 C -2.0625 -7.171875 -3.53125 -7.53125 -4.046875 -7.53125 C -4.65625 -7.53125 -4.8125 -7.234375 -4.8125 -7.046875 C -4.8125 -6.78125 -4.53125 -6.5 -4.296875 -6.5 C -4.15625 -6.5 -4.078125 -6.5625 -4 -6.671875 C -3.875 -6.78125 -3.59375 -7.0625 -3.078125 -7.0625 C -2.703125 -7.0625 -1.640625 -6.734375 -1.078125 -6.453125 C -0.5 -6.171875 -0.125 -5.796875 -0.125 -5.265625 C -0.125 -4.75 -0.453125 -4.453125 -1.0625 -4.453125 C -1.375 -4.453125 -1.703125 -4.53125 -1.859375 -4.578125 Z M -3.6875 -5.03125 \"/>\n",
       "</symbol>\n",
       "<symbol overflow=\"visible\" id=\"glyph-1653391830009731-3-2\">\n",
       "<path style=\"stroke:none;\" d=\"M -6.203125 -6.84375 C -7.046875 -7.375 -7.078125 -7.828125 -7.09375 -8.234375 C -7.109375 -8.359375 -7.296875 -8.375 -7.3125 -8.375 C -7.390625 -8.375 -7.4375 -8.328125 -7.4375 -8.234375 C -7.4375 -7.953125 -7.40625 -7.640625 -7.40625 -7.34375 C -7.40625 -6.984375 -7.4375 -6.609375 -7.4375 -6.265625 C -7.4375 -6.203125 -7.4375 -6.0625 -7.234375 -6.0625 C -7.109375 -6.0625 -7.09375 -6.15625 -7.09375 -6.234375 C -7.078125 -6.53125 -6.96875 -6.734375 -6.734375 -6.734375 C -6.578125 -6.734375 -6.34375 -6.5625 -6.328125 -6.5625 L -1.015625 -3.21875 L -6.78125 -2.484375 C -6.953125 -2.484375 -7.09375 -2.734375 -7.09375 -3.234375 C -7.09375 -3.390625 -7.09375 -3.5 -7.3125 -3.5 C -7.421875 -3.5 -7.4375 -3.421875 -7.4375 -3.359375 C -7.4375 -2.921875 -7.40625 -2.453125 -7.40625 -2 C -7.40625 -1.8125 -7.421875 -1.59375 -7.421875 -1.40625 C -7.421875 -1.203125 -7.4375 -1 -7.4375 -0.8125 C -7.4375 -0.734375 -7.4375 -0.609375 -7.234375 -0.609375 C -7.09375 -0.609375 -7.09375 -0.703125 -7.09375 -0.875 C -7.09375 -1.484375 -7 -1.5 -6.734375 -1.53125 L -0.015625 -2.390625 C 0.203125 -2.421875 0.234375 -2.46875 0.234375 -2.609375 C 0.234375 -2.78125 0.1875 -2.828125 0.046875 -2.921875 Z M -6.203125 -6.84375 \"/>\n",
       "</symbol>\n",
       "<symbol overflow=\"visible\" id=\"glyph-1653391830009731-4-0\">\n",
       "<path style=\"stroke:none;\" d=\"\"/>\n",
       "</symbol>\n",
       "<symbol overflow=\"visible\" id=\"glyph-1653391830009731-4-1\">\n",
       "<path style=\"stroke:none;\" d=\"M 3.875 -5.171875 L 3.875 -5.4375 C 3.46875 -5.40625 3.25 -5.40625 2.8125 -5.40625 C 2.453125 -5.40625 1.859375 -5.40625 1.53125 -5.4375 L 1.53125 -5.171875 L 1.796875 -5.171875 C 2.546875 -5.171875 2.5625 -5.078125 2.5625 -4.78125 L 2.5625 -1.1875 C 2.5625 -0.453125 2.140625 -0.0625 1.71875 -0.0625 C 1.375 -0.0625 1.015625 -0.21875 0.828125 -0.46875 C 1.046875 -0.46875 1.28125 -0.609375 1.28125 -0.90625 C 1.28125 -1.1875 1.078125 -1.34375 0.84375 -1.34375 C 0.6875 -1.34375 0.40625 -1.234375 0.40625 -0.890625 C 0.40625 -0.296875 1 0.171875 1.734375 0.171875 C 2.46875 0.171875 3.28125 -0.3125 3.28125 -1.1875 L 3.28125 -4.8125 C 3.28125 -5.171875 3.375 -5.171875 3.875 -5.171875 Z M 3.875 -5.171875 \"/>\n",
       "</symbol>\n",
       "<symbol overflow=\"visible\" id=\"glyph-1653391830009731-4-2\">\n",
       "<path style=\"stroke:none;\" d=\"M 3.984375 -1.6875 C 3.984375 -2.6875 3.15625 -3.546875 2.109375 -3.546875 C 1.0625 -3.546875 0.234375 -2.6875 0.234375 -1.6875 C 0.234375 -0.703125 1.09375 0.078125 2.109375 0.078125 C 3.140625 0.078125 3.984375 -0.703125 3.984375 -1.6875 Z M 3.265625 -1.765625 C 3.265625 -1.40625 3.25 -0.96875 3.03125 -0.625 C 2.8125 -0.3125 2.453125 -0.171875 2.109375 -0.171875 C 1.671875 -0.171875 1.34375 -0.375 1.171875 -0.65625 C 0.96875 -0.984375 0.953125 -1.375 0.953125 -1.765625 C 0.953125 -2.0625 0.953125 -2.546875 1.1875 -2.890625 C 1.40625 -3.171875 1.734375 -3.328125 2.109375 -3.328125 C 2.515625 -3.328125 2.859375 -3.125 3.046875 -2.84375 C 3.265625 -2.515625 3.265625 -2.078125 3.265625 -1.765625 Z M 3.265625 -1.765625 \"/>\n",
       "</symbol>\n",
       "<symbol overflow=\"visible\" id=\"glyph-1653391830009731-4-3\">\n",
       "<path style=\"stroke:none;\" d=\"M 4.40625 -1.71875 C 4.40625 -2.71875 3.59375 -3.5 2.609375 -3.5 C 1.984375 -3.5 1.59375 -3.171875 1.46875 -3.015625 L 1.46875 -5.515625 L 0.28125 -5.4375 L 0.28125 -5.171875 C 0.8125 -5.171875 0.875 -5.109375 0.875 -4.71875 L 0.875 0 L 1.125 0 L 1.421875 -0.5 C 1.609375 -0.21875 1.984375 0.078125 2.515625 0.078125 C 3.53125 0.078125 4.40625 -0.703125 4.40625 -1.71875 Z M 3.703125 -1.71875 C 3.703125 -1.546875 3.703125 -0.984375 3.40625 -0.609375 C 3.125 -0.25 2.75 -0.140625 2.484375 -0.140625 C 2.109375 -0.140625 1.796875 -0.34375 1.578125 -0.65625 C 1.484375 -0.796875 1.484375 -0.8125 1.484375 -0.96875 L 1.484375 -2.515625 C 1.484375 -2.671875 1.484375 -2.6875 1.609375 -2.828125 C 1.84375 -3.125 2.21875 -3.28125 2.5625 -3.28125 C 2.984375 -3.28125 3.296875 -3.03125 3.453125 -2.796875 C 3.59375 -2.578125 3.703125 -2.3125 3.703125 -1.71875 Z M 3.703125 -1.71875 \"/>\n",
       "</symbol>\n",
       "<symbol overflow=\"visible\" id=\"glyph-1653391830009731-4-4\">\n",
       "<path style=\"stroke:none;\" d=\"M 3.5 -0.953125 C 3.5 -1.046875 3.40625 -1.046875 3.375 -1.046875 C 3.328125 -1.046875 3.28125 -1.046875 3.265625 -0.96875 C 3.203125 -0.796875 2.984375 -0.171875 2.1875 -0.171875 C 1.6875 -0.171875 0.984375 -0.546875 0.984375 -1.71875 C 0.984375 -2.875 1.578125 -3.296875 2.15625 -3.296875 C 2.234375 -3.296875 2.640625 -3.296875 2.921875 -3.15625 C 2.703125 -3.078125 2.671875 -2.90625 2.671875 -2.8125 C 2.671875 -2.59375 2.828125 -2.4375 3.046875 -2.4375 C 3.25 -2.4375 3.421875 -2.578125 3.421875 -2.8125 C 3.421875 -3.3125 2.875 -3.546875 2.125 -3.546875 C 1.03125 -3.546875 0.28125 -2.671875 0.28125 -1.71875 C 0.28125 -0.703125 1.109375 0.078125 2.109375 0.078125 C 3.234375 0.078125 3.5 -0.859375 3.5 -0.953125 Z M 3.5 -0.953125 \"/>\n",
       "</symbol>\n",
       "<symbol overflow=\"visible\" id=\"glyph-1653391830009731-4-5\">\n",
       "<path style=\"stroke:none;\" d=\"M 3.046875 -3 C 3.046875 -3.28125 2.796875 -3.5 2.453125 -3.5 C 1.9375 -3.5 1.578125 -3.125 1.421875 -2.671875 L 1.40625 -2.671875 L 1.40625 -3.5 L 0.28125 -3.421875 L 0.28125 -3.15625 C 0.8125 -3.15625 0.875 -3.109375 0.875 -2.71875 L 0.875 -0.625 C 0.875 -0.265625 0.78125 -0.265625 0.28125 -0.265625 L 0.28125 0 C 0.59375 -0.03125 1.03125 -0.03125 1.21875 -0.03125 C 1.6875 -0.03125 1.703125 -0.03125 2.21875 0 L 2.21875 -0.265625 L 2.0625 -0.265625 C 1.484375 -0.265625 1.46875 -0.34375 1.46875 -0.640625 L 1.46875 -1.8125 C 1.46875 -2.40625 1.703125 -3.265625 2.46875 -3.28125 C 2.421875 -3.25 2.34375 -3.1875 2.34375 -3 C 2.34375 -2.765625 2.53125 -2.640625 2.703125 -2.640625 C 2.890625 -2.640625 3.046875 -2.78125 3.046875 -3 Z M 3.046875 -3 \"/>\n",
       "</symbol>\n",
       "<symbol overflow=\"visible\" id=\"glyph-1653391830009731-4-6\">\n",
       "<path style=\"stroke:none;\" d=\"M 3.5 -0.953125 C 3.5 -0.984375 3.484375 -1.0625 3.375 -1.0625 C 3.296875 -1.0625 3.28125 -1.015625 3.265625 -0.96875 C 2.96875 -0.1875 2.296875 -0.171875 2.140625 -0.171875 C 1.796875 -0.171875 1.421875 -0.328125 1.1875 -0.703125 C 0.953125 -1.0625 0.953125 -1.578125 0.953125 -1.8125 L 3.28125 -1.8125 C 3.453125 -1.8125 3.5 -1.8125 3.5 -2 C 3.5 -2.703125 3.125 -3.546875 2 -3.546875 C 1.015625 -3.546875 0.234375 -2.734375 0.234375 -1.734375 C 0.234375 -0.71875 1.09375 0.078125 2.09375 0.078125 C 3.109375 0.078125 3.5 -0.765625 3.5 -0.953125 Z M 2.96875 -2.015625 L 0.953125 -2.015625 C 1.03125 -3.140625 1.703125 -3.328125 2 -3.328125 C 2.921875 -3.328125 2.953125 -2.203125 2.96875 -2.015625 Z M 2.96875 -2.015625 \"/>\n",
       "</symbol>\n",
       "<symbol overflow=\"visible\" id=\"glyph-1653391830009731-4-7\">\n",
       "<path style=\"stroke:none;\" d=\"M 4.09375 -0.71875 L 4.09375 -1.15625 L 3.84375 -1.15625 L 3.84375 -0.71875 C 3.84375 -0.390625 3.71875 -0.265625 3.5625 -0.265625 C 3.265625 -0.265625 3.265625 -0.625 3.265625 -0.71875 L 3.265625 -2.375 C 3.265625 -3.15625 2.5 -3.546875 1.78125 -3.546875 C 1.125 -3.546875 0.53125 -3.296875 0.53125 -2.765625 C 0.53125 -2.53125 0.703125 -2.390625 0.90625 -2.390625 C 1.125 -2.390625 1.28125 -2.546875 1.28125 -2.765625 C 1.28125 -2.953125 1.15625 -3.078125 0.984375 -3.125 C 1.28125 -3.328125 1.703125 -3.328125 1.765625 -3.328125 C 2.21875 -3.328125 2.65625 -3.015625 2.65625 -2.359375 L 2.65625 -2.109375 C 2.1875 -2.09375 1.65625 -2.0625 1.109375 -1.84375 C 0.40625 -1.53125 0.265625 -1.078125 0.265625 -0.8125 C 0.265625 -0.125 1.078125 0.078125 1.625 0.078125 C 2.203125 0.078125 2.5625 -0.25 2.734375 -0.5625 C 2.78125 -0.265625 2.984375 0.046875 3.328125 0.046875 C 3.40625 0.046875 4.09375 0.015625 4.09375 -0.71875 Z M 2.65625 -1.125 C 2.65625 -0.34375 2 -0.140625 1.6875 -0.140625 C 1.265625 -0.140625 0.921875 -0.421875 0.921875 -0.796875 C 0.921875 -1.328125 1.421875 -1.875 2.65625 -1.90625 Z M 2.65625 -1.125 \"/>\n",
       "</symbol>\n",
       "<symbol overflow=\"visible\" id=\"glyph-1653391830009731-4-8\">\n",
       "<path style=\"stroke:none;\" d=\"M 2.8125 -1 L 2.8125 -1.4375 L 2.5625 -1.4375 L 2.5625 -1.015625 C 2.5625 -0.46875 2.3125 -0.171875 2.015625 -0.171875 C 1.484375 -0.171875 1.484375 -0.84375 1.484375 -0.984375 L 1.484375 -3.171875 L 2.671875 -3.171875 L 2.671875 -3.421875 L 1.484375 -3.421875 L 1.484375 -4.890625 L 1.234375 -4.890625 C 1.21875 -4.171875 0.90625 -3.40625 0.15625 -3.390625 L 0.15625 -3.171875 L 0.875 -3.171875 L 0.875 -1 C 0.875 -0.0625 1.59375 0.078125 1.953125 0.078125 C 2.484375 0.078125 2.8125 -0.390625 2.8125 -1 Z M 2.8125 -1 \"/>\n",
       "</symbol>\n",
       "<symbol overflow=\"visible\" id=\"glyph-1653391830009731-4-9\">\n",
       "<path style=\"stroke:none;\" d=\"M 2.0625 0 L 2.0625 -0.265625 C 1.546875 -0.265625 1.515625 -0.296875 1.515625 -0.609375 L 1.515625 -3.5 L 0.359375 -3.421875 L 0.359375 -3.15625 C 0.859375 -3.15625 0.9375 -3.109375 0.9375 -2.71875 L 0.9375 -0.625 C 0.9375 -0.265625 0.84375 -0.265625 0.328125 -0.265625 L 0.328125 0 C 0.640625 -0.03125 1.09375 -0.03125 1.203125 -0.03125 C 1.3125 -0.03125 1.796875 -0.03125 2.0625 0 Z M 1.609375 -4.78125 C 1.609375 -5.046875 1.40625 -5.234375 1.171875 -5.234375 C 0.953125 -5.234375 0.734375 -5.046875 0.734375 -4.78125 C 0.734375 -4.5625 0.921875 -4.34375 1.171875 -4.34375 C 1.421875 -4.34375 1.609375 -4.5625 1.609375 -4.78125 Z M 1.609375 -4.78125 \"/>\n",
       "</symbol>\n",
       "<symbol overflow=\"visible\" id=\"glyph-1653391830009731-4-10\">\n",
       "<path style=\"stroke:none;\" d=\"M 4.46875 0 L 4.46875 -0.265625 C 3.953125 -0.265625 3.859375 -0.265625 3.859375 -0.625 L 3.859375 -2.40625 C 3.859375 -3.078125 3.5625 -3.5 2.734375 -3.5 C 1.9375 -3.5 1.578125 -2.9375 1.484375 -2.75 L 1.484375 -3.5 L 0.328125 -3.421875 L 0.328125 -3.15625 C 0.859375 -3.15625 0.9375 -3.109375 0.9375 -2.71875 L 0.9375 -0.625 C 0.9375 -0.265625 0.828125 -0.265625 0.328125 -0.265625 L 0.328125 0 C 0.671875 -0.03125 1.015625 -0.03125 1.234375 -0.03125 C 1.46875 -0.03125 1.796875 -0.03125 2.140625 0 L 2.140625 -0.265625 C 1.625 -0.265625 1.53125 -0.265625 1.53125 -0.625 L 1.53125 -2.0625 C 1.53125 -2.890625 2.171875 -3.28125 2.65625 -3.28125 C 3.140625 -3.28125 3.265625 -2.9375 3.265625 -2.4375 L 3.265625 -0.625 C 3.265625 -0.265625 3.171875 -0.265625 2.65625 -0.265625 L 2.65625 0 C 3 -0.03125 3.34375 -0.03125 3.5625 -0.03125 C 3.796875 -0.03125 4.125 -0.03125 4.46875 0 Z M 4.46875 0 \"/>\n",
       "</symbol>\n",
       "<symbol overflow=\"visible\" id=\"glyph-1653391830009731-4-11\">\n",
       "<path style=\"stroke:none;\" d=\"M 8.515625 -5.171875 L 8.515625 -5.4375 C 8.25 -5.40625 7.984375 -5.40625 7.734375 -5.40625 C 7.484375 -5.40625 7.25 -5.40625 6.8125 -5.4375 L 6.8125 -5.171875 C 7.25 -5.171875 7.46875 -4.96875 7.46875 -4.75 C 7.46875 -4.703125 7.46875 -4.6875 7.4375 -4.59375 L 6.171875 -0.921875 L 4.828125 -4.78125 C 4.796875 -4.890625 4.796875 -4.90625 4.796875 -4.921875 C 4.796875 -5.171875 5.203125 -5.171875 5.4375 -5.171875 L 5.4375 -5.4375 L 4.34375 -5.40625 C 4.046875 -5.40625 3.703125 -5.40625 3.34375 -5.4375 L 3.34375 -5.171875 C 3.765625 -5.171875 3.890625 -5.15625 3.984375 -5.03125 C 4.0625 -4.921875 4.203125 -4.453125 4.203125 -4.453125 L 4.171875 -4.34375 L 2.984375 -0.921875 L 1.640625 -4.78125 C 1.609375 -4.890625 1.609375 -4.921875 1.609375 -4.921875 C 1.609375 -5.171875 2.03125 -5.171875 2.265625 -5.171875 L 2.265625 -5.4375 L 1.15625 -5.40625 C 0.84375 -5.40625 0.515625 -5.40625 0.15625 -5.4375 L 0.15625 -5.171875 C 0.625 -5.171875 0.765625 -5.171875 0.875 -4.875 L 2.546875 -0.015625 C 2.578125 0.09375 2.609375 0.171875 2.75 0.171875 C 2.859375 0.171875 2.90625 0.09375 2.9375 -0.015625 L 4.328125 -4.078125 L 5.734375 -0.015625 C 5.765625 0.078125 5.796875 0.171875 5.921875 0.171875 C 6.046875 0.171875 6.078125 0.09375 6.125 -0.015625 L 7.71875 -4.625 C 7.828125 -4.96875 8.046875 -5.15625 8.515625 -5.171875 Z M 8.515625 -5.171875 \"/>\n",
       "</symbol>\n",
       "<symbol overflow=\"visible\" id=\"glyph-1653391830009731-4-12\">\n",
       "<path style=\"stroke:none;\" d=\"M 4.09375 -3.1875 C 4.09375 -3.328125 4 -3.59375 3.640625 -3.59375 C 3.5 -3.59375 3.125 -3.5625 2.765625 -3.234375 C 2.5625 -3.375 2.25 -3.5 1.875 -3.5 C 1.09375 -3.5 0.515625 -2.953125 0.515625 -2.34375 C 0.515625 -1.96875 0.71875 -1.6875 0.875 -1.53125 C 0.703125 -1.328125 0.640625 -1.078125 0.640625 -0.875 C 0.640625 -0.5625 0.796875 -0.3125 0.984375 -0.171875 C 0.5625 -0.0625 0.234375 0.25 0.234375 0.609375 C 0.234375 1.1875 1.0625 1.625 2.109375 1.625 C 3.109375 1.625 3.984375 1.21875 3.984375 0.59375 C 3.984375 0.171875 3.71875 -0.171875 3.453125 -0.296875 C 2.984375 -0.546875 2.59375 -0.546875 1.828125 -0.546875 L 1.375 -0.546875 C 1.125 -0.578125 0.9375 -0.78125 0.9375 -1.078125 C 0.9375 -1.265625 0.984375 -1.34375 1.03125 -1.40625 C 1.375 -1.203125 1.671875 -1.171875 1.875 -1.171875 C 2.65625 -1.171875 3.234375 -1.71875 3.234375 -2.34375 C 3.234375 -2.640625 3.109375 -2.890625 2.90625 -3.109375 C 3.015625 -3.203125 3.28125 -3.359375 3.671875 -3.375 C 3.640625 -3.34375 3.609375 -3.3125 3.609375 -3.1875 C 3.609375 -3.03125 3.703125 -2.9375 3.84375 -2.9375 C 3.953125 -2.9375 4.09375 -3 4.09375 -3.1875 Z M 2.609375 -2.34375 C 2.609375 -2.046875 2.5625 -1.84375 2.453125 -1.671875 C 2.28125 -1.453125 2.015625 -1.40625 1.875 -1.40625 C 1.140625 -1.40625 1.140625 -2.15625 1.140625 -2.34375 C 1.140625 -2.625 1.171875 -2.84375 1.296875 -3 C 1.4375 -3.1875 1.65625 -3.28125 1.875 -3.28125 C 2.609375 -3.28125 2.609375 -2.515625 2.609375 -2.34375 Z M 3.5 0.609375 C 3.5 1.03125 2.890625 1.40625 2.109375 1.40625 C 1.3125 1.40625 0.703125 1.03125 0.703125 0.609375 C 0.703125 0.4375 0.828125 -0.03125 1.484375 -0.03125 L 2.25 -0.03125 C 2.46875 -0.03125 3.5 -0.03125 3.5 0.609375 Z M 3.5 0.609375 \"/>\n",
       "</symbol>\n",
       "<symbol overflow=\"visible\" id=\"glyph-1653391830009731-4-13\">\n",
       "<path style=\"stroke:none;\" d=\"M 4.46875 0 L 4.46875 -0.265625 C 3.921875 -0.265625 3.859375 -0.3125 3.859375 -0.703125 L 3.859375 -3.5 L 2.65625 -3.421875 L 2.65625 -3.15625 C 3.203125 -3.15625 3.265625 -3.109375 3.265625 -2.71875 L 3.265625 -1.328125 C 3.265625 -0.640625 2.84375 -0.140625 2.25 -0.140625 C 1.5625 -0.140625 1.53125 -0.484375 1.53125 -0.875 L 1.53125 -3.5 L 0.328125 -3.421875 L 0.328125 -3.15625 C 0.9375 -3.15625 0.9375 -3.140625 0.9375 -2.421875 L 0.9375 -1.234375 C 0.9375 -0.65625 0.9375 0.078125 2.203125 0.078125 C 2.953125 0.078125 3.234375 -0.5 3.28125 -0.5625 L 3.28125 0.078125 Z M 4.46875 0 \"/>\n",
       "</symbol>\n",
       "<symbol overflow=\"visible\" id=\"glyph-1653391830009731-4-14\">\n",
       "<path style=\"stroke:none;\" d=\"M 4.28125 -3.171875 L 4.28125 -3.421875 C 4 -3.40625 3.984375 -3.40625 3.65625 -3.40625 C 3.59375 -3.40625 3.21875 -3.40625 2.96875 -3.421875 L 2.96875 -3.171875 C 3.25 -3.15625 3.3125 -2.96875 3.3125 -2.84375 C 3.3125 -2.765625 3.296875 -2.71875 3.265625 -2.640625 L 2.40625 -0.640625 L 1.46875 -2.796875 C 1.421875 -2.90625 1.421875 -2.96875 1.421875 -2.96875 C 1.421875 -3.171875 1.703125 -3.171875 1.84375 -3.171875 L 1.84375 -3.421875 C 1.5 -3.40625 1.125 -3.40625 0.984375 -3.40625 C 0.8125 -3.40625 0.421875 -3.40625 0.171875 -3.421875 L 0.171875 -3.171875 C 0.65625 -3.171875 0.703125 -3.125 0.8125 -2.84375 L 2.015625 -0.09375 C 2.0625 0.03125 2.109375 0.078125 2.234375 0.078125 C 2.34375 0.078125 2.390625 0.015625 2.4375 -0.078125 L 3.515625 -2.609375 C 3.71875 -3.046875 3.984375 -3.15625 4.28125 -3.171875 Z M 4.28125 -3.171875 \"/>\n",
       "</symbol>\n",
       "<symbol overflow=\"visible\" id=\"glyph-1653391830009731-4-15\">\n",
       "<path style=\"stroke:none;\" d=\"M 5.5 -1.453125 C 5.5 -2.09375 4.890625 -2.734375 3.890625 -2.84375 C 4.765625 -3.015625 5.265625 -3.546875 5.265625 -4.09375 C 5.265625 -4.796875 4.46875 -5.4375 3.40625 -5.4375 L 0.375 -5.4375 L 0.375 -5.171875 L 0.5625 -5.171875 C 1.171875 -5.171875 1.1875 -5.078125 1.1875 -4.78125 L 1.1875 -0.640625 C 1.1875 -0.34375 1.171875 -0.265625 0.5625 -0.265625 L 0.375 -0.265625 L 0.375 0 L 3.625 0 C 4.71875 0 5.5 -0.703125 5.5 -1.453125 Z M 4.5 -4.09375 C 4.5 -3.546875 4.015625 -2.9375 3.109375 -2.9375 L 1.859375 -2.9375 L 1.859375 -4.84375 C 1.859375 -5.109375 1.875 -5.171875 2.25 -5.171875 L 3.34375 -5.171875 C 4.140625 -5.171875 4.5 -4.5625 4.5 -4.09375 Z M 4.703125 -1.46875 C 4.703125 -0.8125 4.171875 -0.265625 3.359375 -0.265625 L 2.25 -0.265625 C 1.875 -0.265625 1.859375 -0.3125 1.859375 -0.59375 L 1.859375 -2.71875 L 3.46875 -2.71875 C 4.25 -2.71875 4.703125 -2.09375 4.703125 -1.46875 Z M 4.703125 -1.46875 \"/>\n",
       "</symbol>\n",
       "<symbol overflow=\"visible\" id=\"glyph-1653391830009731-4-16\">\n",
       "<path style=\"stroke:none;\" d=\"M 5.625 -1.859375 C 5.625 -1.9375 5.625 -2.015625 5.5 -2.015625 C 5.40625 -2.015625 5.390625 -1.96875 5.375 -1.890625 C 5.3125 -0.671875 4.328125 -0.09375 3.484375 -0.09375 C 2.8125 -0.09375 1.296875 -0.515625 1.296875 -2.71875 C 1.296875 -4.859375 2.734375 -5.34375 3.484375 -5.34375 C 4.234375 -5.34375 5.15625 -4.796875 5.359375 -3.4375 C 5.375 -3.375 5.375 -3.3125 5.484375 -3.3125 C 5.625 -3.3125 5.625 -3.375 5.625 -3.515625 L 5.625 -5.390625 C 5.625 -5.515625 5.625 -5.59375 5.515625 -5.59375 C 5.46875 -5.59375 5.453125 -5.59375 5.390625 -5.484375 L 4.984375 -4.90625 C 4.6875 -5.203125 4.171875 -5.59375 3.40625 -5.59375 C 1.8125 -5.59375 0.46875 -4.3125 0.46875 -2.71875 C 0.46875 -1.109375 1.796875 0.171875 3.40625 0.171875 C 4.75 0.171875 5.625 -0.890625 5.625 -1.859375 Z M 5.625 -1.859375 \"/>\n",
       "</symbol>\n",
       "<symbol overflow=\"visible\" id=\"glyph-1653391830009731-5-0\">\n",
       "<path style=\"stroke:none;\" d=\"\"/>\n",
       "</symbol>\n",
       "<symbol overflow=\"visible\" id=\"glyph-1653391830009731-5-1\">\n",
       "<path style=\"stroke:none;\" d=\"M 1.75 -3.171875 L 2.53125 -3.171875 C 2.6875 -3.171875 2.78125 -3.171875 2.78125 -3.3125 C 2.78125 -3.421875 2.6875 -3.421875 2.546875 -3.421875 L 1.828125 -3.421875 L 2.109375 -4.5625 C 2.140625 -4.671875 2.140625 -4.71875 2.140625 -4.71875 C 2.140625 -4.890625 2.015625 -4.96875 1.875 -4.96875 C 1.609375 -4.96875 1.546875 -4.75 1.46875 -4.390625 L 1.21875 -3.421875 L 0.453125 -3.421875 C 0.296875 -3.421875 0.203125 -3.421875 0.203125 -3.28125 C 0.203125 -3.171875 0.296875 -3.171875 0.4375 -3.171875 L 1.15625 -3.171875 L 0.671875 -1.25 C 0.625 -1.0625 0.5625 -0.78125 0.5625 -0.671875 C 0.5625 -0.1875 0.953125 0.078125 1.375 0.078125 C 2.21875 0.078125 2.703125 -1.046875 2.703125 -1.140625 C 2.703125 -1.21875 2.625 -1.234375 2.578125 -1.234375 C 2.5 -1.234375 2.484375 -1.203125 2.4375 -1.09375 C 2.28125 -0.703125 1.875 -0.140625 1.390625 -0.140625 C 1.21875 -0.140625 1.125 -0.25 1.125 -0.515625 C 1.125 -0.671875 1.15625 -0.75 1.171875 -0.859375 Z M 1.75 -3.171875 \"/>\n",
       "</symbol>\n",
       "<symbol overflow=\"visible\" id=\"glyph-1653391830009731-6-0\">\n",
       "<path style=\"stroke:none;\" d=\"\"/>\n",
       "</symbol>\n",
       "<symbol overflow=\"visible\" id=\"glyph-1653391830009731-6-1\">\n",
       "<path style=\"stroke:none;\" d=\"M 3.28125 -1.90625 C 3.28125 -2.34375 3.28125 -3.96875 1.828125 -3.96875 C 0.359375 -3.96875 0.359375 -2.34375 0.359375 -1.90625 C 0.359375 -1.46875 0.359375 0.125 1.828125 0.125 C 3.28125 0.125 3.28125 -1.46875 3.28125 -1.90625 Z M 1.828125 -0.0625 C 1.5625 -0.0625 1.15625 -0.1875 1.015625 -0.6875 C 0.921875 -1.03125 0.921875 -1.609375 0.921875 -1.984375 C 0.921875 -2.375 0.921875 -2.84375 1.015625 -3.15625 C 1.15625 -3.703125 1.609375 -3.78125 1.828125 -3.78125 C 2.09375 -3.78125 2.484375 -3.640625 2.625 -3.1875 C 2.703125 -2.875 2.71875 -2.4375 2.71875 -1.984375 C 2.71875 -1.59375 2.71875 -1 2.609375 -0.65625 C 2.453125 -0.140625 2.015625 -0.0625 1.828125 -0.0625 Z M 1.828125 -0.0625 \"/>\n",
       "</symbol>\n",
       "<symbol overflow=\"visible\" id=\"glyph-1653391830009731-6-2\">\n",
       "<path style=\"stroke:none;\" d=\"M 2.140625 -3.796875 C 2.140625 -3.96875 2.125 -3.96875 1.9375 -3.96875 C 1.546875 -3.59375 0.9375 -3.59375 0.71875 -3.59375 L 0.71875 -3.359375 C 0.875 -3.359375 1.265625 -3.359375 1.625 -3.515625 L 1.625 -0.5 C 1.625 -0.3125 1.625 -0.234375 1.015625 -0.234375 L 0.765625 -0.234375 L 0.765625 0 C 1.09375 -0.03125 1.546875 -0.03125 1.890625 -0.03125 C 2.21875 -0.03125 2.6875 -0.03125 3.015625 0 L 3.015625 -0.234375 L 2.75 -0.234375 C 2.140625 -0.234375 2.140625 -0.3125 2.140625 -0.5 Z M 2.140625 -3.796875 \"/>\n",
       "</symbol>\n",
       "</g>\n",
       "<clipPath id=\"clip-1653391830009731-1\">\n",
       "  <path d=\"M 0.671875 0 L 705.152344 0 L 705.152344 364.515625 L 0.671875 364.515625 Z M 0.671875 0 \"/>\n",
       "</clipPath>\n",
       "<clipPath id=\"clip-1653391830009731-2\">\n",
       "  <path d=\"M 32.226562 58.824219 L 341.101562 58.824219 L 341.101562 331.773438 L 32.226562 331.773438 Z M 32.226562 58.824219 \"/>\n",
       "</clipPath>\n",
       "<clipPath id=\"clip-1653391830009731-3\">\n",
       "  <path d=\"M 38 117 L 341.101562 117 L 341.101562 119 L 38 119 Z M 38 117 \"/>\n",
       "</clipPath>\n",
       "<clipPath id=\"clip-1653391830009731-4\">\n",
       "  <path d=\"M 36 141 L 341.101562 141 L 341.101562 143 L 36 143 Z M 36 141 \"/>\n",
       "</clipPath>\n",
       "<clipPath id=\"clip-1653391830009731-5\">\n",
       "  <path d=\"M 60 58.824219 L 62 58.824219 L 62 331.773438 L 60 331.773438 Z M 60 58.824219 \"/>\n",
       "</clipPath>\n",
       "<clipPath id=\"clip-1653391830009731-6\">\n",
       "  <path d=\"M 68 58.824219 L 70 58.824219 L 70 331.773438 L 68 331.773438 Z M 68 58.824219 \"/>\n",
       "</clipPath>\n",
       "<clipPath id=\"clip-1653391830009731-7\">\n",
       "  <path d=\"M 556 58.824219 L 700.371094 58.824219 L 700.371094 316 L 556 316 Z M 556 58.824219 \"/>\n",
       "</clipPath>\n",
       "<clipPath id=\"clip-1653391830009731-8\">\n",
       "  <path d=\"M 527 58.824219 L 670 58.824219 L 670 316 L 527 316 Z M 527 58.824219 \"/>\n",
       "</clipPath>\n",
       "<clipPath id=\"clip-1653391830009731-9\">\n",
       "  <path d=\"M 398 234 L 700.371094 234 L 700.371094 331.773438 L 398 331.773438 Z M 398 234 \"/>\n",
       "</clipPath>\n",
       "<clipPath id=\"clip-1653391830009731-10\">\n",
       "  <path d=\"M 398 211 L 700.371094 211 L 700.371094 331.773438 L 398 331.773438 Z M 398 211 \"/>\n",
       "</clipPath>\n",
       "<clipPath id=\"clip-1653391830009731-11\">\n",
       "  <path d=\"M 645 58.824219 L 647 58.824219 L 647 331.773438 L 645 331.773438 Z M 645 58.824219 \"/>\n",
       "</clipPath>\n",
       "<clipPath id=\"clip-1653391830009731-12\">\n",
       "  <path d=\"M 602 58.824219 L 604 58.824219 L 604 331.773438 L 602 331.773438 Z M 602 58.824219 \"/>\n",
       "</clipPath>\n",
       "</defs>\n",
       "<g id=\"surface1\">\n",
       "<g clip-path=\"url(#clip-1653391830009731-1)\" clip-rule=\"nonzero\">\n",
       "<path style=\" stroke:none;fill-rule:nonzero;fill:rgb(100%,100%,100%);fill-opacity:1;\" d=\"M 0.671875 364.515625 L 707.792969 364.515625 L 707.792969 -1.367188 L 0.671875 -1.367188 Z M 0.671875 364.515625 \"/>\n",
       "<path style=\" stroke:none;fill-rule:nonzero;fill:rgb(100%,100%,100%);fill-opacity:1;\" d=\"M 0.671875 364.523438 L 0.671875 0 L 705.160156 0 L 705.160156 364.523438 Z M 0.671875 364.523438 \"/>\n",
       "</g>\n",
       "<path style=\" stroke:none;fill-rule:nonzero;fill:rgb(100%,100%,100%);fill-opacity:1;\" d=\"M 32.226562 331.773438 L 341.101562 331.773438 L 341.101562 58.824219 L 32.226562 58.824219 Z M 32.226562 331.773438 \"/>\n",
       "<path style=\"fill:none;stroke-width:0.49814;stroke-linecap:butt;stroke-linejoin:miter;stroke:rgb(0%,0%,0%);stroke-opacity:0.1;stroke-miterlimit:10;\" d=\"M -0.000479346 -0.00141559 L -0.000479346 273.502283 \" transform=\"matrix(0.997973,0,0,-0.997973,32.227041,331.772025)\"/>\n",
       "<path style=\"fill:none;stroke-width:0.49814;stroke-linecap:butt;stroke-linejoin:miter;stroke:rgb(0%,0%,0%);stroke-opacity:0.1;stroke-miterlimit:10;\" d=\"M -0.000479346 -0.00141559 L 309.501982 -0.00141559 \" transform=\"matrix(0.997973,0,0,-0.997973,32.227041,331.772025)\"/>\n",
       "<path style=\"fill:none;stroke-width:0.19925;stroke-linecap:butt;stroke-linejoin:miter;stroke:rgb(0%,0%,0%);stroke-opacity:1;stroke-miterlimit:10;\" d=\"M -0.000479346 -2.126818 L -0.000479346 2.127901 \" transform=\"matrix(0.997973,0,0,-0.997973,32.227041,331.772025)\"/>\n",
       "<path style=\"fill:none;stroke-width:0.19925;stroke-linecap:butt;stroke-linejoin:miter;stroke:rgb(0%,0%,0%);stroke-opacity:1;stroke-miterlimit:10;\" d=\"M -2.125882 -0.00141559 L 2.124923 -0.00141559 \" transform=\"matrix(0.997973,0,0,-0.997973,32.227041,331.772025)\"/>\n",
       "<path style=\"fill:none;stroke-width:0.99628;stroke-linecap:butt;stroke-linejoin:miter;stroke:rgb(0%,0%,0%);stroke-opacity:1;stroke-miterlimit:10;\" d=\"M -0.000479346 -0.00141559 L 306.613313 -0.00141559 \" transform=\"matrix(0.997973,0,0,-0.997973,32.227041,331.772025)\"/>\n",
       "<path style=\" stroke:none;fill-rule:nonzero;fill:rgb(0%,0%,0%);fill-opacity:1;\" d=\"M 341.101562 331.773438 L 336.488281 329.464844 L 338.21875 331.773438 L 336.488281 334.078125 \"/>\n",
       "<path style=\"fill:none;stroke-width:0.99628;stroke-linecap:butt;stroke-linejoin:miter;stroke:rgb(0%,0%,0%);stroke-opacity:1;stroke-miterlimit:10;\" d=\"M -0.000479346 -0.00141559 L -0.000479346 270.6097 \" transform=\"matrix(0.997973,0,0,-0.997973,32.227041,331.772025)\"/>\n",
       "<path style=\" stroke:none;fill-rule:nonzero;fill:rgb(0%,0%,0%);fill-opacity:1;\" d=\"M 32.226562 58.824219 L 29.921875 63.4375 L 32.226562 61.710938 L 34.535156 63.4375 \"/>\n",
       "<g style=\"fill:rgb(0%,0%,0%);fill-opacity:1;\">\n",
       "  <use xlink:href=\"#glyph-1653391830009731-0-1\" x=\"30.114333\" y=\"342.532166\"/>\n",
       "</g>\n",
       "<g style=\"fill:rgb(0%,0%,0%);fill-opacity:1;\">\n",
       "  <use xlink:href=\"#glyph-1653391830009731-0-1\" x=\"22.367071\" y=\"334.334819\"/>\n",
       "</g>\n",
       "<g clip-path=\"url(#clip-1653391830009731-2)\" clip-rule=\"nonzero\">\n",
       "<path style=\"fill:none;stroke-width:0.99628;stroke-linecap:butt;stroke-linejoin:miter;stroke:rgb(0%,0%,100%);stroke-opacity:1;stroke-miterlimit:10;\" d=\"M 416.879828 0.229521 L 412.11235 1.599486 L 407.372272 2.973365 L 402.671335 4.347244 L 398.001712 5.721123 L 393.363402 7.095002 L 388.76032 8.468881 L 384.192466 9.838846 L 379.655925 11.212725 L 375.154612 12.586604 L 370.684613 13.960483 L 366.249841 15.334362 L 361.846382 16.708242 L 357.478151 18.078206 L 353.145148 19.452085 L 348.843459 20.825964 L 344.576997 22.199844 L 340.341848 23.573723 L 336.138013 24.947602 L 331.97332 26.317566 L 327.836026 27.691446 L 323.73396 29.065325 L 319.667121 30.439204 L 315.631596 31.813083 L 311.631299 33.186962 L 307.658401 34.556927 L 303.724644 35.930806 L 299.822202 37.304685 L 295.951072 38.678564 L 292.111257 40.052443 L 288.306668 41.426322 L 284.533394 42.796287 L 280.795347 44.170166 L 277.088613 45.544045 L 273.413193 46.917924 L 269.769087 48.291803 L 266.160208 49.665682 L 262.578728 51.035647 L 259.032476 52.409526 L 255.521452 53.783405 L 252.037827 55.157284 L 248.58943 56.531163 L 245.168432 57.905042 L 241.782662 59.275007 L 238.428205 60.648886 L 235.101147 62.022765 L 231.809318 63.396644 L 228.548801 64.770523 L 225.319598 66.144402 L 222.117795 67.514367 L 218.951219 68.888246 L 215.812042 70.262125 L 212.704179 71.636004 L 209.631544 73.009883 L 206.582393 74.383762 L 203.568471 75.753727 L 200.581947 77.127606 L 197.626737 78.501485 L 194.702841 79.875364 L 191.806344 81.249243 L 188.94116 82.623122 L 186.10729 83.993087 L 183.300819 85.366966 L 180.521747 86.740845 L 177.773989 88.114724 L 175.057545 89.488603 L 172.368499 90.862482 L 169.706853 92.232447 L 167.072607 93.606326 L 164.469673 94.980205 L 161.894139 96.354084 L 159.349919 97.727963 L 156.829184 99.101842 L 154.339762 100.471807 L 151.873825 101.845686 L 149.439202 103.219565 L 147.031978 104.593444 L 144.652153 105.967323 L 142.295814 107.341203 L 139.970788 108.711167 L 137.673161 110.085046 L 135.399019 111.458925 L 133.152277 112.832804 L 130.932934 114.206684 L 128.74099 115.580563 L 126.572531 116.950527 L 124.431472 118.324406 L 122.313898 119.698286 L 120.223723 121.072165 L 118.160947 122.446044 L 116.121656 123.819923 L 114.105851 125.193802 L 112.117445 126.563767 L 110.152524 127.937646 L 108.211088 129.311525 L 106.297051 130.685404 L 104.4065 132.059283 L 102.539433 133.433162 L 100.695852 134.803127 L 98.875756 136.177006 L 97.083059 137.550885 L 95.309933 138.924764 L 93.560292 140.298643 L 91.834137 141.672522 L 90.131466 143.042487 L 88.45228 144.416366 L 86.792666 145.790245 L 85.156536 147.164124 L 83.543892 148.538003 L 81.954733 149.911882 L 80.385144 151.281847 L 78.835127 152.655726 L 77.312509 154.029605 L 75.805548 155.403484 L 74.322071 156.777363 L 72.858166 158.151242 L 71.417746 159.521207 L 69.996897 160.895086 L 68.595618 162.268965 L 67.213911 163.642844 L 65.855689 165.016723 L 64.513123 166.390602 L 63.194043 167.760567 L 61.890619 169.134446 L 60.61068 170.508325 L 59.346398 171.882204 L 58.105602 173.256083 L 56.880462 174.629962 L 55.670978 175.999927 L 54.48498 177.373806 L 53.314639 178.747685 L 52.163868 180.121564 L 51.032669 181.495443 L 49.917126 182.869322 L 48.81724 184.239287 L 47.736925 185.613166 L 46.672266 186.987045 L 45.627179 188.360924 L 44.597748 189.734803 L 43.583974 191.108682 L 42.589771 192.478647 L 41.611225 193.852526 L 40.644421 195.226405 L 39.697188 196.600284 L 38.765612 197.974163 L 37.849693 199.348043 L 36.94943 200.718007 L 36.064824 202.091886 L 35.195875 203.465765 L 34.342583 204.839645 L 33.501033 206.213524 L 32.67514 207.587403 L 31.864903 208.957367 L 31.070324 210.331247 L 30.287487 211.705126 L 29.516392 213.079005 L 28.764869 214.452884 L 28.021173 215.826763 L 27.297049 217.196728 L 26.580753 218.570607 L 25.880114 219.944486 L 25.195132 221.318365 L 24.517977 222.692244 L 23.85648 224.066123 L 23.206725 225.436088 L 22.568713 226.809967 L 21.946358 228.183846 L 21.331831 229.557725 L 20.73296 230.931604 L 20.141918 232.305483 L 19.566533 233.675448 L 18.998976 235.049327 L 18.447076 236.423206 L 17.903004 237.797085 L 17.370675 239.170964 L 16.850088 240.544843 L 16.33733 241.914808 L 15.836314 243.288687 L 15.347041 244.662566 L 14.869511 246.036445 L 14.399808 247.410324 L 13.941849 248.784203 L 13.491717 250.154168 L 13.053329 251.528047 L 12.622768 252.901926 L 12.20395 254.275805 L 11.792961 255.649684 L 11.3898 257.023563 L 10.998381 258.393528 L 10.614791 259.767407 L 10.239029 261.141286 L 9.871096 262.515165 L 9.514905 263.889044 L 9.166543 265.262923 L 8.822094 266.632888 L 8.489389 268.006767 L 8.164511 269.380646 L 7.847462 270.754525 L 7.542156 272.128404 L 7.240763 273.502283 \" transform=\"matrix(0.997973,0,0,-0.997973,32.227041,331.772025)\"/>\n",
       "<path style=\"fill:none;stroke-width:0.99628;stroke-linecap:butt;stroke-linejoin:miter;stroke:rgb(0%,0%,100%);stroke-opacity:1;stroke-dasharray:2.98883,2.98883;stroke-miterlimit:10;\" d=\"M 386.877597 0.229521 L 382.329314 1.599486 L 377.812344 2.973365 L 373.330602 4.347244 L 368.884087 5.721123 L 364.464972 7.095002 L 360.084999 8.468881 L 355.732425 9.838846 L 351.415078 11.212725 L 347.13296 12.586604 L 342.882154 13.960483 L 338.662663 15.334362 L 334.474484 16.708242 L 330.321534 18.078206 L 326.203811 19.452085 L 322.113487 20.825964 L 318.058391 22.199844 L 314.038523 23.573723 L 310.046054 24.947602 L 306.088812 26.317566 L 302.162884 27.691446 L 298.272184 29.065325 L 294.412798 30.439204 L 290.584724 31.813083 L 286.787965 33.186962 L 283.026432 34.556927 L 279.296214 35.930806 L 275.597309 37.304685 L 271.929717 38.678564 L 268.293439 40.052443 L 264.692388 41.426322 L 261.118737 42.796287 L 257.580314 44.170166 L 254.073204 45.544045 L 250.597407 46.917924 L 247.152924 48.291803 L 243.739754 49.665682 L 240.357898 51.035647 L 237.003442 52.409526 L 233.684212 53.783405 L 230.396297 55.157284 L 227.139695 56.531163 L 223.914406 57.905042 L 220.716516 59.275007 L 217.54994 60.648886 L 214.418592 62.022765 L 211.310729 63.396644 L 208.238094 64.770523 L 205.192857 66.144402 L 202.182849 67.514367 L 199.196326 68.888246 L 196.24503 70.262125 L 193.321133 71.636004 L 190.424636 73.009883 L 187.559453 74.383762 L 184.725582 75.753727 L 181.919112 77.127606 L 179.143954 78.501485 L 176.396196 79.875364 L 173.675837 81.249243 L 170.986792 82.623122 L 168.325146 83.993087 L 165.694813 85.366966 L 163.087966 86.740845 L 160.512432 88.114724 L 157.964297 89.488603 L 155.443562 90.862482 L 152.95414 92.232447 L 150.488203 93.606326 L 148.05358 94.980205 L 145.642442 96.354084 L 143.258703 97.727963 L 140.906278 99.101842 L 138.577338 100.471807 L 136.275797 101.845686 L 134.001655 103.219565 L 131.754913 104.593444 L 129.531655 105.967323 L 127.335797 107.341203 L 125.167339 108.711167 L 123.026279 110.085046 L 120.908705 111.458925 L 118.814616 112.832804 L 116.747926 114.206684 L 114.708636 115.580563 L 112.69283 116.950527 L 110.70051 118.324406 L 108.731675 119.698286 L 106.790239 121.072165 L 104.876202 122.446044 L 102.981736 123.819923 L 101.110756 125.193802 L 99.267174 126.563767 L 97.447078 127.937646 L 95.650467 129.311525 L 93.873427 130.685404 L 92.123786 132.059283 L 90.397631 133.433162 L 88.691046 134.803127 L 87.01186 136.177006 L 85.352246 137.550885 L 83.716116 138.924764 L 82.099558 140.298643 L 80.506484 141.672522 L 78.936896 143.042487 L 77.386879 144.416366 L 75.860346 145.790245 L 74.353385 147.164124 L 72.869909 148.538003 L 71.406003 149.911882 L 69.965583 151.281847 L 68.54082 152.655726 L 67.139541 154.029605 L 65.761748 155.403484 L 64.399612 156.777363 L 63.057046 158.151242 L 61.737966 159.521207 L 60.434542 160.895086 L 59.154603 162.268965 L 57.890321 163.642844 L 56.649525 165.016723 L 55.424385 166.390602 L 54.218816 167.760567 L 53.028903 169.134446 L 51.862476 170.508325 L 50.711706 171.882204 L 49.580506 173.256083 L 48.464963 174.629962 L 47.368991 175.999927 L 46.288676 177.373806 L 45.227932 178.747685 L 44.182844 180.121564 L 43.153414 181.495443 L 42.143554 182.869322 L 41.149351 184.239287 L 40.170805 185.613166 L 39.211829 186.987045 L 38.264596 188.360924 L 37.336934 189.734803 L 36.424929 191.108682 L 35.524667 192.478647 L 34.643975 193.852526 L 33.77894 195.226405 L 32.925648 196.600284 L 32.088012 197.974163 L 31.266033 199.348043 L 30.459711 200.718007 L 29.669045 202.091886 L 28.890122 203.465765 L 28.126856 204.839645 L 27.375333 206.213524 L 26.639466 207.587403 L 25.915342 208.957367 L 25.206874 210.331247 L 24.510149 211.705126 L 23.829081 213.079005 L 23.159755 214.452884 L 22.502172 215.826763 L 21.856331 217.196728 L 21.226148 218.570607 L 20.607706 219.944486 L 20.001008 221.318365 L 19.406051 222.692244 L 18.822838 224.066123 L 18.251367 225.436088 L 17.691638 226.809967 L 17.143652 228.183846 L 16.607409 229.557725 L 16.082908 230.931604 L 15.57015 232.305483 L 15.06522 233.675448 L 14.572033 235.049327 L 14.090588 236.423206 L 13.616971 237.797085 L 13.155097 239.170964 L 12.704966 240.544843 L 12.262663 241.914808 L 11.832103 243.288687 L 11.413285 244.662566 L 10.998381 246.036445 L 10.59522 247.410324 L 10.203802 248.784203 L 9.820212 250.154168 L 9.44445 251.528047 L 9.080431 252.901926 L 8.72424 254.275805 L 8.375877 255.649684 L 8.035343 257.023563 L 7.702637 258.393528 L 7.381674 259.767407 L 7.064625 261.141286 L 6.759319 262.515165 L 6.457926 263.889044 L 6.168277 265.262923 L 5.886455 266.632888 L 5.608548 268.006767 L 5.342384 269.380646 L 5.080133 270.754525 L 4.825711 272.128404 L 4.583032 273.502283 \" transform=\"matrix(0.997973,0,0,-0.997973,32.227041,331.772025)\"/>\n",
       "</g>\n",
       "<g clip-path=\"url(#clip-1653391830009731-3)\" clip-rule=\"nonzero\">\n",
       "<path style=\"fill:none;stroke-width:0.99628;stroke-linecap:butt;stroke-linejoin:miter;stroke:rgb(100%,0%,0%);stroke-opacity:1;stroke-miterlimit:10;\" d=\"M 416.879828 214.527253 L 7.240763 214.527253 \" transform=\"matrix(0.997973,0,0,-0.997973,32.227041,331.772025)\"/>\n",
       "</g>\n",
       "<g clip-path=\"url(#clip-1653391830009731-4)\" clip-rule=\"nonzero\">\n",
       "<path style=\"fill:none;stroke-width:0.99628;stroke-linecap:butt;stroke-linejoin:miter;stroke:rgb(100%,0%,0%);stroke-opacity:1;stroke-dasharray:2.98883,2.98883;stroke-miterlimit:10;\" d=\"M 386.877597 190.501984 L 4.583032 190.501984 \" transform=\"matrix(0.997973,0,0,-0.997973,32.227041,331.772025)\"/>\n",
       "</g>\n",
       "<g clip-path=\"url(#clip-1653391830009731-5)\" clip-rule=\"nonzero\">\n",
       "<path style=\"fill:none;stroke-width:0.99628;stroke-linecap:butt;stroke-linejoin:miter;stroke:rgb(0%,0%,0%);stroke-opacity:1;stroke-miterlimit:10;\" d=\"M 28.721812 -273.5012 L 28.721812 547.002068 \" transform=\"matrix(0.997973,0,0,-0.997973,32.227041,331.772025)\"/>\n",
       "</g>\n",
       "<g clip-path=\"url(#clip-1653391830009731-6)\" clip-rule=\"nonzero\">\n",
       "<path style=\"fill:none;stroke-width:0.99628;stroke-linecap:butt;stroke-linejoin:miter;stroke:rgb(0%,0%,0%);stroke-opacity:1;stroke-dasharray:2.98883,2.98883;stroke-miterlimit:10;\" d=\"M 36.824176 -273.5012 L 36.824176 547.002068 \" transform=\"matrix(0.997973,0,0,-0.997973,32.227041,331.772025)\"/>\n",
       "</g>\n",
       "<path style=\"fill:none;stroke-width:0.99628;stroke-linecap:butt;stroke-linejoin:miter;stroke:rgb(0%,0%,0%);stroke-opacity:1;stroke-miterlimit:10;\" d=\"M 28.721812 11.396692 L 33.935507 11.396692 \" transform=\"matrix(0.997973,0,0,-0.997973,32.227041,331.772025)\"/>\n",
       "<path style=\" stroke:none;fill-rule:nonzero;fill:rgb(0%,0%,0%);fill-opacity:1;\" d=\"M 68.976562 320.398438 L 64.363281 318.09375 L 66.09375 320.398438 L 64.363281 322.707031 \"/>\n",
       "<path style=\"fill:none;stroke-width:0.99628;stroke-linecap:butt;stroke-linejoin:miter;stroke:rgb(0%,0%,100%);stroke-opacity:1;stroke-miterlimit:10;\" d=\"M 58.344367 170.938886 L 58.344367 166.989473 \" transform=\"matrix(0.997973,0,0,-0.997973,32.227041,331.772025)\"/>\n",
       "<path style=\" stroke:none;fill-rule:nonzero;fill:rgb(0%,0%,100%);fill-opacity:1;\" d=\"M 90.453125 168.003906 L 92.761719 163.390625 L 90.453125 165.121094 L 88.148438 163.390625 \"/>\n",
       "<path style=\"fill:none;stroke-width:0.99628;stroke-linecap:butt;stroke-linejoin:miter;stroke:rgb(100%,0%,0%);stroke-opacity:1;stroke-miterlimit:10;\" d=\"M 8.336735 214.527253 L 8.336735 193.390652 \" transform=\"matrix(0.997973,0,0,-0.997973,32.227041,331.772025)\"/>\n",
       "<path style=\" stroke:none;fill-rule:nonzero;fill:rgb(100%,0%,0%);fill-opacity:1;\" d=\"M 40.546875 141.65625 L 42.851562 137.042969 L 40.546875 138.773438 L 38.238281 137.042969 \"/>\n",
       "<g style=\"fill:rgb(0%,0%,0%);fill-opacity:1;\">\n",
       "  <use xlink:href=\"#glyph-1653391830009731-1-1\" x=\"183.955813\" y=\"356.91894\"/>\n",
       "</g>\n",
       "<g style=\"fill:rgb(0%,0%,0%);fill-opacity:1;\">\n",
       "  <use xlink:href=\"#glyph-1653391830009731-2-1\" x=\"15.540938\" y=\"197.114573\"/>\n",
       "</g>\n",
       "<g style=\"fill:rgb(0%,0%,0%);fill-opacity:1;\">\n",
       "  <use xlink:href=\"#glyph-1653391830009731-3-1\" x=\"15.540938\" y=\"199.344044\"/>\n",
       "</g>\n",
       "<path style=\"fill-rule:nonzero;fill:rgb(100%,100%,100%);fill-opacity:1;stroke-width:0.99628;stroke-linecap:butt;stroke-linejoin:miter;stroke:rgb(0%,0%,0%);stroke-opacity:1;stroke-miterlimit:10;\" d=\"M 112.880711 279.471416 L 196.620792 279.471416 L 196.620792 327.322331 L 112.880711 327.322331 Z M 112.880711 279.471416 \" transform=\"matrix(0.997973,0,0,-0.997973,32.227041,331.772025)\"/>\n",
       "<path style=\"fill:none;stroke-width:0.99628;stroke-linecap:butt;stroke-linejoin:miter;stroke:rgb(0%,0%,100%);stroke-opacity:1;stroke-miterlimit:10;\" d=\"M 0.00125009 0.00175236 L 17.008385 0.00175236 \" transform=\"matrix(0.997973,0,0,-0.997973,148.358127,12.599405)\"/>\n",
       "<g style=\"fill:rgb(0%,0%,0%);fill-opacity:1;\">\n",
       "  <use xlink:href=\"#glyph-1653391830009731-4-1\" x=\"167.817597\" y=\"14.613314\"/>\n",
       "  <use xlink:href=\"#glyph-1653391830009731-4-2\" x=\"172.160454\" y=\"14.613314\"/>\n",
       "  <use xlink:href=\"#glyph-1653391830009731-4-3\" x=\"176.384003\" y=\"14.613314\"/>\n",
       "</g>\n",
       "<g style=\"fill:rgb(0%,0%,0%);fill-opacity:1;\">\n",
       "  <use xlink:href=\"#glyph-1653391830009731-4-4\" x=\"183.892534\" y=\"14.613314\"/>\n",
       "  <use xlink:href=\"#glyph-1653391830009731-4-5\" x=\"187.646799\" y=\"14.613314\"/>\n",
       "  <use xlink:href=\"#glyph-1653391830009731-4-6\" x=\"190.939735\" y=\"14.613314\"/>\n",
       "  <use xlink:href=\"#glyph-1653391830009731-4-7\" x=\"194.694001\" y=\"14.613314\"/>\n",
       "  <use xlink:href=\"#glyph-1653391830009731-4-8\" x=\"198.917549\" y=\"14.613314\"/>\n",
       "  <use xlink:href=\"#glyph-1653391830009731-4-9\" x=\"202.202531\" y=\"14.613314\"/>\n",
       "  <use xlink:href=\"#glyph-1653391830009731-4-2\" x=\"204.548947\" y=\"14.613314\"/>\n",
       "  <use xlink:href=\"#glyph-1653391830009731-4-10\" x=\"208.772496\" y=\"14.613314\"/>\n",
       "</g>\n",
       "<g style=\"fill:rgb(0%,0%,0%);fill-opacity:1;\">\n",
       "  <use xlink:href=\"#glyph-1653391830009731-5-1\" x=\"216.281146\" y=\"14.613314\"/>\n",
       "</g>\n",
       "<g style=\"fill:rgb(0%,0%,0%);fill-opacity:1;\">\n",
       "  <use xlink:href=\"#glyph-1653391830009731-6-1\" x=\"219.332946\" y=\"15.71807\"/>\n",
       "</g>\n",
       "<path style=\"fill:none;stroke-width:0.99628;stroke-linecap:butt;stroke-linejoin:miter;stroke:rgb(0%,0%,100%);stroke-opacity:1;stroke-dasharray:2.98883,2.98883;stroke-miterlimit:10;\" d=\"M 0.00125009 0.00114906 L 17.008385 0.00114906 \" transform=\"matrix(0.997973,0,0,-0.997973,148.358127,23.587084)\"/>\n",
       "<g style=\"fill:rgb(0%,0%,0%);fill-opacity:1;\">\n",
       "  <use xlink:href=\"#glyph-1653391830009731-4-1\" x=\"167.817597\" y=\"25.601991\"/>\n",
       "  <use xlink:href=\"#glyph-1653391830009731-4-2\" x=\"172.160454\" y=\"25.601991\"/>\n",
       "  <use xlink:href=\"#glyph-1653391830009731-4-3\" x=\"176.384003\" y=\"25.601991\"/>\n",
       "</g>\n",
       "<g style=\"fill:rgb(0%,0%,0%);fill-opacity:1;\">\n",
       "  <use xlink:href=\"#glyph-1653391830009731-4-4\" x=\"183.892534\" y=\"25.601991\"/>\n",
       "  <use xlink:href=\"#glyph-1653391830009731-4-5\" x=\"187.646799\" y=\"25.601991\"/>\n",
       "  <use xlink:href=\"#glyph-1653391830009731-4-6\" x=\"190.939735\" y=\"25.601991\"/>\n",
       "  <use xlink:href=\"#glyph-1653391830009731-4-7\" x=\"194.694001\" y=\"25.601991\"/>\n",
       "  <use xlink:href=\"#glyph-1653391830009731-4-8\" x=\"198.917549\" y=\"25.601991\"/>\n",
       "  <use xlink:href=\"#glyph-1653391830009731-4-9\" x=\"202.202531\" y=\"25.601991\"/>\n",
       "  <use xlink:href=\"#glyph-1653391830009731-4-2\" x=\"204.548947\" y=\"25.601991\"/>\n",
       "  <use xlink:href=\"#glyph-1653391830009731-4-10\" x=\"208.772496\" y=\"25.601991\"/>\n",
       "</g>\n",
       "<g style=\"fill:rgb(0%,0%,0%);fill-opacity:1;\">\n",
       "  <use xlink:href=\"#glyph-1653391830009731-5-1\" x=\"216.281146\" y=\"25.601991\"/>\n",
       "</g>\n",
       "<g style=\"fill:rgb(0%,0%,0%);fill-opacity:1;\">\n",
       "  <use xlink:href=\"#glyph-1653391830009731-6-2\" x=\"219.332946\" y=\"26.706747\"/>\n",
       "</g>\n",
       "<path style=\"fill:none;stroke-width:0.99628;stroke-linecap:butt;stroke-linejoin:miter;stroke:rgb(100%,0%,0%);stroke-opacity:1;stroke-miterlimit:10;\" d=\"M 0.00125009 0.00060181 L 17.008385 0.00060181 \" transform=\"matrix(0.997973,0,0,-0.997973,148.358127,34.531851)\"/>\n",
       "<g style=\"fill:rgb(0%,0%,0%);fill-opacity:1;\">\n",
       "  <use xlink:href=\"#glyph-1653391830009731-4-11\" x=\"169.288608\" y=\"36.502847\"/>\n",
       "</g>\n",
       "<g style=\"fill:rgb(0%,0%,0%);fill-opacity:1;\">\n",
       "  <use xlink:href=\"#glyph-1653391830009731-4-7\" x=\"177.258468\" y=\"36.502847\"/>\n",
       "  <use xlink:href=\"#glyph-1653391830009731-4-12\" x=\"181.482017\" y=\"36.502847\"/>\n",
       "  <use xlink:href=\"#glyph-1653391830009731-4-6\" x=\"185.705565\" y=\"36.502847\"/>\n",
       "</g>\n",
       "<g style=\"fill:rgb(0%,0%,0%);fill-opacity:1;\">\n",
       "  <use xlink:href=\"#glyph-1653391830009731-4-4\" x=\"192.27553\" y=\"36.502847\"/>\n",
       "  <use xlink:href=\"#glyph-1653391830009731-4-13\" x=\"196.029795\" y=\"36.502847\"/>\n",
       "  <use xlink:href=\"#glyph-1653391830009731-4-5\" x=\"200.722627\" y=\"36.502847\"/>\n",
       "  <use xlink:href=\"#glyph-1653391830009731-4-14\" x=\"204.015563\" y=\"36.502847\"/>\n",
       "</g>\n",
       "<g style=\"fill:rgb(0%,0%,0%);fill-opacity:1;\">\n",
       "  <use xlink:href=\"#glyph-1653391830009731-4-6\" x=\"208.239111\" y=\"36.502847\"/>\n",
       "</g>\n",
       "<g style=\"fill:rgb(0%,0%,0%);fill-opacity:1;\">\n",
       "  <use xlink:href=\"#glyph-1653391830009731-5-1\" x=\"214.809136\" y=\"36.502847\"/>\n",
       "</g>\n",
       "<g style=\"fill:rgb(0%,0%,0%);fill-opacity:1;\">\n",
       "  <use xlink:href=\"#glyph-1653391830009731-6-1\" x=\"217.860937\" y=\"37.607602\"/>\n",
       "</g>\n",
       "<path style=\"fill:none;stroke-width:0.99628;stroke-linecap:butt;stroke-linejoin:miter;stroke:rgb(100%,0%,0%);stroke-opacity:1;stroke-dasharray:2.98883,2.98883;stroke-miterlimit:10;\" d=\"M 0.00125009 -0.000889406 L 17.008385 -0.000889406 \" transform=\"matrix(0.997973,0,0,-0.997973,148.358127,45.432706)\"/>\n",
       "<g style=\"fill:rgb(0%,0%,0%);fill-opacity:1;\">\n",
       "  <use xlink:href=\"#glyph-1653391830009731-4-11\" x=\"169.288608\" y=\"47.403702\"/>\n",
       "</g>\n",
       "<g style=\"fill:rgb(0%,0%,0%);fill-opacity:1;\">\n",
       "  <use xlink:href=\"#glyph-1653391830009731-4-7\" x=\"177.258468\" y=\"47.403702\"/>\n",
       "  <use xlink:href=\"#glyph-1653391830009731-4-12\" x=\"181.482017\" y=\"47.403702\"/>\n",
       "  <use xlink:href=\"#glyph-1653391830009731-4-6\" x=\"185.705565\" y=\"47.403702\"/>\n",
       "</g>\n",
       "<g style=\"fill:rgb(0%,0%,0%);fill-opacity:1;\">\n",
       "  <use xlink:href=\"#glyph-1653391830009731-4-4\" x=\"192.27553\" y=\"47.403702\"/>\n",
       "  <use xlink:href=\"#glyph-1653391830009731-4-13\" x=\"196.029795\" y=\"47.403702\"/>\n",
       "  <use xlink:href=\"#glyph-1653391830009731-4-5\" x=\"200.722627\" y=\"47.403702\"/>\n",
       "  <use xlink:href=\"#glyph-1653391830009731-4-14\" x=\"204.015563\" y=\"47.403702\"/>\n",
       "</g>\n",
       "<g style=\"fill:rgb(0%,0%,0%);fill-opacity:1;\">\n",
       "  <use xlink:href=\"#glyph-1653391830009731-4-6\" x=\"208.239111\" y=\"47.403702\"/>\n",
       "</g>\n",
       "<g style=\"fill:rgb(0%,0%,0%);fill-opacity:1;\">\n",
       "  <use xlink:href=\"#glyph-1653391830009731-5-1\" x=\"214.809136\" y=\"47.403702\"/>\n",
       "</g>\n",
       "<g style=\"fill:rgb(0%,0%,0%);fill-opacity:1;\">\n",
       "  <use xlink:href=\"#glyph-1653391830009731-6-2\" x=\"217.860937\" y=\"48.508458\"/>\n",
       "</g>\n",
       "<path style=\" stroke:none;fill-rule:nonzero;fill:rgb(100%,100%,100%);fill-opacity:1;\" d=\"M 391.496094 331.773438 L 700.371094 331.773438 L 700.371094 58.824219 L 391.496094 58.824219 Z M 391.496094 331.773438 \"/>\n",
       "<path style=\"fill:none;stroke-width:0.49814;stroke-linecap:butt;stroke-linejoin:miter;stroke:rgb(0%,0%,0%);stroke-opacity:0.1;stroke-miterlimit:10;\" d=\"M -0.00111332 0.000584406 L -0.00111332 273.504283 \" transform=\"matrix(0.997973,0,0,-0.997973,391.497205,331.774021)\"/>\n",
       "<path style=\"fill:none;stroke-width:0.49814;stroke-linecap:butt;stroke-linejoin:miter;stroke:rgb(0%,0%,0%);stroke-opacity:0.1;stroke-miterlimit:10;\" d=\"M -0.00111332 0.000584406 L 309.501348 0.000584406 \" transform=\"matrix(0.997973,0,0,-0.997973,391.497205,331.774021)\"/>\n",
       "<path style=\"fill:none;stroke-width:0.19925;stroke-linecap:butt;stroke-linejoin:miter;stroke:rgb(0%,0%,0%);stroke-opacity:1;stroke-miterlimit:10;\" d=\"M -0.00111332 -2.124818 L -0.00111332 2.125987 \" transform=\"matrix(0.997973,0,0,-0.997973,391.497205,331.774021)\"/>\n",
       "<path style=\"fill:none;stroke-width:0.19925;stroke-linecap:butt;stroke-linejoin:miter;stroke:rgb(0%,0%,0%);stroke-opacity:1;stroke-miterlimit:10;\" d=\"M -2.126516 0.000584406 L 2.124289 0.000584406 \" transform=\"matrix(0.997973,0,0,-0.997973,391.497205,331.774021)\"/>\n",
       "<path style=\"fill:none;stroke-width:0.99628;stroke-linecap:butt;stroke-linejoin:miter;stroke:rgb(0%,0%,0%);stroke-opacity:1;stroke-miterlimit:10;\" d=\"M -0.00111332 0.000584406 L 306.612679 0.000584406 \" transform=\"matrix(0.997973,0,0,-0.997973,391.497205,331.774021)\"/>\n",
       "<path style=\" stroke:none;fill-rule:nonzero;fill:rgb(0%,0%,0%);fill-opacity:1;\" d=\"M 700.371094 331.773438 L 695.757812 329.46875 L 697.488281 331.773438 L 695.757812 334.082031 \"/>\n",
       "<path style=\"fill:none;stroke-width:0.99628;stroke-linecap:butt;stroke-linejoin:miter;stroke:rgb(0%,0%,0%);stroke-opacity:1;stroke-miterlimit:10;\" d=\"M -0.00111332 0.000584406 L -0.00111332 270.6117 \" transform=\"matrix(0.997973,0,0,-0.997973,391.497205,331.774021)\"/>\n",
       "<path style=\" stroke:none;fill-rule:nonzero;fill:rgb(0%,0%,0%);fill-opacity:1;\" d=\"M 391.496094 58.824219 L 389.191406 63.4375 L 391.496094 61.710938 L 393.804688 63.4375 \"/>\n",
       "<g style=\"fill:rgb(0%,0%,0%);fill-opacity:1;\">\n",
       "  <use xlink:href=\"#glyph-1653391830009731-0-1\" x=\"389.384497\" y=\"342.534162\"/>\n",
       "</g>\n",
       "<g style=\"fill:rgb(0%,0%,0%);fill-opacity:1;\">\n",
       "  <use xlink:href=\"#glyph-1653391830009731-0-1\" x=\"381.637235\" y=\"334.336815\"/>\n",
       "</g>\n",
       "<g clip-path=\"url(#clip-1653391830009731-7)\" clip-rule=\"nonzero\">\n",
       "<path style=\"fill:none;stroke-width:0.99628;stroke-linecap:butt;stroke-linejoin:miter;stroke:rgb(0%,0%,100%);stroke-opacity:1;stroke-miterlimit:10;\" d=\"M 310.483808 30.472517 L 307.59514 31.693743 L 304.835639 32.914969 L 302.197478 34.136195 L 299.668914 35.35742 L 297.24212 36.578646 L 294.909265 37.799872 L 292.662523 39.021098 L 290.497978 40.242324 L 288.415632 41.463549 L 286.399826 42.684775 L 284.454476 43.906001 L 282.571753 45.127227 L 280.747743 46.348453 L 278.982445 47.569679 L 277.268032 48.790904 L 275.608417 50.01213 L 273.991859 51.233356 L 272.42227 52.454582 L 270.895738 53.675808 L 269.412262 54.897033 L 267.967928 56.118259 L 266.558821 57.339485 L 265.184942 58.560711 L 263.84629 59.781937 L 262.538953 61.003163 L 261.262928 62.224388 L 260.018217 63.445614 L 258.800906 64.66684 L 257.610993 65.888066 L 256.44848 67.109292 L 255.309452 68.330517 L 254.193909 69.551743 L 253.101852 70.772969 L 252.033279 71.994195 L 250.988192 73.215421 L 249.962675 74.436647 L 248.956729 75.657872 L 247.970355 76.879098 L 246.999637 78.100324 L 246.052404 79.32155 L 245.116914 80.542776 L 244.204909 81.764001 L 243.304646 82.985227 L 242.42004 84.206453 L 241.555005 85.427679 L 240.701713 86.648905 L 239.860163 87.870131 L 239.038184 89.091356 L 238.224033 90.312582 L 237.42554 91.533808 L 236.642702 92.755034 L 235.867694 93.97626 L 235.108342 95.197485 L 234.360732 96.418711 L 233.620951 97.639937 L 232.896827 98.861163 L 232.180531 100.082389 L 231.475978 101.303615 L 230.779253 102.52484 L 230.09427 103.746066 L 229.417116 104.967292 L 228.751705 106.188518 L 228.094122 107.409744 L 227.448281 108.630969 L 226.810269 109.852195 L 226.180085 111.073421 L 225.55773 112.294647 L 224.943203 113.515873 L 224.336504 114.737099 L 223.737634 115.958324 L 223.146592 117.183464 L 222.563378 118.40469 L 221.987993 119.625916 L 221.420436 120.847142 L 220.856793 122.068368 L 219.752993 124.510819 L 219.212835 125.732045 L 218.676592 126.953271 L 218.148177 128.174497 L 217.623676 129.395723 L 217.107004 130.616948 L 216.605988 131.838174 L 216.089315 133.0594 L 215.095112 135.501852 L 214.605839 136.723077 L 213.64295 139.165529 L 213.169333 140.386755 L 212.237757 142.829207 L 211.779797 144.050432 L 211.325752 145.271658 L 210.875621 146.492884 L 210.429403 147.71411 L 209.552626 150.156561 L 209.122066 151.377787 L 208.268773 153.820239 L 207.849955 155.041465 L 207.435052 156.262691 L 207.024062 157.483916 L 206.616987 158.705142 L 206.213826 159.926368 L 205.415332 162.36882 L 204.632495 164.811271 L 203.865315 167.253723 L 203.485639 168.474949 L 203.109877 169.696175 L 202.738029 170.9174 L 202.370096 172.138626 L 201.642057 174.581078 L 201.281952 175.802304 L 200.925761 177.023529 L 200.221208 179.465981 L 199.872846 180.687207 L 199.528397 181.908433 L 198.847329 184.350884 L 198.510709 185.57211 L 197.845298 188.014562 L 197.516506 189.235788 L 196.866751 191.678239 L 196.545788 192.899465 L 195.91169 195.341917 L 195.598555 196.563143 L 194.670893 200.22682 L 194.369501 201.448046 L 194.064195 202.669272 L 193.17176 206.332949 L 192.878196 207.554175 L 192.298897 209.996627 L 191.727426 212.439078 L 190.881962 216.102756 L 190.607969 217.323981 L 190.330062 218.545207 L 190.056069 219.766433 L 189.515911 222.208885 L 188.717417 225.872562 L 188.192917 228.315014 L 187.676244 230.757466 L 186.912978 234.421143 L 186.66247 235.642369 L 186.415877 236.863595 L 186.165369 238.08482 L 185.918775 239.306046 L 185.190737 242.969724 L 184.474441 246.633401 L 183.769887 250.297079 L 183.308013 252.73953 L 182.399922 257.624434 L 181.953705 260.066885 L 181.076928 264.951788 L 180.646367 267.39424 L 180.435001 268.615466 L 180.219721 269.840606 L 180.012269 271.061832 L 179.800903 272.283058 L 179.593452 273.504283 \" transform=\"matrix(0.997973,0,0,-0.997973,391.497205,331.774021)\"/>\n",
       "</g>\n",
       "<g clip-path=\"url(#clip-1653391830009731-8)\" clip-rule=\"nonzero\">\n",
       "<path style=\"fill:none;stroke-width:0.99628;stroke-linecap:butt;stroke-linejoin:miter;stroke:rgb(0%,0%,100%);stroke-opacity:1;stroke-dasharray:2.98883,2.98883;stroke-miterlimit:10;\" d=\"M 264.077227 30.472517 L 261.540835 31.693743 L 259.117955 32.914969 L 256.804671 34.136195 L 254.585328 35.35742 L 252.459925 36.578646 L 250.412806 37.799872 L 248.447885 39.021098 L 246.557334 40.242324 L 244.733324 41.463549 L 242.97194 42.684775 L 241.26927 43.906001 L 239.625312 45.127227 L 238.032238 46.348453 L 236.490049 47.569679 L 234.99483 48.790904 L 233.546582 50.01213 L 232.137475 51.233356 L 230.76751 52.454582 L 229.436687 53.675808 L 228.145006 54.897033 L 226.884639 56.118259 L 225.659498 57.339485 L 224.461758 58.560711 L 223.299245 59.781937 L 222.160217 61.003163 L 221.052502 62.224388 L 219.968273 63.445614 L 218.911443 64.66684 L 217.874184 65.888066 L 216.864324 67.109292 L 215.874035 68.330517 L 214.907231 69.551743 L 213.959999 70.772969 L 213.032337 71.994195 L 212.124246 73.215421 L 211.231811 74.436647 L 210.358948 75.657872 L 209.505656 76.879098 L 208.664106 78.100324 L 207.842127 79.32155 L 207.031891 80.542776 L 206.241225 81.764001 L 205.458388 82.985227 L 204.695122 84.206453 L 203.943598 85.427679 L 203.203817 86.648905 L 202.479693 87.870131 L 201.763397 89.091356 L 201.062758 90.312582 L 200.369947 91.533808 L 199.692793 92.755034 L 199.023467 93.97626 L 198.365884 95.197485 L 197.71613 96.418711 L 197.078117 97.639937 L 196.451848 98.861163 L 195.833406 100.082389 L 195.222793 101.303615 L 194.620009 102.52484 L 194.028967 103.746066 L 193.445753 104.967292 L 192.870368 106.188518 L 192.302811 107.409744 L 191.743083 108.630969 L 191.191183 109.852195 L 190.647111 111.073421 L 190.110867 112.294647 L 189.578538 113.515873 L 189.057952 114.737099 L 188.541279 115.958324 L 188.032435 117.183464 L 187.527505 118.40469 L 187.030404 119.625916 L 186.54113 120.847142 L 186.055771 122.068368 L 185.578241 123.289593 L 185.104624 124.510819 L 184.638836 125.732045 L 184.16522 126.953271 L 183.719003 128.174497 L 183.268872 129.395723 L 182.822654 130.616948 L 182.380351 131.838174 L 181.945877 133.0594 L 181.515317 134.280626 L 181.08867 135.501852 L 180.251035 137.944303 L 179.840045 139.165529 L 179.025895 141.607981 L 178.626648 142.829207 L 177.843811 145.271658 L 177.456306 146.492884 L 177.072716 147.71411 L 176.69304 148.935336 L 176.317278 150.156561 L 175.945431 151.377787 L 175.577497 152.599013 L 175.213478 153.820239 L 174.853373 155.041465 L 174.140991 157.483916 L 173.444266 159.926368 L 173.103732 161.147594 L 172.759284 162.36882 L 172.086044 164.811271 L 171.428461 167.253723 L 170.778706 169.696175 L 170.457743 170.9174 L 170.140694 172.138626 L 169.827559 173.359852 L 168.899897 177.023529 L 168.297113 179.465981 L 167.702157 181.908433 L 167.115029 184.350884 L 166.829293 185.57211 L 166.539643 186.793336 L 165.694179 190.457013 L 165.416272 191.678239 L 164.868286 194.120691 L 164.328129 196.563143 L 163.7958 199.005594 L 163.271299 201.448046 L 163.012963 202.669272 L 162.75854 203.890497 L 162.500204 205.111723 L 162.249696 206.332949 L 161.995274 207.554175 L 161.748681 208.775401 L 161.498173 209.996627 L 161.251579 211.217852 L 161.012814 212.439078 L 160.76622 213.660304 L 160.523541 214.88153 L 160.284775 216.102756 L 160.049924 217.323981 L 159.811159 218.545207 L 159.576308 219.766433 L 158.883497 223.430111 L 158.429452 225.872562 L 157.537017 230.757466 L 157.317823 231.978691 L 156.456702 236.863595 L 155.822604 240.527272 L 155.4077 242.969724 L 154.59355 247.854627 L 153.99468 251.518304 L 153.407552 255.181982 L 152.640371 260.066885 L 152.076729 263.730563 L 151.892762 264.951788 L 151.704881 266.173014 L 151.520914 267.39424 L 151.340862 268.615466 L 151.160809 269.840606 L 150.976843 271.061832 L 150.79679 272.283058 L 150.620652 273.504283 \" transform=\"matrix(0.997973,0,0,-0.997973,391.497205,331.774021)\"/>\n",
       "</g>\n",
       "<g clip-path=\"url(#clip-1653391830009731-9)\" clip-rule=\"nonzero\">\n",
       "<path style=\"fill:none;stroke-width:0.99628;stroke-linecap:butt;stroke-linejoin:miter;stroke:rgb(100%,0%,0%);stroke-opacity:1;stroke-miterlimit:10;\" d=\"M 20.634472 5.527414 L 22.086634 5.914918 L 23.534883 6.306337 L 26.439208 7.081346 L 27.891371 7.472764 L 30.795697 8.247773 L 32.247859 8.639191 L 33.696108 9.026696 L 35.148271 9.4142 L 36.600434 9.805619 L 39.504759 10.580627 L 40.956922 10.972046 L 42.409085 11.35955 L 43.857333 11.747055 L 45.309496 12.138473 L 48.213821 12.913482 L 49.665984 13.3049 L 52.57031 14.079909 L 54.018558 14.471328 L 56.922884 15.246336 L 58.375046 15.637755 L 61.279372 16.412763 L 62.731535 16.804182 L 64.179783 17.191686 L 65.631946 17.579191 L 67.084109 17.970609 L 69.988434 18.745618 L 71.440597 19.137036 L 72.89276 19.524541 L 74.341008 19.912045 L 75.793171 20.303464 L 78.697497 21.078472 L 80.149659 21.469891 L 83.053985 22.2449 L 84.502233 22.636318 L 87.406559 23.411327 L 88.858722 23.802745 L 91.763047 24.577754 L 93.21521 24.969173 L 94.663459 25.356677 L 96.115621 25.744181 L 97.567784 26.1356 L 100.47211 26.910608 L 101.924272 27.302027 L 103.376435 27.689531 L 104.824684 28.077036 L 106.276846 28.468454 L 109.181172 29.243463 L 110.633335 29.634881 L 113.53766 30.40989 L 114.985909 30.801309 L 117.890234 31.576317 L 119.342397 31.967736 L 122.246722 32.742745 L 123.698885 33.134163 L 125.147134 33.521667 L 126.599297 33.909172 L 128.051459 34.30059 L 130.955785 35.075599 L 132.407948 35.467018 L 133.86011 35.854522 L 135.308359 36.242026 L 136.760522 36.633445 L 139.664847 37.408453 L 141.11701 37.799872 L 142.569173 38.187376 L 144.021335 38.578795 L 145.469584 38.966299 L 146.921747 39.353804 L 148.373909 39.745222 L 151.278235 40.520231 L 152.730398 40.911649 L 154.18256 41.299154 L 155.630809 41.686658 L 157.082972 42.078077 L 159.987297 42.853085 L 161.43946 43.244504 L 164.343786 44.019512 L 165.792034 44.410931 L 168.69636 45.18594 L 170.148522 45.577358 L 173.052848 46.352367 L 174.505011 46.743785 L 175.953259 47.13129 L 177.405422 47.518794 L 178.857585 47.910213 L 181.76191 48.685221 L 183.214073 49.07664 L 184.666236 49.464144 L 186.114484 49.851649 L 187.566647 50.243067 L 190.470973 51.018076 L 191.923135 51.409494 L 194.827461 52.184503 L 196.275709 52.575922 L 199.180035 53.35093 L 200.632198 53.742349 L 203.536523 54.517357 L 204.988686 54.908776 L 206.436934 55.29628 L 207.889097 55.683785 L 209.34126 56.075203 L 212.245585 56.850212 L 213.697748 57.24163 L 215.149911 57.629135 L 216.598159 58.016639 L 218.050322 58.408058 L 220.954648 59.183066 L 222.406811 59.574485 L 225.311136 60.349494 L 226.759385 60.740912 L 229.66371 61.515921 L 231.115873 61.907339 L 234.020198 62.682348 L 235.472361 63.073767 L 236.92061 63.461271 L 238.372772 63.848775 L 239.824935 64.240194 L 242.729261 65.015202 L 244.181423 65.406621 L 245.633586 65.794125 L 247.081835 66.18163 L 248.533997 66.573048 L 251.438323 67.348057 L 252.890486 67.739475 L 255.794811 68.514484 L 257.24306 68.905903 L 260.147385 69.680911 L 261.599548 70.07233 L 264.503874 70.847339 L 265.956036 71.238757 L 267.404285 71.626261 L 268.856448 72.013766 L 270.30861 72.405184 L 273.212936 73.180193 L 274.665099 73.571612 L 276.117261 73.959116 L 277.56551 74.350534 L 280.469835 75.125543 L 281.921998 75.516962 L 284.826324 76.29197 L 286.278486 76.683389 L 287.726735 77.070893 L 289.178898 77.458398 L 290.631061 77.849816 L 293.535386 78.624825 L 294.987549 79.016243 L 296.439712 79.403748 L 297.88796 79.791252 L 299.340123 80.182671 L 302.244448 80.957679 L 303.696611 81.349098 L 306.600937 82.124107 L 308.049185 82.515525 L 309.501348 82.903029 \" transform=\"matrix(0.997973,0,0,-0.997973,391.497205,331.774021)\"/>\n",
       "</g>\n",
       "<g clip-path=\"url(#clip-1653391830009731-10)\" clip-rule=\"nonzero\">\n",
       "<path style=\"fill:none;stroke-width:0.99628;stroke-linecap:butt;stroke-linejoin:miter;stroke:rgb(100%,0%,0%);stroke-opacity:1;stroke-dasharray:2.98883,2.98883;stroke-miterlimit:10;\" d=\"M 20.634472 7.08526 L 22.086634 7.586276 L 23.534883 8.083377 L 24.987046 8.580479 L 26.439208 9.081494 L 29.343534 10.075697 L 30.795697 10.576713 L 32.247859 11.073815 L 33.696108 11.570916 L 35.148271 12.071932 L 38.052596 13.066135 L 39.504759 13.567151 L 40.956922 14.064252 L 42.409085 14.565268 L 43.857333 15.06237 L 45.309496 15.559471 L 46.761659 16.060487 L 49.665984 17.05469 L 51.118147 17.555706 L 52.57031 18.052807 L 54.018558 18.549909 L 55.470721 19.050924 L 58.375046 20.045127 L 59.827209 20.546143 L 61.279372 21.043245 L 62.731535 21.54426 L 64.179783 22.041362 L 65.631946 22.538463 L 67.084109 23.039479 L 69.988434 24.033682 L 71.440597 24.534698 L 72.89276 25.031799 L 74.341008 25.528901 L 75.793171 26.029917 L 78.697497 27.02412 L 80.149659 27.525136 L 81.601822 28.022237 L 83.053985 28.523253 L 84.502233 29.020354 L 85.954396 29.517456 L 87.406559 30.018472 L 90.310884 31.012675 L 91.763047 31.51369 L 93.21521 32.010792 L 94.663459 32.507893 L 96.115621 33.008909 L 99.019947 34.003112 L 100.47211 34.504128 L 101.924272 35.001229 L 103.376435 35.502245 L 104.824684 35.999347 L 106.276846 36.496448 L 107.729009 36.997464 L 110.633335 37.991667 L 112.085497 38.492683 L 113.53766 38.989784 L 114.985909 39.486886 L 116.438071 39.987902 L 119.342397 40.982105 L 120.79456 41.48312 L 122.246722 41.980222 L 123.698885 42.481238 L 125.147134 42.978339 L 126.599297 43.475441 L 128.051459 43.976456 L 130.955785 44.970659 L 132.407948 45.471675 L 133.86011 45.968777 L 135.308359 46.465878 L 136.760522 46.966894 L 139.664847 47.961097 L 141.11701 48.462113 L 142.569173 48.959214 L 144.021335 49.46023 L 145.469584 49.957332 L 146.921747 50.454433 L 148.373909 50.955449 L 151.278235 51.949652 L 152.730398 52.450668 L 154.18256 52.947769 L 155.630809 53.444871 L 157.082972 53.945886 L 159.987297 54.940089 L 161.43946 55.441105 L 162.891623 55.938207 L 164.343786 56.439222 L 165.792034 56.936324 L 167.244197 57.433426 L 168.69636 57.934441 L 171.600685 58.928644 L 173.052848 59.42966 L 174.505011 59.926762 L 175.953259 60.423863 L 177.405422 60.924879 L 180.309747 61.919082 L 181.76191 62.420098 L 183.214073 62.917199 L 184.666236 63.418215 L 186.114484 63.915316 L 187.566647 64.412418 L 189.01881 64.913434 L 191.923135 65.907637 L 193.375298 66.408652 L 194.827461 66.905754 L 196.275709 67.402856 L 197.727872 67.903871 L 200.632198 68.898074 L 202.08436 69.39909 L 203.536523 69.896192 L 204.988686 70.397207 L 206.436934 70.894309 L 207.889097 71.39141 L 209.34126 71.892426 L 212.245585 72.886629 L 213.697748 73.387645 L 215.149911 73.884746 L 216.598159 74.381848 L 218.050322 74.882864 L 220.954648 75.877067 L 222.406811 76.378082 L 223.858973 76.875184 L 225.311136 77.3762 L 226.759385 77.873301 L 228.211547 78.370403 L 229.66371 78.871419 L 232.568036 79.865622 L 234.020198 80.366637 L 235.472361 80.863739 L 236.92061 81.36084 L 238.372772 81.861856 L 241.277098 82.856059 L 242.729261 83.357075 L 244.181423 83.854176 L 245.633586 84.355192 L 247.081835 84.852294 L 248.533997 85.349395 L 249.98616 85.850411 L 252.890486 86.844614 L 254.342648 87.34563 L 255.794811 87.842731 L 257.24306 88.339833 L 258.695223 88.840849 L 261.599548 89.835052 L 263.051711 90.336067 L 264.503874 90.833169 L 265.956036 91.334185 L 267.404285 91.831286 L 268.856448 92.328388 L 270.30861 92.829403 L 273.212936 93.823606 L 274.665099 94.324622 L 276.117261 94.821724 L 277.56551 95.318825 L 279.017673 95.819841 L 281.921998 96.814044 L 283.374161 97.31506 L 284.826324 97.812161 L 286.278486 98.313177 L 287.726735 98.810279 L 289.178898 99.30738 L 290.631061 99.808396 L 293.535386 100.802599 L 294.987549 101.303615 L 296.439712 101.800716 L 297.88796 102.297818 L 299.340123 102.798833 L 302.244448 103.793036 L 303.696611 104.294052 L 305.148774 104.791154 L 306.600937 105.292169 L 308.049185 105.789271 L 309.501348 106.286372 \" transform=\"matrix(0.997973,0,0,-0.997973,391.497205,331.774021)\"/>\n",
       "</g>\n",
       "<g clip-path=\"url(#clip-1653391830009731-11)\" clip-rule=\"nonzero\">\n",
       "<path style=\"fill:none;stroke-width:0.99628;stroke-linecap:butt;stroke-linejoin:miter;stroke:rgb(0%,0%,0%);stroke-opacity:1;stroke-miterlimit:10;\" d=\"M 255.266396 -273.503115 L 255.266396 547.004068 \" transform=\"matrix(0.997973,0,0,-0.997973,391.497205,331.774021)\"/>\n",
       "</g>\n",
       "<g clip-path=\"url(#clip-1653391830009731-12)\" clip-rule=\"nonzero\">\n",
       "<path style=\"fill:none;stroke-width:0.99628;stroke-linecap:butt;stroke-linejoin:miter;stroke:rgb(0%,0%,0%);stroke-opacity:1;stroke-dasharray:2.98883,2.98883;stroke-miterlimit:10;\" d=\"M 212.34344 -273.503115 L 212.34344 547.004068 \" transform=\"matrix(0.997973,0,0,-0.997973,391.497205,331.774021)\"/>\n",
       "</g>\n",
       "<path style=\"fill:none;stroke-width:0.99628;stroke-linecap:butt;stroke-linejoin:miter;stroke:rgb(0%,0%,0%);stroke-opacity:1;stroke-miterlimit:10;\" d=\"M 255.266396 16.037002 L 215.232109 16.037002 \" transform=\"matrix(0.997973,0,0,-0.997973,391.497205,331.774021)\"/>\n",
       "<path style=\" stroke:none;fill-rule:nonzero;fill:rgb(0%,0%,0%);fill-opacity:1;\" d=\"M 603.410156 315.769531 L 608.023438 318.074219 L 606.292969 315.769531 L 608.023438 313.460938 \"/>\n",
       "<path style=\"fill:none;stroke-width:0.99628;stroke-linecap:butt;stroke-linejoin:miter;stroke:rgb(0%,0%,100%);stroke-opacity:1;stroke-miterlimit:10;\" d=\"M 202.209614 160.380414 L 178.274371 160.380414 \" transform=\"matrix(0.997973,0,0,-0.997973,391.497205,331.774021)\"/>\n",
       "<path style=\" stroke:none;fill-rule:nonzero;fill:rgb(0%,0%,100%);fill-opacity:1;\" d=\"M 566.527344 171.71875 L 571.140625 174.023438 L 569.410156 171.71875 L 571.140625 169.410156 \"/>\n",
       "<path style=\"fill:none;stroke-width:0.99628;stroke-linecap:butt;stroke-linejoin:miter;stroke:rgb(100%,0%,0%);stroke-opacity:1;stroke-miterlimit:10;\" d=\"M 299.18747 83.396217 L 299.18747 93.338247 \" transform=\"matrix(0.997973,0,0,-0.997973,391.497205,331.774021)\"/>\n",
       "<path style=\" stroke:none;fill-rule:nonzero;fill:rgb(100%,0%,0%);fill-opacity:1;\" d=\"M 690.078125 235.742188 L 687.769531 240.355469 L 690.078125 238.625 L 692.382812 240.355469 \"/>\n",
       "<g style=\"fill:rgb(0%,0%,0%);fill-opacity:1;\">\n",
       "  <use xlink:href=\"#glyph-1653391830009731-1-2\" x=\"541.623233\" y=\"356.800182\"/>\n",
       "</g>\n",
       "<g style=\"fill:rgb(0%,0%,0%);fill-opacity:1;\">\n",
       "  <use xlink:href=\"#glyph-1653391830009731-3-2\" x=\"374.811102\" y=\"199.686349\"/>\n",
       "</g>\n",
       "<path style=\"fill-rule:nonzero;fill:rgb(100%,100%,100%);fill-opacity:1;stroke-width:0.99628;stroke-linecap:butt;stroke-linejoin:miter;stroke:rgb(0%,0%,0%);stroke-opacity:1;stroke-miterlimit:10;\" d=\"M 112.880077 279.473416 L 196.620158 279.473416 L 196.620158 327.660951 L 112.880077 327.660951 Z M 112.880077 279.473416 \" transform=\"matrix(0.997973,0,0,-0.997973,391.497205,331.774021)\"/>\n",
       "<path style=\"fill:none;stroke-width:0.99628;stroke-linecap:butt;stroke-linejoin:miter;stroke:rgb(0%,0%,100%);stroke-opacity:1;stroke-miterlimit:10;\" d=\"M 0.000616117 0.000316256 L 17.007751 0.000316256 \" transform=\"matrix(0.997973,0,0,-0.997973,507.628291,12.305003)\"/>\n",
       "<g style=\"fill:rgb(0%,0%,0%);fill-opacity:1;\">\n",
       "  <use xlink:href=\"#glyph-1653391830009731-4-15\" x=\"543.870667\" y=\"14.358831\"/>\n",
       "  <use xlink:href=\"#glyph-1653391830009731-4-16\" x=\"549.852039\" y=\"14.358831\"/>\n",
       "</g>\n",
       "<g style=\"fill:rgb(0%,0%,0%);fill-opacity:1;\">\n",
       "  <use xlink:href=\"#glyph-1653391830009731-5-1\" x=\"558.768403\" y=\"14.358831\"/>\n",
       "</g>\n",
       "<g style=\"fill:rgb(0%,0%,0%);fill-opacity:1;\">\n",
       "  <use xlink:href=\"#glyph-1653391830009731-6-1\" x=\"561.820204\" y=\"15.463587\"/>\n",
       "</g>\n",
       "<path style=\"fill:none;stroke-width:0.99628;stroke-linecap:butt;stroke-linejoin:miter;stroke:rgb(0%,0%,100%);stroke-opacity:1;stroke-dasharray:2.98883,2.98883;stroke-miterlimit:10;\" d=\"M 0.000616117 0.00142926 L 17.007751 0.00142926 \" transform=\"matrix(0.997973,0,0,-0.997973,507.628291,23.37252)\"/>\n",
       "<g style=\"fill:rgb(0%,0%,0%);fill-opacity:1;\">\n",
       "  <use xlink:href=\"#glyph-1653391830009731-4-15\" x=\"543.870667\" y=\"25.426348\"/>\n",
       "  <use xlink:href=\"#glyph-1653391830009731-4-16\" x=\"549.852039\" y=\"25.426348\"/>\n",
       "</g>\n",
       "<g style=\"fill:rgb(0%,0%,0%);fill-opacity:1;\">\n",
       "  <use xlink:href=\"#glyph-1653391830009731-5-1\" x=\"558.768403\" y=\"25.426348\"/>\n",
       "</g>\n",
       "<g style=\"fill:rgb(0%,0%,0%);fill-opacity:1;\">\n",
       "  <use xlink:href=\"#glyph-1653391830009731-6-2\" x=\"561.820204\" y=\"26.531104\"/>\n",
       "</g>\n",
       "<path style=\"fill:none;stroke-width:0.99628;stroke-linecap:butt;stroke-linejoin:miter;stroke:rgb(100%,0%,0%);stroke-opacity:1;stroke-miterlimit:10;\" d=\"M 0.000616117 -0.00123007 L 17.007751 -0.00123007 \" transform=\"matrix(0.997973,0,0,-0.997973,507.628291,34.401116)\"/>\n",
       "<g style=\"fill:rgb(0%,0%,0%);fill-opacity:1;\">\n",
       "  <use xlink:href=\"#glyph-1653391830009731-4-1\" x=\"527.087761\" y=\"36.415025\"/>\n",
       "  <use xlink:href=\"#glyph-1653391830009731-4-2\" x=\"531.430618\" y=\"36.415025\"/>\n",
       "  <use xlink:href=\"#glyph-1653391830009731-4-3\" x=\"535.654167\" y=\"36.415025\"/>\n",
       "</g>\n",
       "<g style=\"fill:rgb(0%,0%,0%);fill-opacity:1;\">\n",
       "  <use xlink:href=\"#glyph-1653391830009731-4-4\" x=\"543.162698\" y=\"36.415025\"/>\n",
       "  <use xlink:href=\"#glyph-1653391830009731-4-5\" x=\"546.916963\" y=\"36.415025\"/>\n",
       "  <use xlink:href=\"#glyph-1653391830009731-4-6\" x=\"550.209899\" y=\"36.415025\"/>\n",
       "  <use xlink:href=\"#glyph-1653391830009731-4-7\" x=\"553.964164\" y=\"36.415025\"/>\n",
       "  <use xlink:href=\"#glyph-1653391830009731-4-8\" x=\"558.187713\" y=\"36.415025\"/>\n",
       "  <use xlink:href=\"#glyph-1653391830009731-4-9\" x=\"561.472695\" y=\"36.415025\"/>\n",
       "  <use xlink:href=\"#glyph-1653391830009731-4-2\" x=\"563.819111\" y=\"36.415025\"/>\n",
       "  <use xlink:href=\"#glyph-1653391830009731-4-10\" x=\"568.04266\" y=\"36.415025\"/>\n",
       "</g>\n",
       "<g style=\"fill:rgb(0%,0%,0%);fill-opacity:1;\">\n",
       "  <use xlink:href=\"#glyph-1653391830009731-5-1\" x=\"575.55131\" y=\"36.415025\"/>\n",
       "</g>\n",
       "<g style=\"fill:rgb(0%,0%,0%);fill-opacity:1;\">\n",
       "  <use xlink:href=\"#glyph-1653391830009731-6-1\" x=\"578.60311\" y=\"37.519781\"/>\n",
       "</g>\n",
       "<path style=\"fill:none;stroke-width:0.99628;stroke-linecap:butt;stroke-linejoin:miter;stroke:rgb(100%,0%,0%);stroke-opacity:1;stroke-dasharray:2.98883,2.98883;stroke-miterlimit:10;\" d=\"M 0.000616117 -0.00183337 L 17.007751 -0.00183337 \" transform=\"matrix(0.997973,0,0,-0.997973,507.628291,45.388795)\"/>\n",
       "<g style=\"fill:rgb(0%,0%,0%);fill-opacity:1;\">\n",
       "  <use xlink:href=\"#glyph-1653391830009731-4-1\" x=\"527.087761\" y=\"47.403702\"/>\n",
       "  <use xlink:href=\"#glyph-1653391830009731-4-2\" x=\"531.430618\" y=\"47.403702\"/>\n",
       "  <use xlink:href=\"#glyph-1653391830009731-4-3\" x=\"535.654167\" y=\"47.403702\"/>\n",
       "</g>\n",
       "<g style=\"fill:rgb(0%,0%,0%);fill-opacity:1;\">\n",
       "  <use xlink:href=\"#glyph-1653391830009731-4-4\" x=\"543.162698\" y=\"47.403702\"/>\n",
       "  <use xlink:href=\"#glyph-1653391830009731-4-5\" x=\"546.916963\" y=\"47.403702\"/>\n",
       "  <use xlink:href=\"#glyph-1653391830009731-4-6\" x=\"550.209899\" y=\"47.403702\"/>\n",
       "  <use xlink:href=\"#glyph-1653391830009731-4-7\" x=\"553.964164\" y=\"47.403702\"/>\n",
       "  <use xlink:href=\"#glyph-1653391830009731-4-8\" x=\"558.187713\" y=\"47.403702\"/>\n",
       "  <use xlink:href=\"#glyph-1653391830009731-4-9\" x=\"561.472695\" y=\"47.403702\"/>\n",
       "  <use xlink:href=\"#glyph-1653391830009731-4-2\" x=\"563.819111\" y=\"47.403702\"/>\n",
       "  <use xlink:href=\"#glyph-1653391830009731-4-10\" x=\"568.04266\" y=\"47.403702\"/>\n",
       "</g>\n",
       "<g style=\"fill:rgb(0%,0%,0%);fill-opacity:1;\">\n",
       "  <use xlink:href=\"#glyph-1653391830009731-5-1\" x=\"575.55131\" y=\"47.403702\"/>\n",
       "</g>\n",
       "<g style=\"fill:rgb(0%,0%,0%);fill-opacity:1;\">\n",
       "  <use xlink:href=\"#glyph-1653391830009731-6-2\" x=\"578.60311\" y=\"48.508458\"/>\n",
       "</g>\n",
       "</g>\n",
       "</svg>\n",
       "\n"
      ]
     },
     "execution_count": 52,
     "metadata": {},
     "output_type": "execute_result"
    }
   ],
   "source": [
    "p0 = plot(p1, p2, dpi=1000, legend=:outertop)\n",
    "ratio=9/20\n",
    "w = 1000\n",
    "h = w*ratio\n",
    "plot!(size=(w,h))\n",
    "\n",
    "savefig(p0, \"equilibrium.png\")\n",
    "p0"
   ]
  }
 ],
 "metadata": {
  "kernelspec": {
   "display_name": "Julia 1.7.1",
   "language": "julia",
   "name": "julia-1.7"
  },
  "language_info": {
   "file_extension": ".jl",
   "mimetype": "application/julia",
   "name": "julia",
   "version": "1.7.1"
  }
 },
 "nbformat": 4,
 "nbformat_minor": 5
}
